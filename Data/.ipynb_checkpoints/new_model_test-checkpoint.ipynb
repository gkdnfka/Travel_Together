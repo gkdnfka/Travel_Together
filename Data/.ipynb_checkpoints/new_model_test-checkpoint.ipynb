{
 "cells": [
  {
   "cell_type": "markdown",
   "id": "6ee234b7",
   "metadata": {},
   "source": [
    "# 새 모델 테스트\n",
    "## 방법\n",
    "1. 유저 카테고리 선호도를 분산/표준편차를 구한다.\n",
    "2. 분산이 높은 순으로 나열.\n",
    "3. 임의의 방법으로 해당 선호도를 x,y좌표계로 변환.\n",
    "4. 성별은 z축이 되어 구분됨.\n",
    "5. sequential 모델에 train\n",
    "6. 좌표 - 선호 카테고리 간의 상관관계 학습,\n",
    "7. profit!"
   ]
  },
  {
   "cell_type": "code",
   "execution_count": 1,
   "id": "d7afd505",
   "metadata": {},
   "outputs": [
    {
     "data": {
      "text/html": [
       "<div>\n",
       "<style scoped>\n",
       "    .dataframe tbody tr th:only-of-type {\n",
       "        vertical-align: middle;\n",
       "    }\n",
       "\n",
       "    .dataframe tbody tr th {\n",
       "        vertical-align: top;\n",
       "    }\n",
       "\n",
       "    .dataframe thead th {\n",
       "        text-align: right;\n",
       "    }\n",
       "</style>\n",
       "<table border=\"1\" class=\"dataframe\">\n",
       "  <thead>\n",
       "    <tr style=\"text-align: right;\">\n",
       "      <th></th>\n",
       "      <th>성별</th>\n",
       "      <th>휴양</th>\n",
       "      <th>자연경관</th>\n",
       "      <th>문화유산</th>\n",
       "      <th>액티비티</th>\n",
       "      <th>쇼핑</th>\n",
       "      <th>공연</th>\n",
       "      <th>전시물</th>\n",
       "      <th>경험</th>\n",
       "    </tr>\n",
       "  </thead>\n",
       "  <tbody>\n",
       "    <tr>\n",
       "      <th>0</th>\n",
       "      <td>남성</td>\n",
       "      <td>5</td>\n",
       "      <td>4</td>\n",
       "      <td>4</td>\n",
       "      <td>3</td>\n",
       "      <td>3</td>\n",
       "      <td>3</td>\n",
       "      <td>4</td>\n",
       "      <td>문화유산</td>\n",
       "    </tr>\n",
       "    <tr>\n",
       "      <th>1</th>\n",
       "      <td>남성</td>\n",
       "      <td>3</td>\n",
       "      <td>3</td>\n",
       "      <td>3</td>\n",
       "      <td>5</td>\n",
       "      <td>4</td>\n",
       "      <td>4</td>\n",
       "      <td>3</td>\n",
       "      <td>문화유산</td>\n",
       "    </tr>\n",
       "    <tr>\n",
       "      <th>2</th>\n",
       "      <td>여성</td>\n",
       "      <td>5</td>\n",
       "      <td>5</td>\n",
       "      <td>4</td>\n",
       "      <td>4</td>\n",
       "      <td>3</td>\n",
       "      <td>5</td>\n",
       "      <td>4</td>\n",
       "      <td>문화유산, 쇼핑, 전시물</td>\n",
       "    </tr>\n",
       "    <tr>\n",
       "      <th>3</th>\n",
       "      <td>여성</td>\n",
       "      <td>5</td>\n",
       "      <td>1</td>\n",
       "      <td>1</td>\n",
       "      <td>5</td>\n",
       "      <td>3</td>\n",
       "      <td>3</td>\n",
       "      <td>1</td>\n",
       "      <td>쇼핑</td>\n",
       "    </tr>\n",
       "    <tr>\n",
       "      <th>4</th>\n",
       "      <td>남성</td>\n",
       "      <td>5</td>\n",
       "      <td>5</td>\n",
       "      <td>4</td>\n",
       "      <td>5</td>\n",
       "      <td>5</td>\n",
       "      <td>5</td>\n",
       "      <td>5</td>\n",
       "      <td>쇼핑</td>\n",
       "    </tr>\n",
       "    <tr>\n",
       "      <th>...</th>\n",
       "      <td>...</td>\n",
       "      <td>...</td>\n",
       "      <td>...</td>\n",
       "      <td>...</td>\n",
       "      <td>...</td>\n",
       "      <td>...</td>\n",
       "      <td>...</td>\n",
       "      <td>...</td>\n",
       "      <td>...</td>\n",
       "    </tr>\n",
       "    <tr>\n",
       "      <th>144</th>\n",
       "      <td>남성</td>\n",
       "      <td>4</td>\n",
       "      <td>5</td>\n",
       "      <td>4</td>\n",
       "      <td>3</td>\n",
       "      <td>2</td>\n",
       "      <td>2</td>\n",
       "      <td>2</td>\n",
       "      <td>휴양, 자연경관, 액티비티</td>\n",
       "    </tr>\n",
       "    <tr>\n",
       "      <th>145</th>\n",
       "      <td>남성</td>\n",
       "      <td>3</td>\n",
       "      <td>4</td>\n",
       "      <td>1</td>\n",
       "      <td>4</td>\n",
       "      <td>2</td>\n",
       "      <td>5</td>\n",
       "      <td>5</td>\n",
       "      <td>휴양, 자연경관, 액티비티</td>\n",
       "    </tr>\n",
       "    <tr>\n",
       "      <th>146</th>\n",
       "      <td>여성</td>\n",
       "      <td>4</td>\n",
       "      <td>5</td>\n",
       "      <td>4</td>\n",
       "      <td>5</td>\n",
       "      <td>2</td>\n",
       "      <td>4</td>\n",
       "      <td>4</td>\n",
       "      <td>휴양, 자연경관, 액티비티, 쇼핑</td>\n",
       "    </tr>\n",
       "    <tr>\n",
       "      <th>147</th>\n",
       "      <td>여성</td>\n",
       "      <td>4</td>\n",
       "      <td>4</td>\n",
       "      <td>3</td>\n",
       "      <td>3</td>\n",
       "      <td>4</td>\n",
       "      <td>4</td>\n",
       "      <td>3</td>\n",
       "      <td>휴양, 전시물</td>\n",
       "    </tr>\n",
       "    <tr>\n",
       "      <th>148</th>\n",
       "      <td>여성</td>\n",
       "      <td>5</td>\n",
       "      <td>3</td>\n",
       "      <td>4</td>\n",
       "      <td>1</td>\n",
       "      <td>4</td>\n",
       "      <td>2</td>\n",
       "      <td>5</td>\n",
       "      <td>휴양, 전시물</td>\n",
       "    </tr>\n",
       "  </tbody>\n",
       "</table>\n",
       "<p>149 rows × 9 columns</p>\n",
       "</div>"
      ],
      "text/plain": [
       "     성별  휴양  자연경관  문화유산  액티비티  쇼핑  공연  전시물                  경험\n",
       "0    남성   5     4     4     3   3   3    4                문화유산\n",
       "1    남성   3     3     3     5   4   4    3                문화유산\n",
       "2    여성   5     5     4     4   3   5    4       문화유산, 쇼핑, 전시물\n",
       "3    여성   5     1     1     5   3   3    1                  쇼핑\n",
       "4    남성   5     5     4     5   5   5    5                  쇼핑\n",
       "..   ..  ..   ...   ...   ...  ..  ..  ...                 ...\n",
       "144  남성   4     5     4     3   2   2    2      휴양, 자연경관, 액티비티\n",
       "145  남성   3     4     1     4   2   5    5      휴양, 자연경관, 액티비티\n",
       "146  여성   4     5     4     5   2   4    4  휴양, 자연경관, 액티비티, 쇼핑\n",
       "147  여성   4     4     3     3   4   4    3             휴양, 전시물\n",
       "148  여성   5     3     4     1   4   2    5             휴양, 전시물\n",
       "\n",
       "[149 rows x 9 columns]"
      ]
     },
     "execution_count": 1,
     "metadata": {},
     "output_type": "execute_result"
    }
   ],
   "source": [
    "import pandas as pd\n",
    "\n",
    "df = pd.read_csv(\"./survey_data_after.csv\", encoding = \"euc-kr\")\n",
    "df"
   ]
  },
  {
   "cell_type": "code",
   "execution_count": 2,
   "id": "1618962d",
   "metadata": {},
   "outputs": [
    {
     "data": {
      "text/plain": [
       "0      남성\n",
       "1      남성\n",
       "2      여성\n",
       "3      여성\n",
       "4      남성\n",
       "       ..\n",
       "144    남성\n",
       "145    남성\n",
       "146    여성\n",
       "147    여성\n",
       "148    여성\n",
       "Name: 성별, Length: 149, dtype: object"
      ]
     },
     "execution_count": 2,
     "metadata": {},
     "output_type": "execute_result"
    }
   ],
   "source": [
    "df.loc[:, \"성별\"]"
   ]
  },
  {
   "cell_type": "code",
   "execution_count": 3,
   "id": "9166138e",
   "metadata": {},
   "outputs": [
    {
     "data": {
      "text/plain": [
       "array([0.65870907, 1.19300932, 1.74802937, 1.44434935, 1.23363812,\n",
       "       1.41498131, 1.59938741])"
      ]
     },
     "execution_count": 3,
     "metadata": {},
     "output_type": "execute_result"
    }
   ],
   "source": [
    "import numpy as np\n",
    "var_arr = np.array([np.var(df.loc[:, \"휴양\"]), np.var(df.loc[:, \"자연경관\"]), np.var(df.loc[:, \"문화유산\"]), np.var(df.loc[:, \"액티비티\"]), np.var(df.loc[:, \"쇼핑\"]), np.var(df.loc[:, \"공연\"]), np.var(df.loc[:, \"전시물\"])])\n",
    "var_arr\n",
    "# 2,6,3,5,4,1,0\n",
    "#x = 2 * 3 * 4/ y = 6 * 5 * 1"
   ]
  },
  {
   "cell_type": "code",
   "execution_count": 4,
   "id": "6bd134e8",
   "metadata": {},
   "outputs": [],
   "source": [
    "gender_data = df.loc[:, '성별']\n",
    "want_data = df.loc[:, '경험']\n",
    "#exp_data = df.loc[:, '경험']\n",
    "personal_data = np.zeros(shape = (gender_data.size, 7))\n",
    "\n",
    "for i in range(gender_data.size):\n",
    "    for j in range(1, df.loc[i].size - 1):\n",
    "        personal_data[i][j-1] = df.iloc[i][j]\n",
    "        "
   ]
  },
  {
   "cell_type": "code",
   "execution_count": 5,
   "id": "925c892a",
   "metadata": {},
   "outputs": [],
   "source": [
    "new_input = np.zeros(shape = (gender_data.size, 3))\n",
    "for i in range(gender_data.size):\n",
    "    xpos = (personal_data[i][2] * 25 + personal_data[i][3]*5 + personal_data[i][4])/155\n",
    "    ypos = (personal_data[i][6] * 25 + personal_data[i][5]*5 + personal_data[i][1])/155\n",
    "    new_input[i] = np.array([xpos, ypos, 0 if gender_data[i] == '여성' else 1])\n",
    "    "
   ]
  },
  {
   "cell_type": "code",
   "execution_count": 6,
   "id": "27e83ab2",
   "metadata": {},
   "outputs": [
    {
     "data": {
      "image/png": "[encoded data removed]",
      "text/plain": [
       "<Figure size 432x288 with 1 Axes>"
      ]
     },
     "metadata": {
      "needs_background": "light"
     },
     "output_type": "display_data"
    }
   ],
   "source": [
    "import matplotlib.pyplot as plt\n",
    "\n",
    "male_x = []\n",
    "male_y = []\n",
    "female_x = []\n",
    "female_y = []\n",
    "\n",
    "for i in range(gender_data.size):\n",
    "    if new_input[i, 2] == 0:\n",
    "        female_x.append(new_input[i, 0])\n",
    "        female_y.append(new_input[i, 1])\n",
    "    else :\n",
    "        male_x.append(new_input[i, 0])\n",
    "        male_y.append(new_input[i, 1])\n",
    "        \n",
    "plt.scatter(male_x, male_y, color = \"blue\", label = \"male\")\n",
    "plt.scatter(female_x, female_y, color = \"red\", label = \"female\")\n",
    "plt.legend()\n",
    "plt.show()"
   ]
  },
  {
   "cell_type": "code",
   "execution_count": 7,
   "id": "d466ed9f",
   "metadata": {},
   "outputs": [],
   "source": [
    "from ast import literal_eval\n",
    "dataset = []\n",
    "target = pd.read_csv(\"./survey_norm.csv\")\n",
    "\n",
    "for i in range(target['input_data'].size):\n",
    "    dataset.append( [new_input[i]\n",
    "                     , np.array(literal_eval(target['want_hot_vec'][i].replace(' ', ',').replace(',,', ',')), dtype = int)])"
   ]
  },
  {
   "cell_type": "code",
   "execution_count": 8,
   "id": "f9820ac5",
   "metadata": {},
   "outputs": [],
   "source": [
    "import random\n",
    "random.shuffle(dataset)"
   ]
  },
  {
   "cell_type": "code",
   "execution_count": 9,
   "id": "8d50efa4",
   "metadata": {},
   "outputs": [],
   "source": [
    "train_set = dataset[:-30]\n",
    "test_set = dataset[-30:]\n",
    "\n",
    "train_input = []\n",
    "train_target = []\n",
    "\n",
    "test_input = []\n",
    "test_target = []\n",
    "for i in range(len(train_set)):\n",
    "    train_input.append(train_set[i][0].copy())\n",
    "    train_target.append(train_set[i][1].copy())\n",
    "\n",
    "train_input = np.array(train_input)\n",
    "train_target = np.array(train_target)\n",
    "\n",
    "for i in range(len(test_set)):\n",
    "    test_input.append(test_set[i][0].copy())\n",
    "    test_target.append(test_set[i][1].copy())\n",
    "\n",
    "test_input = np.array(test_input)\n",
    "test_target = np.array(test_target)"
   ]
  },
  {
   "cell_type": "code",
   "execution_count": 22,
   "id": "6e255dcf",
   "metadata": {},
   "outputs": [],
   "source": [
    "import tensorflow as tf\n",
    "from keras import models \n",
    "from keras import layers\n",
    "from keras import regularizers\n",
    "\n",
    "def build_model(train_len):\n",
    "    model = models.Sequential()\n",
    "    model.add(layers.Dense(8, activation = 'relu', input_shape = (train_len, )))\n",
    "    #model.add(layers.Dense(16, activation = 'relu'))\n",
    "    model.add(layers.Dense(16, activation = 'relu'))\n",
    "    model.add(layers.Dense(7))\n",
    "    \n",
    "    model.compile(optimizer = 'rmsprop', loss='mse', metrics=[tf.keras.metrics.MeanAbsoluteError(), \"accuracy\"])\n",
    "    #model.compile(optimizer = 'adam', loss='mse', metrics=['accuracy'])\n",
    "    return model"
   ]
  },
  {
   "cell_type": "code",
   "execution_count": 23,
   "id": "731108aa",
   "metadata": {},
   "outputs": [],
   "source": [
    "k = 4\n",
    "num_val_sample = len(train_input) // k\n",
    "num_epochs = 200\n",
    "all_mae_histories = []\n",
    "all_acc_histories = []\n",
    "np.random.shuffle(train_input)\n",
    "for i in range(k):\n",
    "    val_input = train_input[i * num_val_sample : (i+1) * num_val_sample]\n",
    "    val_target = train_target[i * num_val_sample : (i+1) * num_val_sample]\n",
    "    \n",
    "    partial_train_input = np.concatenate(\n",
    "        [train_input[:i * num_val_sample],\n",
    "         train_input[(i + 1) * num_val_sample:]], axis = 0)\n",
    "    partial_train_target = np.concatenate(\n",
    "        [train_target[:i * num_val_sample],\n",
    "         train_target[(i + 1) * num_val_sample:]], axis = 0)\n",
    "    \n",
    "    model = build_model(partial_train_input.shape[1])\n",
    "    history = model.fit(partial_train_input, partial_train_target, \n",
    "                        validation_data = (val_input, val_target), epochs = num_epochs, \n",
    "              batch_size = 4, verbose=0)\n",
    "    mae_history = history.history['val_mean_absolute_error']\n",
    "    all_mae_histories.append(mae_history)\n",
    "    all_acc_histories.append(history.history['accuracy'])"
   ]
  },
  {
   "cell_type": "code",
   "execution_count": 24,
   "id": "443c9e50",
   "metadata": {},
   "outputs": [],
   "source": [
    "average_mae_history = [np.mean([x[i] for  x in all_mae_histories]) for i in range(num_epochs)]"
   ]
  },
  {
   "cell_type": "code",
   "execution_count": 25,
   "id": "a6c6d9d1",
   "metadata": {},
   "outputs": [
    {
     "data": {
      "image/png": "[encoded data removed]",
      "text/plain": [
       "<Figure size 432x288 with 1 Axes>"
      ]
     },
     "metadata": {
      "needs_background": "light"
     },
     "output_type": "display_data"
    }
   ],
   "source": [
    "#smooth_mae_history = smooth_curve(average_mae_history[10:])\n",
    "\n",
    "#plt.plot(range(1, len(smooth_mae_history)+1), smooth_mae_history)\n",
    "plt.plot(range(num_epochs), average_mae_history)\n",
    "plt.xlabel('Epochs')\n",
    "plt.ylabel('Validation MAE')\n",
    "plt.show()"
   ]
  },
  {
   "cell_type": "code",
   "execution_count": 26,
   "id": "b84577b4",
   "metadata": {},
   "outputs": [
    {
     "data": {
      "image/png": "[encoded data removed]",
      "text/plain": [
       "<Figure size 432x288 with 1 Axes>"
      ]
     },
     "metadata": {
      "needs_background": "light"
     },
     "output_type": "display_data"
    }
   ],
   "source": [
    "average_acc_history = [np.mean([x[i] for  x in all_acc_histories]) for i in range(num_epochs)]\n",
    "plt.plot(range(num_epochs), average_acc_history)\n",
    "plt.xlabel('Epochs')\n",
    "plt.ylabel('Acc in Epochs')\n",
    "plt.show()"
   ]
  },
  {
   "cell_type": "code",
   "execution_count": 27,
   "id": "52f83b42",
   "metadata": {},
   "outputs": [
    {
     "data": {
      "image/png": "[encoded data removed]",
      "text/plain": [
       "<Figure size 432x288 with 1 Axes>"
      ]
     },
     "metadata": {
      "needs_background": "light"
     },
     "output_type": "display_data"
    }
   ],
   "source": [
    "history_dict = history.history\n",
    "\n",
    "plt.plot(range(num_epochs), history_dict['loss'])\n",
    "plt.xlabel('Epochs')\n",
    "plt.ylabel('loss')\n",
    "plt.show()"
   ]
  },
  {
   "cell_type": "code",
   "execution_count": 28,
   "id": "83f38444",
   "metadata": {},
   "outputs": [
    {
     "name": "stdout",
     "output_type": "stream",
     "text": [
      "1/1 [==============================] - 0s 140ms/step - loss: 0.1670 - mean_absolute_error: 0.3220 - accuracy: 0.2333\n",
      "0.16697201132774353 0.3219708204269409\n"
     ]
    }
   ],
   "source": [
    "model = build_model(train_input.shape[1])\n",
    "model.fit(train_input, train_target, epochs = 50, batch_size = 4, verbose = 0)\n",
    "test_mse, test_mae, test_acc = model.evaluate(test_input, test_target)\n",
    "print(test_mse, test_mae)"
   ]
  },
  {
   "cell_type": "code",
   "execution_count": 17,
   "id": "dbab9782",
   "metadata": {},
   "outputs": [],
   "source": [
    "result_df = pd.DataFrame(columns = ['input_data', 'target', 'result'])\n",
    "pred_result = model.predict(test_input)\n",
    "\n",
    "for i in range(pred_result.shape[0]):\n",
    "    result_df.loc[i] = [test_input[i], test_target[i], pred_result[i]]"
   ]
  },
  {
   "cell_type": "code",
   "execution_count": 18,
   "id": "8f59f489",
   "metadata": {},
   "outputs": [],
   "source": [
    "last_out = []\n",
    "for i in range(pred_result.shape[0]):\n",
    "    temp = []\n",
    "    for j in range(pred_result.shape[1]):\n",
    "        if pred_result[i][j] > 0.5:\n",
    "            temp.append(1)\n",
    "        else:\n",
    "            temp.append(0)\n",
    "            \n",
    "    if np.all(np.array(temp) == 0):\n",
    "        temp[np.argmax(np.array(temp))] = 1\n",
    "        \n",
    "    last_out.append(temp)\n",
    "last_out = np.array(last_out)"
   ]
  },
  {
   "cell_type": "code",
   "execution_count": 19,
   "id": "3bf2b139",
   "metadata": {},
   "outputs": [],
   "source": [
    "collect_cnt = 0\n",
    "for i in range(pred_result.shape[0]):\n",
    "    for j in range(pred_result.shape[1]):\n",
    "        if last_out[i][j] == test_target[i][j]:\n",
    "            collect_cnt += 1"
   ]
  },
  {
   "cell_type": "code",
   "execution_count": 20,
   "id": "c88111e1",
   "metadata": {},
   "outputs": [
    {
     "name": "stdout",
     "output_type": "stream",
     "text": [
      "79.04761904761905\n"
     ]
    }
   ],
   "source": [
    "print((collect_cnt / 210) * 100)"
   ]
  },
  {
   "cell_type": "code",
   "execution_count": 21,
   "id": "b37d9617",
   "metadata": {},
   "outputs": [
    {
     "name": "stdout",
     "output_type": "stream",
     "text": [
      "[0.7981982  0.81981982 0.        ] ,  [1 1 0 0 0 0 0] ,  [1 1 0 0 0 0 0]\n",
      "[0.77837838 0.4036036  1.        ] ,  [1 1 0 0 1 0 0] ,  [1 1 0 0 0 0 0]\n",
      "[0.61801802 0.24144144 0.        ] ,  [1 1 0 1 0 0 0] ,  [0 1 0 0 0 0 0]\n",
      "[0.42162162 0.81981982 1.        ] ,  [1 1 0 0 0 0 0] ,  [1 0 0 0 0 0 0]\n",
      "[0.98018018 0.7981982  0.        ] ,  [0 0 0 1 0 1 0] ,  [0 1 0 0 0 0 0]\n",
      "[0.4036036  0.38558559 1.        ] ,  [1 1 0 0 0 0 0] ,  [1 1 0 0 0 0 0]\n",
      "[0.24324324 0.23603604 1.        ] ,  [0 0 0 1 1 0 1] ,  [1 1 0 0 0 0 0]\n",
      "[0.74414414 0.38558559 1.        ] ,  [1 1 0 0 1 0 0] ,  [1 1 0 0 0 0 0]\n",
      "[0.43603604 0.58378378 0.        ] ,  [1 1 0 0 0 0 0] ,  [1 1 0 0 0 0 0]\n",
      "[0.27567568 0.38558559 1.        ] ,  [1 0 0 1 0 0 0] ,  [1 1 0 0 0 0 0]\n",
      "[0.7963964  0.76576577 1.        ] ,  [0 1 0 0 0 0 0] ,  [1 1 0 0 0 0 0]\n",
      "[0.61801802 1.         0.        ] ,  [1 1 0 0 0 0 0] ,  [1 1 0 0 0 0 0]\n",
      "[0.25585586 0.9981982  1.        ] ,  [1 1 0 1 0 0 0] ,  [1 0 0 0 0 0 0]\n",
      "[0.7981982  0.98198198 1.        ] ,  [1 1 0 0 0 0 1] ,  [1 1 0 0 0 0 0]\n",
      "[0.7963964 0.8       0.       ] ,  [1 1 1 0 0 1 1] ,  [1 1 0 0 0 0 0]\n",
      "[0.96036036 0.96396396 1.        ] ,  [0 1 1 0 0 0 1] ,  [1 1 0 0 0 0 0]\n",
      "[0.43783784 0.6        1.        ] ,  [1 0 0 1 0 0 0] ,  [1 1 0 0 0 0 0]\n",
      "[0.81981982 0.81801802 0.        ] ,  [0 0 0 0 1 0 0] ,  [1 1 0 0 0 0 0]\n",
      "[0.27567568 0.38198198 0.        ] ,  [0 0 0 1 1 0 0] ,  [1 0 0 0 0 0 0]\n",
      "[0.20720721 0.38018018 1.        ] ,  [0 0 0 0 1 0 0] ,  [1 1 0 0 0 0 0]\n",
      "[0.79459459 0.6036036  0.        ] ,  [0 1 0 0 0 0 0] ,  [0 1 0 0 0 0 0]\n",
      "[0.7981982 0.8018018 0.       ] ,  [1 1 0 0 0 0 0] ,  [1 1 0 0 0 0 0]\n",
      "[0.5981982 0.5981982 1.       ] ,  [1 0 0 0 0 0 0] ,  [1 1 0 0 0 0 0]\n",
      "[0.23783784 0.63783784 1.        ] ,  [1 1 0 0 0 0 0] ,  [1 0 0 0 0 0 0]\n",
      "[0.25585586 0.42162162 0.        ] ,  [1 0 0 0 0 0 0] ,  [1 0 0 0 0 0 0]\n",
      "[0.5981982 0.6018018 1.       ] ,  [1 1 0 0 0 0 0] ,  [1 1 0 0 0 0 0]\n",
      "[0.81621622 0.6036036  0.        ] ,  [1 1 0 1 0 0 0] ,  [0 1 0 0 0 0 0]\n",
      "[0.61801802 0.6018018  1.        ] ,  [0 1 0 1 0 0 0] ,  [1 1 0 0 0 0 0]\n",
      "[0.63423423 0.76396396 0.        ] ,  [1 1 0 0 0 0 0] ,  [1 1 0 0 0 0 0]\n",
      "[0.93873874 0.78378378 1.        ] ,  [0 1 1 0 0 0 0] ,  [1 1 0 0 0 0 0]\n"
     ]
    }
   ],
   "source": [
    "for i in range(pred_result.shape[0]):\n",
    "    print(test_input[i], ', ', test_target[i], ', ', last_out[i])"
   ]
  },
  {
   "cell_type": "code",
   "execution_count": null,
   "id": "6267fc72",
   "metadata": {},
   "outputs": [],
   "source": []
  }
 ],
 "metadata": {
  "kernelspec": {
   "display_name": "Python 3 (ipykernel)",
   "language": "python",
   "name": "python3"
  },
  "language_info": {
   "codemirror_mode": {
    "name": "ipython",
    "version": 3
   },
   "file_extension": ".py",
   "mimetype": "text/x-python",
   "name": "python",
   "nbconvert_exporter": "python",
   "pygments_lexer": "ipython3",
   "version": "3.9.7"
  }
 },
 "nbformat": 4,
 "nbformat_minor": 5
}
