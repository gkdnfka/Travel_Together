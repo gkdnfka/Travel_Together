{
 "cells": [
  {
   "cell_type": "code",
   "execution_count": 65,
   "id": "f84ae4df",
   "metadata": {},
   "outputs": [],
   "source": [
    "import pandas as pd\n",
    "\n",
    "data = pd.read_csv(\"./survey_data_before.csv\")"
   ]
  },
  {
   "cell_type": "code",
   "execution_count": 66,
   "id": "8d36fcb0",
   "metadata": {
    "scrolled": true
   },
   "outputs": [],
   "source": [
    "#data label별 데이터 분류.\n",
    "gender = data.loc[:, '성별']\n",
    "\n",
    "point_rest = data.loc[:, '휴양']\n",
    "point_activity = data.loc[:, '액티비티']\n",
    "point_shopping = data.loc[:, '쇼핑']\n",
    "point_eating = data.loc[:, '맛집(먹거리)']\n",
    "point_history = data.loc[:, '역사적 장소 탐방(문화유산)']\n",
    "point_nature = data.loc[:, '자연경관']\n",
    "point_exhibit = data.loc[:, '전시물 관람(동물원, 수족관, 미술관 등)']\n",
    "point_show = data.loc[:, '공연관람']\n",
    "\n",
    "#exp_cat(experience category) - 설문자가 경험해본.\n",
    "#want_cat(want category) - 설문자가 가고 싶은.\n",
    "want_cat = data.loc[:, '위에서 제시한 관광지는 분류 항목 중 어디에 해당되나요?(다중선택 가능)2']"
   ]
  },
  {
   "cell_type": "code",
   "execution_count": null,
   "id": "116cb6c8",
   "metadata": {},
   "outputs": [],
   "source": []
  },
  {
   "cell_type": "code",
   "execution_count": null,
   "id": "eb3f5bf2",
   "metadata": {},
   "outputs": [],
   "source": []
  },
  {
   "cell_type": "code",
   "execution_count": 67,
   "id": "6721c0a0",
   "metadata": {},
   "outputs": [],
   "source": [
    "df = pd.DataFrame(columns = ['성별', '휴양','자연경관', '문화유산', '액티비티', '쇼핑', '공연', '전시물', '희망'])\n",
    "\n",
    "for i in range(len(gender)):\n",
    "    datalist = [(gender[i], point_rest[i], point_nature[i], point_history[i], point_activity[i], point_shopping[i], point_show[i], point_exhibit[i], want_cat[i])]\n",
    "    new_df = pd.DataFrame(datalist, columns = ['성별', '휴양','자연경관', '문화유산', '액티비티', '쇼핑', '공연', '전시물', '희망'])\n",
    "    df = df.append(new_df, ignore_index=True)"
   ]
  },
  {
   "cell_type": "code",
   "execution_count": 68,
   "id": "b953b381",
   "metadata": {},
   "outputs": [],
   "source": [
    "df.to_csv(\"./survey_data_after.csv\", encoding='euc-kr', index=False)"
   ]
  },
  {
   "cell_type": "code",
   "execution_count": null,
   "id": "5986bf1c",
   "metadata": {},
   "outputs": [],
   "source": []
  }
 ],
 "metadata": {
  "kernelspec": {
   "display_name": "Python 3 (ipykernel)",
   "language": "python",
   "name": "python3"
  },
  "language_info": {
   "codemirror_mode": {
    "name": "ipython",
    "version": 3
   },
   "file_extension": ".py",
   "mimetype": "text/x-python",
   "name": "python",
   "nbconvert_exporter": "python",
   "pygments_lexer": "ipython3",
   "version": "3.9.7"
  }
 },
 "nbformat": 4,
 "nbformat_minor": 5
}
