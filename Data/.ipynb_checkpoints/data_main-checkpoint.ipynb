{
 "cells": [
  {
   "cell_type": "code",
   "execution_count": 1,
   "id": "376dca39",
   "metadata": {},
   "outputs": [],
   "source": [
    "import pandas as pd\n",
    "import numpy as np\n",
    "data = pd.read_csv(\"./survey_norm.csv\")"
   ]
  },
  {
   "cell_type": "code",
   "execution_count": 2,
   "id": "2b561701",
   "metadata": {},
   "outputs": [],
   "source": [
    "from ast import literal_eval\n",
    "dataset= []\n",
    "for i in range(data['input_data'].size):\n",
    "    dataset.append([np.array(literal_eval(data['input_data'][i].replace(' ', ',').replace(',,', ',')), dtype = float)\n",
    "                     , np.array(literal_eval(data['want_hot_vec'][i].replace(' ', ',').replace(',,', ',')), dtype = int)])"
   ]
  },
  {
   "cell_type": "code",
   "execution_count": 3,
   "id": "e2449713",
   "metadata": {},
   "outputs": [],
   "source": [
    "def smooth_curve(points, factor = 0.9):\n",
    "    smoothed_points = []\n",
    "    for point in points:\n",
    "        if smoothed_points:\n",
    "            previous = smoothed_points[-1]\n",
    "            smoothed_points.append(previous * factor + point * (1 - factor))\n",
    "        else:\n",
    "            smoothed_points.append(point)\n",
    "    return smoothed_points"
   ]
  },
  {
   "cell_type": "code",
   "execution_count": 21,
   "id": "e0dd38db",
   "metadata": {},
   "outputs": [],
   "source": [
    "import random\n",
    "random.shuffle(dataset)"
   ]
  },
  {
   "cell_type": "code",
   "execution_count": 22,
   "id": "1785f3b7",
   "metadata": {},
   "outputs": [],
   "source": [
    "train_set = dataset[:-30]\n",
    "test_set = dataset[-30:]\n",
    "\n",
    "train_input = []\n",
    "train_target = []\n",
    "\n",
    "test_input = []\n",
    "test_target = []\n",
    "for i in range(len(train_set)):\n",
    "    train_input.append(train_set[i][0].copy())\n",
    "    train_target.append(train_set[i][1].copy())\n",
    "\n",
    "train_input = np.array(train_input)\n",
    "train_target = np.array(train_target)\n",
    "\n",
    "for i in range(len(test_set)):\n",
    "    test_input.append(test_set[i][0].copy())\n",
    "    test_target.append(test_set[i][1].copy())\n",
    "\n",
    "test_input = np.array(test_input)\n",
    "test_target = np.array(test_target)"
   ]
  },
  {
   "cell_type": "code",
   "execution_count": 23,
   "id": "4ef1ea1c",
   "metadata": {},
   "outputs": [],
   "source": [
    "import tensorflow as tf\n",
    "from keras import models \n",
    "from keras import layers\n",
    "from keras import regularizers\n",
    "\n",
    "def build_model(train_len):\n",
    "    model = models.Sequential()\n",
    "    model.add(layers.Dense(16, activation = 'relu'))\n",
    "    model.add(layers.Dense(16, activation = 'relu'))\n",
    "    model.add(layers.Dense(7))\n",
    "    \n",
    "    model.compile(optimizer = 'adam', loss='mse', metrics=[tf.keras.metrics.MeanAbsoluteError()])\n",
    "    return model"
   ]
  },
  {
   "cell_type": "code",
   "execution_count": 45,
   "id": "9645ed6c",
   "metadata": {},
   "outputs": [],
   "source": [
    "k = 4\n",
    "num_val_sample = len(train_input) // k\n",
    "num_epochs = 200\n",
    "all_mae_histories = []\n",
    "\n",
    "np.random.shuffle(train_input)\n",
    "for i in range(k):\n",
    "    val_input = train_input[i * num_val_sample : (i+1) * num_val_sample]\n",
    "    val_target = train_target[i * num_val_sample : (i+1) * num_val_sample]\n",
    "    \n",
    "    partial_train_input = np.concatenate(\n",
    "        [train_input[:i * num_val_sample],\n",
    "         train_input[(i + 1) * num_val_sample:]], axis = 0)\n",
    "    partial_train_target = np.concatenate(\n",
    "        [train_target[:i * num_val_sample],\n",
    "         train_target[(i + 1) * num_val_sample:]], axis = 0)\n",
    "    \n",
    "    model = build_model(partial_train_input.shape[1])\n",
    "    history = model.fit(partial_train_input, partial_train_target, \n",
    "                        validation_data = (val_input, val_target), epochs = num_epochs, \n",
    "              batch_size = 4, verbose=0)\n",
    "    mae_history = history.history['val_mean_absolute_error']\n",
    "    all_mae_histories.append(mae_history)"
   ]
  },
  {
   "cell_type": "code",
   "execution_count": 46,
   "id": "4a8f98ce",
   "metadata": {},
   "outputs": [],
   "source": [
    "average_mae_history = [np.mean([x[i] for  x in all_mae_histories]) for i in range(num_epochs)]"
   ]
  },
  {
   "cell_type": "code",
   "execution_count": 47,
   "id": "e72875bc",
   "metadata": {
    "scrolled": true
   },
   "outputs": [
    {
     "data": {
      "image/png": "[encoded data removed]",
      "text/plain": [
       "<Figure size 432x288 with 1 Axes>"
      ]
     },
     "metadata": {
      "needs_background": "light"
     },
     "output_type": "display_data"
    }
   ],
   "source": [
    "import matplotlib.pyplot as plt\n",
    "\n",
    "smooth_mae_history = smooth_curve(average_mae_history[10:])\n",
    "\n",
    "plt.plot(range(1, len(smooth_mae_history)+1), smooth_mae_history)\n",
    "plt.xlabel('Epochs')\n",
    "plt.ylabel('Validation MAE')\n",
    "plt.show()"
   ]
  },
  {
   "cell_type": "code",
   "execution_count": 48,
   "id": "2cd79d6b",
   "metadata": {},
   "outputs": [
    {
     "data": {
      "image/png": "[encoded data removed]",
      "text/plain": [
       "<Figure size 432x288 with 1 Axes>"
      ]
     },
     "metadata": {
      "needs_background": "light"
     },
     "output_type": "display_data"
    }
   ],
   "source": [
    "history_dict = history.history\n",
    "\n",
    "plt.plot(range(num_epochs), history_dict['loss'])\n",
    "plt.xlabel('Epochs')\n",
    "plt.ylabel('loss')\n",
    "plt.show()"
   ]
  },
  {
   "cell_type": "code",
   "execution_count": 55,
   "id": "e73bb81f",
   "metadata": {
    "scrolled": true
   },
   "outputs": [
    {
     "name": "stdout",
     "output_type": "stream",
     "text": [
      "1/1 [==============================] - 0s 57ms/step - loss: 0.1430 - mean_absolute_error: 0.3004\n",
      "0.14302097260951996 0.3004392087459564\n"
     ]
    }
   ],
   "source": [
    "model = build_model(train_input.shape[1])\n",
    "model.fit(train_input, train_target, epochs = 25, batch_size = 8, verbose = 0)\n",
    "test_mse, test_mae = model.evaluate(test_input, test_target)\n",
    "print(test_mse, test_mae)"
   ]
  },
  {
   "cell_type": "code",
   "execution_count": 72,
   "id": "08d77c37",
   "metadata": {},
   "outputs": [],
   "source": [
    "result_df = pd.DataFrame(columns = ['input_data', 'target', 'result'])\n",
    "pred_result = model.predict(test_input)\n",
    "\n",
    "for i in range(pred_result.shape[0]):\n",
    "    result_df.loc[i] = [test_input[i], test_target[i], pred_result[i]]\n"
   ]
  },
  {
   "cell_type": "code",
   "execution_count": 73,
   "id": "cc7a4fb5",
   "metadata": {},
   "outputs": [],
   "source": [
    "last_out = []\n",
    "for i in range(pred_result.shape[0]):\n",
    "    temp = []\n",
    "    for j in range(pred_result.shape[1]):\n",
    "        if pred_result[i][j] > 0.60:\n",
    "            temp.append(1)\n",
    "        else:\n",
    "            temp.append(0)\n",
    "            \n",
    "    if np.all(np.array(temp) == 0):\n",
    "        temp[np.argmax(np.array(temp))] = 1\n",
    "        \n",
    "    last_out.append(temp)\n",
    "last_out = np.array(last_out)"
   ]
  },
  {
   "cell_type": "code",
   "execution_count": 74,
   "id": "a6a5140a",
   "metadata": {},
   "outputs": [],
   "source": [
    "collect_cnt = 0\n",
    "for i in range(pred_result.shape[0]):\n",
    "    for j in range(pred_result.shape[1]):\n",
    "        if last_out[i][j] == test_target[i][j]:\n",
    "            collect_cnt += 1"
   ]
  },
  {
   "cell_type": "code",
   "execution_count": 75,
   "id": "fe441140",
   "metadata": {
    "scrolled": true
   },
   "outputs": [
    {
     "name": "stdout",
     "output_type": "stream",
     "text": [
      "79.04761904761905\n"
     ]
    }
   ],
   "source": [
    "print((collect_cnt / 210) * 100)"
   ]
  },
  {
   "cell_type": "code",
   "execution_count": 71,
   "id": "df32db5b",
   "metadata": {
    "scrolled": false
   },
   "outputs": [
    {
     "name": "stdout",
     "output_type": "stream",
     "text": [
      "[1.  1.  0.6 0.4 0.8 1.  1.  1. ] ,  [1 1 0 0 0 0 0] ,  [1 1 0 0 0 0 0]\n",
      "[1.  1.  1.  1.  1.  0.6 1.  0. ] ,  [1 1 1 0 0 0 0] ,  [1 1 0 0 0 0 0]\n",
      "[0.8 1.  0.8 0.8 0.4 1.  1.  0. ] ,  [1 1 0 0 0 0 0] ,  [1 0 0 0 0 0 0]\n",
      "[0.8 1.  0.8 0.4 0.4 0.6 0.8 1. ] ,  [0 0 1 0 0 0 0] ,  [0 1 0 0 0 0 0]\n",
      "[1.  0.8 0.6 0.8 0.6 0.6 0.2 0. ] ,  [1 1 0 1 0 0 0] ,  [1 0 0 0 0 0 0]\n",
      "[1.  0.4 0.6 0.6 0.4 0.6 0.6 1. ] ,  [1 0 0 0 0 0 0] ,  [1 0 0 0 0 0 0]\n",
      "[0.8 1.  0.8 1.  0.4 0.8 0.8 0. ] ,  [1 1 0 1 1 0 0] ,  [0 1 0 0 0 0 0]\n",
      "[1.  0.4 0.2 0.4 0.2 0.6 0.8 1. ] ,  [1 1 1 0 0 0 0] ,  [1 0 0 0 0 0 0]\n",
      "[0.8 0.6 0.2 0.4 0.2 0.4 0.6 1. ] ,  [1 0 0 0 0 0 0] ,  [1 0 0 0 0 0 0]\n",
      "[0.8 0.2 0.2 0.2 1.  0.2 0.4 1. ] ,  [0 0 0 0 1 0 0] ,  [1 0 0 0 0 0 0]\n",
      "[1.  0.8 0.4 0.8 0.4 0.4 0.4 1. ] ,  [1 1 0 0 0 0 0] ,  [1 1 0 0 0 0 0]\n",
      "[0.8 1.  1.  0.4 0.2 0.6 0.8 1. ] ,  [0 1 1 0 0 0 0] ,  [1 1 0 0 0 0 0]\n",
      "[1.  0.8 0.2 0.8 0.4 0.6 1.  1. ] ,  [1 0 0 1 0 0 0] ,  [1 1 0 0 0 0 0]\n",
      "[0.8 1.  1.  0.6 0.2 0.6 0.4 1. ] ,  [1 1 1 0 0 0 0] ,  [0 1 0 0 0 0 0]\n",
      "[0.8 0.8 1.  0.4 0.6 0.6 0.8 1. ] ,  [0 0 1 0 0 0 0] ,  [1 0 0 0 0 0 0]\n",
      "[0.4 0.4 0.4 0.8 0.8 0.8 0.2 1. ] ,  [0 0 0 0 1 0 0] ,  [1 0 0 0 0 0 0]\n",
      "[0.6 1.  0.8 1.  0.4 0.8 0.4 0. ] ,  [0 1 0 0 0 0 0] ,  [1 0 0 0 0 0 0]\n",
      "[1.  0.8 0.2 0.6 0.4 1.  0.6 1. ] ,  [1 1 0 0 0 0 0] ,  [1 0 0 0 0 0 0]\n",
      "[0.8 1.  0.8 0.8 0.4 0.4 0.8 1. ] ,  [0 1 0 0 0 0 0] ,  [1 1 0 0 0 0 0]\n",
      "[0.8 0.4 0.4 0.4 0.8 0.4 0.6 1. ] ,  [0 0 0 0 1 0 0] ,  [1 0 0 0 0 0 0]\n",
      "[0.4 1.  0.8 0.8 0.2 0.4 0.6 1. ] ,  [0 1 0 0 0 0 0] ,  [0 1 0 0 0 0 0]\n",
      "[1.  0.8 0.6 1.  0.8 1.  1.  0. ] ,  [0 1 0 0 0 0 0] ,  [1 0 0 0 0 0 0]\n",
      "[1.  0.6 0.8 0.2 0.8 0.4 1.  0. ] ,  [1 0 0 0 0 0 1] ,  [1 0 0 0 0 0 0]\n",
      "[1.  1.  0.6 1.  0.8 0.6 0.6 0. ] ,  [1 0 0 1 1 0 0] ,  [0 1 0 0 0 0 0]\n",
      "[0.8 0.8 0.8 0.4 0.4 0.6 0.6 1. ] ,  [0 1 0 0 0 0 0] ,  [1 0 0 0 0 0 0]\n",
      "[0.8 1.  0.8 0.8 0.6 0.8 0.8 1. ] ,  [0 1 1 0 0 0 0] ,  [1 1 0 0 0 0 0]\n",
      "[0.8 0.8 0.6 0.8 0.6 0.6 0.6 1. ] ,  [0 1 0 1 0 0 0] ,  [0 1 0 0 0 0 0]\n",
      "[0.6 0.6 0.4 0.8 0.6 0.6 0.6 1. ] ,  [1 0 0 1 0 0 0] ,  [1 0 0 0 0 0 0]\n",
      "[0.8 0.8 0.6 0.6 0.4 0.6 0.6 1. ] ,  [1 0 0 0 0 0 0] ,  [1 0 0 0 0 0 0]\n",
      "[1.  1.  0.6 0.4 0.6 1.  1.  0. ] ,  [1 1 0 0 0 1 0] ,  [1 0 0 0 0 0 0]\n"
     ]
    }
   ],
   "source": [
    "for i in range(pred_result.shape[0]):\n",
    "    print(test_input[i], ', ', test_target[i], ', ', last_out[i])"
   ]
  },
  {
   "cell_type": "code",
   "execution_count": 43,
   "id": "42ff744c",
   "metadata": {},
   "outputs": [
    {
     "name": "stdout",
     "output_type": "stream",
     "text": [
      "[0.8 1.  0.8 0.8 0.6 0.8 1.  1. ] [1 1 0 0 0 0 1]\n",
      "[1.  1.  0.8 1.  0.6 0.4 1.  0. ] [1 1 0 0 0 0 0]\n",
      "[0.6 0.8 0.6 0.6 0.4 0.6 0.6 1. ] [1 1 0 0 0 0 0]\n",
      "[1.  0.8 0.8 0.6 0.4 0.4 0.4 1. ] [1 1 0 0 1 0 0]\n",
      "[1.  1.  0.8 0.8 0.6 1.  0.8 0. ] [1 1 0 0 0 0 0]\n",
      "[0.6 0.8 0.2 0.8 0.4 1.  1.  1. ] [1 1 0 1 0 0 0]\n",
      "[0.6 0.8 0.8 0.6 0.6 0.6 0.4 1. ] [0 1 0 0 0 0 0]\n",
      "[1.  0.2 0.2 0.6 1.  0.6 0.2 1. ] [0 0 0 1 1 0 1]\n",
      "[0.8 1.  0.6 1.  0.4 0.6 0.8 0. ] [0 1 0 0 0 0 0]\n",
      "[0.8 0.6 0.4 0.4 0.6 0.8 0.6 0. ] [0 0 0 0 1 0 0]\n",
      "[0.6 0.6 0.2 0.4 0.6 0.4 0.4 0. ] [0 1 0 0 1 0 0]\n",
      "[1.  0.8 0.4 1.  0.8 0.8 0.8 1. ] [1 0 0 1 0 0 0]\n",
      "[1.  1.  0.8 0.6 0.6 0.8 0.8 0. ] [1 1 0 0 0 0 0]\n",
      "[1.  0.4 0.8 0.8 0.8 0.2 0.2 1. ] [1 0 0 0 1 0 0]\n",
      "[0.8 0.8 0.8 0.8 0.4 0.4 0.4 1. ] [0 1 0 0 0 0 0]\n",
      "[0.8 0.8 0.2 0.6 0.4 0.4 0.6 1. ] [1 1 0 0 0 0 0]\n",
      "[1.  1.  0.8 0.8 0.6 1.  0.8 0. ] [0 0 1 0 1 0 1]\n",
      "[1.  1.  0.6 0.8 0.6 1.  1.  0. ] [1 1 0 0 0 0 0]\n",
      "[1.  1.  0.8 1.  1.  1.  1.  1. ] [0 0 0 0 1 0 0]\n",
      "[1.  1.  0.8 0.8 0.6 0.8 1.  0. ] [1 1 0 0 0 0 0]\n",
      "[0.8 0.8 0.4 1.  0.6 0.4 0.8 1. ] [1 1 1 1 0 0 0]\n",
      "[1.  0.8 0.8 0.8 0.4 0.8 0.8 0. ] [1 1 1 0 0 1 1]\n",
      "[1.  0.8 0.8 0.2 0.6 0.2 0.4 1. ] [1 1 0 0 1 0 0]\n",
      "[0.8 0.8 0.8 0.8 0.6 0.6 0.8 0. ] [0 1 0 0 1 0 0]\n",
      "[1.  0.8 0.6 1.  0.4 1.  0.8 1. ] [0 1 0 1 0 0 0]\n",
      "[1.  0.8 0.2 0.8 0.6 0.2 0.4 0. ] [0 1 1 0 0 0 0]\n",
      "[1.  1.  1.  0.4 0.8 0.6 1.  1. ] [1 1 0 0 0 0 0]\n",
      "[1.  0.8 0.4 0.8 0.4 0.4 0.6 0. ] [1 1 0 0 0 0 0]\n",
      "[1.  1.  0.8 0.8 0.6 0.8 0.8 0. ] [1 1 0 0 0 0 0]\n",
      "[1.  0.6 0.2 0.8 0.4 0.4 0.4 0. ] [1 0 0 0 0 0 0]\n",
      "[1.  1.  0.4 1.  0.6 0.6 1.  1. ] [1 1 1 0 0 0 0]\n",
      "[1.  0.4 0.2 1.  0.2 0.2 0.2 1. ] [1 0 0 0 0 0 0]\n",
      "[1.  0.8 0.6 0.4 0.6 0.4 0.4 0. ] [1 0 0 0 1 0 0]\n",
      "[0.8 0.4 0.6 0.8 0.4 0.8 0.4 0. ] [1 0 0 0 0 0 0]\n",
      "[1.  0.8 0.4 0.4 0.6 0.8 0.8 1. ] [0 0 0 0 1 0 0]\n",
      "[1.  0.8 0.4 0.4 0.8 0.2 0.4 1. ] [1 1 0 0 0 0 0]\n",
      "[1.  0.8 0.6 0.8 0.6 0.8 0.8 0. ] [1 1 0 1 0 0 0]\n",
      "[0.8 0.8 0.6 1.  0.4 0.4 0.8 0. ] [1 1 0 0 0 0 0]\n",
      "[0.4 0.8 0.2 0.8 0.2 0.2 0.2 0. ] [1 1 0 1 0 0 0]\n",
      "[1.  0.8 0.8 0.6 0.6 0.6 0.8 1. ] [0 0 1 0 0 0 0]\n",
      "[0.4 1.  1.  0.4 0.2 0.4 1.  0. ] [0 1 0 0 0 0 0]\n",
      "[0.8 0.8 0.6 0.4 0.4 0.8 0.8 0. ] [0 1 0 0 0 0 0]\n",
      "[0.8 0.8 0.2 0.4 0.8 0.6 0.8 0. ] [0 1 0 0 0 0 0]\n",
      "[0.8 0.8 0.6 0.4 0.8 0.8 0.8 0. ] [0 0 0 0 1 0 1]\n",
      "[1.  0.8 0.2 0.6 0.4 0.4 0.4 1. ] [1 1 0 0 0 0 0]\n",
      "[1.  0.6 0.2 1.  0.4 0.2 0.2 1. ] [0 1 0 0 0 0 0]\n",
      "[1.  0.8 0.4 1.  0.4 0.2 0.4 1. ] [1 1 1 0 1 0 0]\n",
      "[0.6 0.8 0.8 0.8 0.6 0.6 0.8 1. ] [1 1 1 1 1 1 1]\n",
      "[1.  0.6 0.8 0.8 0.4 0.6 0.6 1. ] [1 0 1 0 0 0 0]\n",
      "[1.  0.8 0.6 0.8 0.8 0.8 1.  0. ] [0 1 0 0 0 0 1]\n",
      "[1.  1.  0.6 0.8 0.6 0.2 0.2 0. ] [0 1 0 0 0 0 0]\n",
      "[0.8 1.  0.6 0.6 0.4 0.4 0.8 0. ] [1 1 0 0 0 0 0]\n",
      "[0.6 0.2 0.2 0.6 0.6 0.6 0.2 1. ] [1 0 0 1 0 1 0]\n",
      "[0.4 1.  1.  0.6 0.6 0.6 1.  1. ] [0 1 1 0 0 0 1]\n",
      "[1.  0.8 0.4 0.4 0.8 0.2 0.8 1. ] [1 0 0 0 1 0 0]\n",
      "[0.6 0.8 0.4 0.6 0.4 0.8 0.8 1. ] [0 1 1 0 0 0 0]\n",
      "[1.  0.8 0.2 0.8 0.4 0.6 0.4 0. ] [1 0 0 0 0 0 0]\n",
      "[1.  0.2 0.2 1.  0.6 0.6 0.2 0. ] [0 0 0 0 1 0 0]\n",
      "[1.  0.6 0.2 0.4 0.8 0.4 0.8 1. ] [1 0 1 0 1 0 0]\n",
      "[0.6 1.  1.  0.8 0.4 1.  1.  1. ] [0 1 1 0 0 0 1]\n",
      "[0.8 1.  0.4 0.4 0.4 0.4 0.4 1. ] [0 0 0 0 1 0 0]\n",
      "[0.8 0.8 0.6 1.  0.6 1.  0.8 0. ] [0 0 1 0 0 0 0]\n",
      "[1.  1.  0.6 0.8 0.8 0.6 0.4 1. ] [1 0 0 0 0 0 0]\n",
      "[0.8 0.4 0.4 0.8 0.8 0.6 0.6 0. ] [0 0 1 0 0 0 1]\n",
      "[1.  0.8 0.8 1.  1.  1.  0.8 0. ] [0 0 0 0 1 0 0]\n",
      "[1.  1.  0.8 1.  0.6 0.6 0.6 0. ] [1 1 0 1 0 0 0]\n",
      "[1.  0.6 1.  0.6 0.2 0.4 1.  1. ] [0 0 0 0 0 0 1]\n",
      "[0.6 1.  0.8 1.  0.8 0.4 0.2 0. ] [0 1 0 1 0 0 0]\n",
      "[0.8 0.8 0.6 0.4 0.4 0.8 0.8 0. ] [1 1 0 0 0 0 0]\n",
      "[0.8 1.  1.  0.2 0.4 0.6 1.  1. ] [0 0 1 0 0 0 0]\n",
      "[1.  0.8 0.8 0.6 0.4 0.4 0.6 1. ] [1 0 1 0 0 0 0]\n",
      "[0.8 0.8 0.6 0.8 0.4 0.6 0.6 0. ] [1 1 1 0 0 0 0]\n",
      "[1.  0.4 0.2 1.  0.4 1.  0.8 0. ] [0 0 0 1 0 0 0]\n",
      "[1.  0.8 0.4 0.8 1.  0.4 0.4 1. ] [1 0 0 0 1 0 0]\n",
      "[1.  0.8 0.6 0.8 1.  0.8 0.8 1. ] [1 1 0 0 0 0 0]\n",
      "[0.6 1.  1.  0.6 0.4 0.6 0.8 1. ] [0 1 0 1 0 0 0]\n",
      "[1.  0.8 1.  1.  0.6 0.6 0.6 1. ] [1 1 0 0 0 0 0]\n",
      "[1.  1.  1.  0.8 0.2 0.8 0.8 1. ] [1 0 1 1 0 0 0]\n",
      "[1.  1.  0.4 0.6 0.8 1.  0.8 1. ] [1 1 0 0 0 0 0]\n",
      "[1.  1.  0.6 0.4 0.2 0.2 0.8 1. ] [1 1 0 0 0 0 0]\n",
      "[1.  0.4 0.6 1.  1.  0.6 0.4 0. ] [1 0 0 1 0 0 0]\n",
      "[0.6 1.  1.  0.8 0.4 0.2 0.4 1. ] [0 1 0 0 0 0 0]\n",
      "[1.  0.4 0.4 0.6 0.8 1.  0.4 0. ] [1 0 0 0 0 0 0]\n",
      "[0.8 1.  0.4 1.  1.  1.  1.  0. ] [1 0 0 0 1 0 0]\n",
      "[1.  1.  0.8 1.  0.4 0.6 0.6 1. ] [0 1 1 0 0 0 0]\n",
      "[0.6 0.8 0.2 0.2 0.2 0.8 0.8 0. ] [0 1 0 0 0 0 1]\n",
      "[1.  0.2 1.  0.2 0.6 0.4 0.2 1. ] [1 0 1 0 1 0 0]\n",
      "[1.  0.4 0.2 1.  0.6 0.2 0.4 0. ] [0 0 0 1 1 0 0]\n",
      "[1.  1.  1.  1.  0.4 0.6 1.  0. ] [0 1 0 0 0 0 0]\n",
      "[0.8 0.4 0.2 1.  1.  0.8 0.6 1. ] [1 1 0 0 0 0 0]\n",
      "[1.  1.  0.6 0.6 0.6 0.8 1.  1. ] [0 1 0 0 0 0 1]\n",
      "[0.8 0.8 0.2 1.  0.6 0.2 0.4 1. ] [1 0 0 1 0 0 0]\n",
      "[1.  0.6 0.2 0.4 0.2 0.2 0.2 0. ] [1 1 0 0 0 0 0]\n",
      "[1.  0.8 0.2 0.4 0.6 0.4 0.4 1. ] [1 1 0 0 0 0 0]\n",
      "[0.8 1.  0.8 1.  1.  0.6 0.4 0. ] [1 1 0 0 1 0 0]\n",
      "[1.  0.8 0.2 0.8 0.4 0.6 0.6 1. ] [1 1 0 0 0 0 0]\n",
      "[1.  1.  0.6 0.6 0.6 0.8 0.8 1. ] [1 1 0 0 0 0 0]\n",
      "[0.8 0.6 1.  0.8 0.8 0.8 0.8 0. ] [0 0 0 1 0 1 0]\n",
      "[1.  0.8 0.2 0.6 0.2 0.4 0.6 1. ] [1 0 0 0 0 0 0]\n",
      "[0.8 0.8 0.6 0.6 0.8 0.8 0.6 0. ] [1 0 0 0 0 0 1]\n",
      "[0.8 1.  0.8 1.  0.6 1.  1.  1. ] [0 0 0 1 1 0 1]\n",
      "[0.8 0.8 0.8 0.6 0.6 0.6 0.8 0. ] [0 0 1 1 0 0 0]\n",
      "[1.  0.6 0.2 1.  0.6 0.8 0.2 0. ] [1 1 0 1 0 0 0]\n",
      "[0.6 0.8 1.  0.4 0.4 0.4 0.4 1. ] [1 1 1 0 0 0 0]\n",
      "[1.  0.4 0.4 0.8 0.6 0.6 0.6 0. ] [1 0 0 0 0 0 0]\n",
      "[0.8 0.2 0.2 1.  1.  0.6 0.4 1. ] [0 0 0 1 0 0 0]\n",
      "[1.  1.  0.8 0.8 0.2 0.6 0.6 0. ] [0 1 0 0 0 0 0]\n",
      "[0.8 1.  0.4 0.4 0.6 0.4 0.6 1. ] [0 1 0 0 0 0 0]\n",
      "[0.8 0.8 0.6 0.8 0.4 0.8 0.8 1. ] [1 1 0 0 0 0 0]\n",
      "[0.8 0.8 0.8 0.4 0.2 0.4 0.8 0. ] [1 1 1 0 0 0 0]\n",
      "[0.6 0.6 0.6 1.  0.8 0.8 0.6 1. ] [0 0 1 0 0 0 0]\n",
      "[0.8 1.  0.6 1.  0.2 1.  1.  0. ] [0 1 0 0 0 0 0]\n",
      "[0.8 1.  0.8 0.6 0.4 0.4 0.4 1. ] [1 1 0 1 0 0 0]\n",
      "[1.  0.8 0.4 0.6 0.4 0.6 0.2 1. ] [1 0 0 0 0 0 0]\n",
      "[1.  1.  0.8 0.4 0.8 0.6 0.6 1. ] [0 1 1 0 1 0 0]\n",
      "[1.  1.  0.4 0.2 0.6 0.6 0.8 1. ] [1 1 0 0 0 0 0]\n",
      "[0.6 1.  0.8 1.  0.4 0.6 0.8 1. ] [1 1 0 0 0 0 0]\n",
      "[1.  0.8 0.8 0.6 0.4 0.8 1.  1. ] [0 1 1 0 0 0 1]\n",
      "[1.  0.8 0.6 1.  0.2 0.2 0.2 1. ] [1 0 1 0 0 0 0]\n"
     ]
    }
   ],
   "source": [
    "for i in range(train_input.shape[0]):\n",
    "    print(train_input[i], train_target[i])"
   ]
  },
  {
   "cell_type": "code",
   "execution_count": 44,
   "id": "30e95057",
   "metadata": {},
   "outputs": [
    {
     "name": "stdout",
     "output_type": "stream",
     "text": [
      "119\n"
     ]
    }
   ],
   "source": [
    "print(train_input.shape[0])"
   ]
  },
  {
   "cell_type": "code",
   "execution_count": 28,
   "id": "60ae03ce",
   "metadata": {},
   "outputs": [],
   "source": [
    "collect_cnt = 0\n",
    "is_collect = True\n",
    "for i in range(pred_result.shape[0]):\n",
    "    is_collect = True\n",
    "    for j in range(pred_result.shape[1]):\n",
    "        if last_out[i][j] != test_target[i][j]:\n",
    "            is_collect = False\n",
    "    if is_collect:\n",
    "        collect_cnt += 1"
   ]
  }
 ],
 "metadata": {
  "kernelspec": {
   "display_name": "Python 3 (ipykernel)",
   "language": "python",
   "name": "python3"
  },
  "language_info": {
   "codemirror_mode": {
    "name": "ipython",
    "version": 3
   },
   "file_extension": ".py",
   "mimetype": "text/x-python",
   "name": "python",
   "nbconvert_exporter": "python",
   "pygments_lexer": "ipython3",
   "version": "3.9.7"
  }
 },
 "nbformat": 4,
 "nbformat_minor": 5
}
