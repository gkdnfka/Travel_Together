{
 "cells": [
  {
   "cell_type": "markdown",
   "id": "6ee234b7",
   "metadata": {},
   "source": [
    "# 새 모델 테스트\n",
    "## 방법\n",
    "1. 유저 카테고리 선호도를 분산/표준편차를 구한다.\n",
    "2. 분산이 높은 순으로 나열.\n",
    "3. 임의의 방법으로 해당 선호도를 x,y좌표계로 변환.\n",
    "4. 성별은 z축이 되어 구분됨.\n",
    "5. sequential 모델에 train\n",
    "6. 좌표 - 선호 카테고리 간의 상관관계 학습,\n",
    "7. profit!"
   ]
  },
  {
   "cell_type": "code",
   "execution_count": 18,
   "id": "d7afd505",
   "metadata": {},
   "outputs": [
    {
     "name": "stdout",
     "output_type": "stream",
     "text": [
      "<class 'list'>\n",
      "0     8\n",
      "1     9\n",
      "2    10\n",
      "3    11\n",
      "4    12\n",
      "5    13\n",
      "6    14\n",
      "7    15\n",
      "8    16\n",
      "Name: NOTICEBOARD_NUM, dtype: int64\n"
     ]
    },
    {
     "data": {
      "text/html": [
       "<div>\n",
       "<style scoped>\n",
       "    .dataframe tbody tr th:only-of-type {\n",
       "        vertical-align: middle;\n",
       "    }\n",
       "\n",
       "    .dataframe tbody tr th {\n",
       "        vertical-align: top;\n",
       "    }\n",
       "\n",
       "    .dataframe thead th {\n",
       "        text-align: right;\n",
       "    }\n",
       "</style>\n",
       "<table border=\"1\" class=\"dataframe\">\n",
       "  <thead>\n",
       "    <tr style=\"text-align: right;\">\n",
       "      <th></th>\n",
       "      <th>NOTICEBOARD_NUM</th>\n",
       "      <th>LABELS</th>\n",
       "    </tr>\n",
       "  </thead>\n",
       "  <tbody>\n",
       "    <tr>\n",
       "      <th>0</th>\n",
       "      <td>8</td>\n",
       "      <td>None</td>\n",
       "    </tr>\n",
       "    <tr>\n",
       "      <th>1</th>\n",
       "      <td>9</td>\n",
       "      <td>None</td>\n",
       "    </tr>\n",
       "    <tr>\n",
       "      <th>2</th>\n",
       "      <td>10</td>\n",
       "      <td>None</td>\n",
       "    </tr>\n",
       "    <tr>\n",
       "      <th>3</th>\n",
       "      <td>11</td>\n",
       "      <td>1</td>\n",
       "    </tr>\n",
       "    <tr>\n",
       "      <th>4</th>\n",
       "      <td>12</td>\n",
       "      <td>None</td>\n",
       "    </tr>\n",
       "    <tr>\n",
       "      <th>5</th>\n",
       "      <td>13</td>\n",
       "      <td>None</td>\n",
       "    </tr>\n",
       "    <tr>\n",
       "      <th>6</th>\n",
       "      <td>14</td>\n",
       "      <td>None</td>\n",
       "    </tr>\n",
       "    <tr>\n",
       "      <th>7</th>\n",
       "      <td>15</td>\n",
       "      <td>None</td>\n",
       "    </tr>\n",
       "    <tr>\n",
       "      <th>8</th>\n",
       "      <td>16</td>\n",
       "      <td>1</td>\n",
       "    </tr>\n",
       "  </tbody>\n",
       "</table>\n",
       "</div>"
      ],
      "text/plain": [
       "   NOTICEBOARD_NUM LABELS\n",
       "0                8   None\n",
       "1                9   None\n",
       "2               10   None\n",
       "3               11      1\n",
       "4               12   None\n",
       "5               13   None\n",
       "6               14   None\n",
       "7               15   None\n",
       "8               16      1"
      ]
     },
     "execution_count": 18,
     "metadata": {},
     "output_type": "execute_result"
    }
   ],
   "source": [
    "import json\n",
    "import sys\n",
    "import numpy as np\n",
    "import pandas as pd\n",
    "\n",
    "userdata = json.loads('{\\\"USER_CODE\\\":39,\\\"USER_TASTE\\\":\\\"0,22\\\"}')\n",
    "postdata = json.loads('[{\\\"NOTICEBOARD_NUM\\\":8,\\\"LABELS\\\":null},{\\\"NOTICEBOARD_NUM\\\":9,\\\"LABELS\\\":null},{\\\"NOTICEBOARD_NUM\\\":10,\\\"LABELS\\\":null},{\\\"NOTICEBOARD_NUM\\\":11,\\\"LABELS\\\":\\\"1\\\"},{\\\"NOTICEBOARD_NUM\\\":12,\\\"LABELS\\\":null},{\\\"NOTICEBOARD_NUM\\\":13,\\\"LABELS\\\":null},{\\\"NOTICEBOARD_NUM\\\":14,\\\"LABELS\\\":null},{\\\"NOTICEBOARD_NUM\\\":15,\\\"LABELS\\\":null},{\\\"NOTICEBOARD_NUM\\\":16,\\\"LABELS\\\":\\\"1\\\"}]')\n",
    "\n",
    "label_leng = 29\n",
    "print(type(postdata))\n",
    "\n",
    "post_df = pd.DataFrame(postdata)\n",
    "print(post_df['NOTICEBOARD_NUM'])\n",
    "post_df"
   ]
  },
  {
   "cell_type": "code",
   "execution_count": 38,
   "id": "88ca4173",
   "metadata": {},
   "outputs": [
    {
     "name": "stdout",
     "output_type": "stream",
     "text": [
      "NOTICEBOARD_NUM       8\n",
      "LABELS             None\n",
      "Name: 0, dtype: object\n"
     ]
    },
    {
     "data": {
      "text/html": [
       "<div>\n",
       "<style scoped>\n",
       "    .dataframe tbody tr th:only-of-type {\n",
       "        vertical-align: middle;\n",
       "    }\n",
       "\n",
       "    .dataframe tbody tr th {\n",
       "        vertical-align: top;\n",
       "    }\n",
       "\n",
       "    .dataframe thead th {\n",
       "        text-align: right;\n",
       "    }\n",
       "</style>\n",
       "<table border=\"1\" class=\"dataframe\">\n",
       "  <thead>\n",
       "    <tr style=\"text-align: right;\">\n",
       "      <th></th>\n",
       "      <th>8</th>\n",
       "    </tr>\n",
       "  </thead>\n",
       "  <tbody>\n",
       "    <tr>\n",
       "      <th>0</th>\n",
       "      <td>0.0</td>\n",
       "    </tr>\n",
       "    <tr>\n",
       "      <th>1</th>\n",
       "      <td>0.0</td>\n",
       "    </tr>\n",
       "    <tr>\n",
       "      <th>2</th>\n",
       "      <td>0.0</td>\n",
       "    </tr>\n",
       "    <tr>\n",
       "      <th>3</th>\n",
       "      <td>0.0</td>\n",
       "    </tr>\n",
       "    <tr>\n",
       "      <th>4</th>\n",
       "      <td>0.0</td>\n",
       "    </tr>\n",
       "    <tr>\n",
       "      <th>5</th>\n",
       "      <td>0.0</td>\n",
       "    </tr>\n",
       "    <tr>\n",
       "      <th>6</th>\n",
       "      <td>0.0</td>\n",
       "    </tr>\n",
       "    <tr>\n",
       "      <th>7</th>\n",
       "      <td>0.0</td>\n",
       "    </tr>\n",
       "    <tr>\n",
       "      <th>8</th>\n",
       "      <td>0.0</td>\n",
       "    </tr>\n",
       "    <tr>\n",
       "      <th>9</th>\n",
       "      <td>0.0</td>\n",
       "    </tr>\n",
       "    <tr>\n",
       "      <th>10</th>\n",
       "      <td>0.0</td>\n",
       "    </tr>\n",
       "    <tr>\n",
       "      <th>11</th>\n",
       "      <td>0.0</td>\n",
       "    </tr>\n",
       "    <tr>\n",
       "      <th>12</th>\n",
       "      <td>0.0</td>\n",
       "    </tr>\n",
       "    <tr>\n",
       "      <th>13</th>\n",
       "      <td>0.0</td>\n",
       "    </tr>\n",
       "    <tr>\n",
       "      <th>14</th>\n",
       "      <td>0.0</td>\n",
       "    </tr>\n",
       "    <tr>\n",
       "      <th>15</th>\n",
       "      <td>0.0</td>\n",
       "    </tr>\n",
       "    <tr>\n",
       "      <th>16</th>\n",
       "      <td>0.0</td>\n",
       "    </tr>\n",
       "    <tr>\n",
       "      <th>17</th>\n",
       "      <td>0.0</td>\n",
       "    </tr>\n",
       "    <tr>\n",
       "      <th>18</th>\n",
       "      <td>0.0</td>\n",
       "    </tr>\n",
       "    <tr>\n",
       "      <th>19</th>\n",
       "      <td>0.0</td>\n",
       "    </tr>\n",
       "    <tr>\n",
       "      <th>20</th>\n",
       "      <td>0.0</td>\n",
       "    </tr>\n",
       "    <tr>\n",
       "      <th>21</th>\n",
       "      <td>0.0</td>\n",
       "    </tr>\n",
       "    <tr>\n",
       "      <th>22</th>\n",
       "      <td>0.0</td>\n",
       "    </tr>\n",
       "    <tr>\n",
       "      <th>23</th>\n",
       "      <td>0.0</td>\n",
       "    </tr>\n",
       "    <tr>\n",
       "      <th>24</th>\n",
       "      <td>0.0</td>\n",
       "    </tr>\n",
       "    <tr>\n",
       "      <th>25</th>\n",
       "      <td>0.0</td>\n",
       "    </tr>\n",
       "    <tr>\n",
       "      <th>26</th>\n",
       "      <td>0.0</td>\n",
       "    </tr>\n",
       "    <tr>\n",
       "      <th>27</th>\n",
       "      <td>0.0</td>\n",
       "    </tr>\n",
       "    <tr>\n",
       "      <th>28</th>\n",
       "      <td>0.0</td>\n",
       "    </tr>\n",
       "  </tbody>\n",
       "</table>\n",
       "</div>"
      ],
      "text/plain": [
       "      8\n",
       "0   0.0\n",
       "1   0.0\n",
       "2   0.0\n",
       "3   0.0\n",
       "4   0.0\n",
       "5   0.0\n",
       "6   0.0\n",
       "7   0.0\n",
       "8   0.0\n",
       "9   0.0\n",
       "10  0.0\n",
       "11  0.0\n",
       "12  0.0\n",
       "13  0.0\n",
       "14  0.0\n",
       "15  0.0\n",
       "16  0.0\n",
       "17  0.0\n",
       "18  0.0\n",
       "19  0.0\n",
       "20  0.0\n",
       "21  0.0\n",
       "22  0.0\n",
       "23  0.0\n",
       "24  0.0\n",
       "25  0.0\n",
       "26  0.0\n",
       "27  0.0\n",
       "28  0.0"
      ]
     },
     "execution_count": 38,
     "metadata": {},
     "output_type": "execute_result"
    }
   ],
   "source": [
    "print(post_df.loc[0])\n",
    "temp = np.zeros(label_leng)\n",
    "if post_df.loc[0][\"LABELS\"] is not None:\n",
    "    for ch in post_df.loc[0][\"LABELS\"].split(',') :\n",
    "        temp[int(ch)-1] = 1\n",
    "else :\n",
    "    num_by_label = pd.DataFrame({post_df.loc[0][\"NOTICEBOARD_NUM\"] : temp})\n",
    "\n",
    "\n",
    "for i in range(1, post_df.size):\n",
    "    pass\n",
    "    "
   ]
  },
  {
   "cell_type": "code",
   "execution_count": 24,
   "id": "1618962d",
   "metadata": {},
   "outputs": [
    {
     "data": {
      "text/html": [
       "<div>\n",
       "<style scoped>\n",
       "    .dataframe tbody tr th:only-of-type {\n",
       "        vertical-align: middle;\n",
       "    }\n",
       "\n",
       "    .dataframe tbody tr th {\n",
       "        vertical-align: top;\n",
       "    }\n",
       "\n",
       "    .dataframe thead th {\n",
       "        text-align: right;\n",
       "    }\n",
       "</style>\n",
       "<table border=\"1\" class=\"dataframe\">\n",
       "  <thead>\n",
       "    <tr style=\"text-align: right;\">\n",
       "      <th></th>\n",
       "      <th>0</th>\n",
       "      <th>1</th>\n",
       "      <th>2</th>\n",
       "      <th>3</th>\n",
       "      <th>4</th>\n",
       "      <th>5</th>\n",
       "      <th>6</th>\n",
       "      <th>7</th>\n",
       "      <th>8</th>\n",
       "      <th>9</th>\n",
       "      <th>...</th>\n",
       "      <th>19</th>\n",
       "      <th>20</th>\n",
       "      <th>21</th>\n",
       "      <th>22</th>\n",
       "      <th>23</th>\n",
       "      <th>24</th>\n",
       "      <th>25</th>\n",
       "      <th>26</th>\n",
       "      <th>27</th>\n",
       "      <th>28</th>\n",
       "    </tr>\n",
       "  </thead>\n",
       "  <tbody>\n",
       "    <tr>\n",
       "      <th>39</th>\n",
       "      <td>1.0</td>\n",
       "      <td>0.0</td>\n",
       "      <td>0.0</td>\n",
       "      <td>0.0</td>\n",
       "      <td>0.0</td>\n",
       "      <td>0.0</td>\n",
       "      <td>0.0</td>\n",
       "      <td>0.0</td>\n",
       "      <td>0.0</td>\n",
       "      <td>0.0</td>\n",
       "      <td>...</td>\n",
       "      <td>0.0</td>\n",
       "      <td>0.0</td>\n",
       "      <td>0.0</td>\n",
       "      <td>1.0</td>\n",
       "      <td>0.0</td>\n",
       "      <td>0.0</td>\n",
       "      <td>0.0</td>\n",
       "      <td>0.0</td>\n",
       "      <td>0.0</td>\n",
       "      <td>0.0</td>\n",
       "    </tr>\n",
       "  </tbody>\n",
       "</table>\n",
       "<p>1 rows × 29 columns</p>\n",
       "</div>"
      ],
      "text/plain": [
       "     0    1    2    3    4    5    6    7    8    9   ...   19   20   21   22  \\\n",
       "39  1.0  0.0  0.0  0.0  0.0  0.0  0.0  0.0  0.0  0.0  ...  0.0  0.0  0.0  1.0   \n",
       "\n",
       "     23   24   25   26   27   28  \n",
       "39  0.0  0.0  0.0  0.0  0.0  0.0  \n",
       "\n",
       "[1 rows x 29 columns]"
      ]
     },
     "execution_count": 24,
     "metadata": {},
     "output_type": "execute_result"
    }
   ],
   "source": [
    "user_taste_row = np.zeros(29)\n",
    "user_taste = userdata['USER_TASTE'].split(',')\n",
    "user_taste = [int(taste) for taste in user_taste]\n",
    "\n",
    "for i in user_taste:\n",
    "    user_taste_row[i] = 1\n",
    "\n",
    "user_taste_df = pd.DataFrame({userdata['USER_CODE'] : user_taste_row})\n",
    "user_taste_df = user_taste_df.T\n",
    "user_taste_df\n"
   ]
  },
  {
   "cell_type": "code",
   "execution_count": 3,
   "id": "9166138e",
   "metadata": {},
   "outputs": [
    {
     "data": {
      "text/plain": [
       "array([0.65870907, 1.19300932, 1.74802937, 1.44434935, 1.23363812,\n",
       "       1.41498131, 1.59938741])"
      ]
     },
     "execution_count": 3,
     "metadata": {},
     "output_type": "execute_result"
    }
   ],
   "source": [
    "import numpy as np\n",
    "var_arr = np.array([np.var(df.loc[:, \"휴양\"]), np.var(df.loc[:, \"자연경관\"]), np.var(df.loc[:, \"문화유산\"]), np.var(df.loc[:, \"액티비티\"]), np.var(df.loc[:, \"쇼핑\"]), np.var(df.loc[:, \"공연\"]), np.var(df.loc[:, \"전시물\"])])\n",
    "var_arr\n",
    "# 2,6,3,5,4,1,0\n",
    "#x = 2 * 3 * 4/ y = 6 * 5 * 1"
   ]
  },
  {
   "cell_type": "code",
   "execution_count": 4,
   "id": "6bd134e8",
   "metadata": {},
   "outputs": [],
   "source": [
    "gender_data = df.loc[:, '성별']\n",
    "want_data = df.loc[:, '경험']\n",
    "#exp_data = df.loc[:, '경험']\n",
    "personal_data = np.zeros(shape = (gender_data.size, 7))\n",
    "\n",
    "for i in range(gender_data.size):\n",
    "    for j in range(1, df.loc[i].size - 1):\n",
    "        personal_data[i][j-1] = df.iloc[i][j]\n",
    "        "
   ]
  },
  {
   "cell_type": "code",
   "execution_count": 51,
   "id": "925c892a",
   "metadata": {},
   "outputs": [],
   "source": [
    "new_input = np.zeros(shape = (gender_data.size, 3))\n",
    "for i in range(gender_data.size):\n",
    "    xpos = (personal_data[i][2] * 25 + personal_data[i][3]*5 + personal_data[i][4])/155\n",
    "    ypos = (personal_data[i][6] * 25 + personal_data[i][5]*5 + personal_data[i][1])/155\n",
    "    new_input[i] = np.array([xpos, ypos, 0 if gender_data[i] == '여성' else 1])\n",
    "    "
   ]
  },
  {
   "cell_type": "code",
   "execution_count": 52,
   "id": "27e83ab2",
   "metadata": {},
   "outputs": [
    {
     "data": {
      "image/png": "[encoded data removed]",
      "text/plain": [
       "<Figure size 432x288 with 1 Axes>"
      ]
     },
     "metadata": {
      "needs_background": "light"
     },
     "output_type": "display_data"
    }
   ],
   "source": [
    "import matplotlib.pyplot as plt\n",
    "\n",
    "male_x = []\n",
    "male_y = []\n",
    "female_x = []\n",
    "female_y = []\n",
    "\n",
    "for i in range(gender_data.size):\n",
    "    if new_input[i, 2] == 0:\n",
    "        female_x.append(new_input[i, 0])\n",
    "        female_y.append(new_input[i, 1])\n",
    "    else :\n",
    "        male_x.append(new_input[i, 0])\n",
    "        male_y.append(new_input[i, 1])\n",
    "        \n",
    "plt.scatter(male_x, male_y, color = \"blue\", label = \"male\")\n",
    "plt.scatter(female_x, female_y, color = \"red\", label = \"female\")\n",
    "plt.legend()\n",
    "plt.show()"
   ]
  },
  {
   "cell_type": "code",
   "execution_count": 53,
   "id": "d466ed9f",
   "metadata": {},
   "outputs": [],
   "source": [
    "from ast import literal_eval\n",
    "dataset = []\n",
    "target = pd.read_csv(\"./survey_norm.csv\")\n",
    "\n",
    "for i in range(target['input_data'].size):\n",
    "    dataset.append( [new_input[i]\n",
    "                     , np.array(literal_eval(target['want_hot_vec'][i].replace(' ', ',').replace(',,', ',')), dtype = int)])"
   ]
  },
  {
   "cell_type": "code",
   "execution_count": 54,
   "id": "f9820ac5",
   "metadata": {},
   "outputs": [],
   "source": [
    "import random\n",
    "random.shuffle(dataset)"
   ]
  },
  {
   "cell_type": "code",
   "execution_count": 55,
   "id": "8d50efa4",
   "metadata": {},
   "outputs": [],
   "source": [
    "train_set = dataset[:-30]\n",
    "test_set = dataset[-30:]\n",
    "\n",
    "train_input = []\n",
    "train_target = []\n",
    "\n",
    "test_input = []\n",
    "test_target = []\n",
    "for i in range(len(train_set)):\n",
    "    train_input.append(train_set[i][0].copy())\n",
    "    train_target.append(train_set[i][1].copy())\n",
    "\n",
    "train_input = np.array(train_input)\n",
    "train_target = np.array(train_target)\n",
    "\n",
    "for i in range(len(test_set)):\n",
    "    test_input.append(test_set[i][0].copy())\n",
    "    test_target.append(test_set[i][1].copy())\n",
    "\n",
    "test_input = np.array(test_input)\n",
    "test_target = np.array(test_target)"
   ]
  },
  {
   "cell_type": "code",
   "execution_count": 56,
   "id": "6e255dcf",
   "metadata": {},
   "outputs": [],
   "source": [
    "import tensorflow as tf\n",
    "from keras import models \n",
    "from keras import layers\n",
    "from keras import regularizers\n",
    "\n",
    "def build_model(train_len):\n",
    "    model = models.Sequential()\n",
    "    model.add(layers.Dense(16, activation = 'relu', input_shape = (train_len, )))\n",
    "    #model.add(layers.Dense(16, activation = 'relu'))\n",
    "    model.add(layers.Dense(16, activation = 'relu'))\n",
    "    model.add(layers.Dense(7, activation = 'sigmoid'))\n",
    "    \n",
    "    model.compile(optimizer = 'rmsprop', loss='mse', metrics=[tf.keras.metrics.MeanAbsoluteError(), \"accuracy\"])\n",
    "    #model.compile(optimizer = 'adam', loss='mse', metrics=['accuracy'])\n",
    "    return model"
   ]
  },
  {
   "cell_type": "code",
   "execution_count": 57,
   "id": "731108aa",
   "metadata": {},
   "outputs": [],
   "source": [
    "k = 4\n",
    "num_val_sample = len(train_input) // k\n",
    "num_epochs = 200\n",
    "all_mae_histories = []\n",
    "all_acc_histories = []\n",
    "np.random.shuffle(train_input)\n",
    "for i in range(k):\n",
    "    val_input = train_input[i * num_val_sample : (i+1) * num_val_sample]\n",
    "    val_target = train_target[i * num_val_sample : (i+1) * num_val_sample]\n",
    "    \n",
    "    partial_train_input = np.concatenate(\n",
    "        [train_input[:i * num_val_sample],\n",
    "         train_input[(i + 1) * num_val_sample:]], axis = 0)\n",
    "    partial_train_target = np.concatenate(\n",
    "        [train_target[:i * num_val_sample],\n",
    "         train_target[(i + 1) * num_val_sample:]], axis = 0)\n",
    "    \n",
    "    model = build_model(partial_train_input.shape[1])\n",
    "    history = model.fit(partial_train_input, partial_train_target, \n",
    "                        validation_data = (val_input, val_target), epochs = num_epochs, \n",
    "              batch_size = 4, verbose=0)\n",
    "    mae_history = history.history['val_mean_absolute_error']\n",
    "    all_mae_histories.append(mae_history)\n",
    "    all_acc_histories.append(history.history['accuracy'])"
   ]
  },
  {
   "cell_type": "code",
   "execution_count": 58,
   "id": "443c9e50",
   "metadata": {},
   "outputs": [],
   "source": [
    "average_mae_history = [np.mean([x[i] for  x in all_mae_histories]) for i in range(num_epochs)]"
   ]
  },
  {
   "cell_type": "code",
   "execution_count": 59,
   "id": "a6c6d9d1",
   "metadata": {},
   "outputs": [
    {
     "data": {
      "image/png": "[encoded data removed]",
      "text/plain": [
       "<Figure size 432x288 with 1 Axes>"
      ]
     },
     "metadata": {
      "needs_background": "light"
     },
     "output_type": "display_data"
    }
   ],
   "source": [
    "#smooth_mae_history = smooth_curve(average_mae_history[10:])\n",
    "\n",
    "#plt.plot(range(1, len(smooth_mae_history)+1), smooth_mae_history)\n",
    "plt.plot(range(num_epochs), average_mae_history)\n",
    "plt.xlabel('Epochs')\n",
    "plt.ylabel('Validation MAE')\n",
    "plt.show()"
   ]
  },
  {
   "cell_type": "code",
   "execution_count": 60,
   "id": "b84577b4",
   "metadata": {},
   "outputs": [
    {
     "data": {
      "image/png": "[encoded data removed]",
      "text/plain": [
       "<Figure size 432x288 with 1 Axes>"
      ]
     },
     "metadata": {
      "needs_background": "light"
     },
     "output_type": "display_data"
    }
   ],
   "source": [
    "average_acc_history = [np.mean([x[i] for  x in all_acc_histories]) for i in range(num_epochs)]\n",
    "plt.plot(range(num_epochs), average_acc_history)\n",
    "plt.xlabel('Epochs')\n",
    "plt.ylabel('Acc in Epochs')\n",
    "plt.show()"
   ]
  },
  {
   "cell_type": "code",
   "execution_count": 61,
   "id": "52f83b42",
   "metadata": {},
   "outputs": [
    {
     "data": {
      "image/png": "[encoded data removed]",
      "text/plain": [
       "<Figure size 432x288 with 1 Axes>"
      ]
     },
     "metadata": {
      "needs_background": "light"
     },
     "output_type": "display_data"
    }
   ],
   "source": [
    "history_dict = history.history\n",
    "\n",
    "plt.plot(range(num_epochs), history_dict['loss'])\n",
    "plt.xlabel('Epochs')\n",
    "plt.ylabel('loss')\n",
    "plt.show()"
   ]
  },
  {
   "cell_type": "code",
   "execution_count": 62,
   "id": "83f38444",
   "metadata": {},
   "outputs": [
    {
     "name": "stdout",
     "output_type": "stream",
     "text": [
      "1/1 [==============================] - 0s 150ms/step - loss: 0.1809 - mean_absolute_error: 0.3318 - accuracy: 0.3667\n",
      "0.18092651665210724 0.33175748586654663\n"
     ]
    }
   ],
   "source": [
    "model = build_model(train_input.shape[1])\n",
    "model.fit(train_input, train_target, epochs = 100, batch_size = 4, verbose = 0)\n",
    "test_mse, test_mae, test_acc = model.evaluate(test_input, test_target)\n",
    "print(test_mse, test_mae)"
   ]
  },
  {
   "cell_type": "code",
   "execution_count": 63,
   "id": "dbab9782",
   "metadata": {},
   "outputs": [],
   "source": [
    "result_df = pd.DataFrame(columns = ['input_data', 'target', 'result'])\n",
    "pred_result = model.predict(test_input)\n",
    "\n",
    "for i in range(pred_result.shape[0]):\n",
    "    result_df.loc[i] = [test_input[i], test_target[i], pred_result[i]]"
   ]
  },
  {
   "cell_type": "code",
   "execution_count": 68,
   "id": "8f59f489",
   "metadata": {},
   "outputs": [],
   "source": [
    "last_out = []\n",
    "for i in range(pred_result.shape[0]):\n",
    "    temp = []\n",
    "    for j in range(pred_result.shape[1]):\n",
    "        if pred_result[i][j] > 0.5:\n",
    "            temp.append(1)\n",
    "        else:\n",
    "            temp.append(0)\n",
    "            \n",
    "    if np.all(np.array(temp) == 0):\n",
    "        temp[np.argmax(np.array(temp))] = 1\n",
    "        \n",
    "    last_out.append(temp)\n",
    "last_out = np.array(last_out)"
   ]
  },
  {
   "cell_type": "code",
   "execution_count": 72,
   "id": "a5c5374e",
   "metadata": {},
   "outputs": [
    {
     "data": {
      "text/plain": [
       "array([[0.50393605, 0.68252486, 0.158999  , 0.13044205, 0.21668208,\n",
       "        0.00987455, 0.08377087],\n",
       "       [0.76834273, 0.52701575, 0.26360577, 0.18513498, 0.14501232,\n",
       "        0.00684854, 0.11742595],\n",
       "       [0.6544567 , 0.55499053, 0.24579534, 0.13969803, 0.16330013,\n",
       "        0.00679135, 0.11508116],\n",
       "       [0.5751562 , 0.61710304, 0.22671536, 0.23842615, 0.2297529 ,\n",
       "        0.03076273, 0.13127139],\n",
       "       [0.5711691 , 0.60884   , 0.23889747, 0.25342545, 0.24372733,\n",
       "        0.03810561, 0.14451993],\n",
       "       [0.44881445, 0.72612196, 0.13206708, 0.12612963, 0.23589805,\n",
       "        0.01083326, 0.07267252],\n",
       "       [0.7782321 , 0.5149576 , 0.2895429 , 0.20601094, 0.16348258,\n",
       "        0.00896132, 0.13729545],\n",
       "       [0.72768193, 0.52088   , 0.3243248 , 0.26816022, 0.22340411,\n",
       "        0.02562201, 0.18566585],\n",
       "       [0.65323305, 0.53377235, 0.27346197, 0.15772241, 0.18061352,\n",
       "        0.00980482, 0.13784385],\n",
       "       [0.56473917, 0.6479776 , 0.17468429, 0.12123477, 0.18100107,\n",
       "        0.00648978, 0.08299652],\n",
       "       [0.7083848 , 0.5600339 , 0.24597338, 0.19550106, 0.15820363,\n",
       "        0.01025555, 0.11537626],\n",
       "       [0.50599617, 0.68105954, 0.15982279, 0.13030052, 0.21567214,\n",
       "        0.0097824 , 0.08397987],\n",
       "       [0.4752493 , 0.6713449 , 0.18476027, 0.1808986 , 0.27991566,\n",
       "        0.02525893, 0.11772457],\n",
       "       [0.5625812 , 0.63144195, 0.19343266, 0.13620183, 0.19843078,\n",
       "        0.00911859, 0.09814978],\n",
       "       [0.59219307, 0.58283335, 0.24136117, 0.16800797, 0.21435249,\n",
       "        0.01426354, 0.13254666],\n",
       "       [0.43082422, 0.70918345, 0.15794435, 0.17369339, 0.29557836,\n",
       "        0.02614945, 0.10343802],\n",
       "       [0.61036414, 0.60907054, 0.20060304, 0.12536272, 0.16698447,\n",
       "        0.00594929, 0.09239119],\n",
       "       [0.67005485, 0.52139825, 0.28148338, 0.15612343, 0.17171192,\n",
       "        0.00884154, 0.13872701],\n",
       "       [0.56170046, 0.62964946, 0.19607708, 0.13947812, 0.20185745,\n",
       "        0.00971854, 0.10076976],\n",
       "       [0.6703732 , 0.5789847 , 0.21055335, 0.11326772, 0.13219139,\n",
       "        0.00343332, 0.08562082],\n",
       "       [0.6535437 , 0.5937369 , 0.20099208, 0.11265051, 0.13761595,\n",
       "        0.00363833, 0.08302644],\n",
       "       [0.55508316, 0.61609465, 0.21678078, 0.16619298, 0.22896194,\n",
       "        0.01564994, 0.12246329],\n",
       "       [0.5658414 , 0.58666575, 0.2708857 , 0.2905115 , 0.27603114,\n",
       "        0.06123829, 0.18031207],\n",
       "       [0.6264506 , 0.59142673, 0.21430317, 0.129219  , 0.16449928,\n",
       "        0.00608048, 0.09871113],\n",
       "       [0.51597637, 0.61519766, 0.2537158 , 0.29954168, 0.3124259 ,\n",
       "        0.08085763, 0.17939687],\n",
       "       [0.7329005 , 0.5509863 , 0.24728489, 0.18575257, 0.1479505 ,\n",
       "        0.00802121, 0.11107135],\n",
       "       [0.69335   , 0.55085987, 0.26476115, 0.2194561 , 0.17917043,\n",
       "        0.01567528, 0.13553536],\n",
       "       [0.74054444, 0.5562735 , 0.23697397, 0.17358631, 0.13756782,\n",
       "        0.00630823, 0.10116667],\n",
       "       [0.5576387 , 0.63279396, 0.19414613, 0.13977805, 0.20378485,\n",
       "        0.00990248, 0.10027793],\n",
       "       [0.69815534, 0.5603967 , 0.24979186, 0.20350873, 0.16571924,\n",
       "        0.01206371, 0.12093282]], dtype=float32)"
      ]
     },
     "execution_count": 72,
     "metadata": {},
     "output_type": "execute_result"
    }
   ],
   "source": [
    "pred_result"
   ]
  },
  {
   "cell_type": "code",
   "execution_count": 69,
   "id": "3bf2b139",
   "metadata": {},
   "outputs": [],
   "source": [
    "collect_cnt = 0\n",
    "for i in range(pred_result.shape[0]):\n",
    "    for j in range(pred_result.shape[1]):\n",
    "        if last_out[i][j] == test_target[i][j]:\n",
    "            collect_cnt += 1"
   ]
  },
  {
   "cell_type": "code",
   "execution_count": 70,
   "id": "c88111e1",
   "metadata": {},
   "outputs": [
    {
     "name": "stdout",
     "output_type": "stream",
     "text": [
      "75.23809523809524\n"
     ]
    }
   ],
   "source": [
    "print((collect_cnt / 210) * 100)"
   ]
  },
  {
   "cell_type": "code",
   "execution_count": 71,
   "id": "b37d9617",
   "metadata": {},
   "outputs": [
    {
     "name": "stdout",
     "output_type": "stream",
     "text": [
      "[0.75483871 0.41290323 1.        ] ,  [1 1 0 0 1 0 0] ,  [1 1 0 0 0 0 0]\n",
      "[0.78709677 1.         0.        ] ,  [1 1 0 0 0 0 0] ,  [1 1 0 0 0 0 0]\n",
      "[0.50322581 0.93548387 1.        ] ,  [1 1 1 0 0 0 0] ,  [1 1 0 0 0 0 0]\n",
      "[0.67741935 0.43225806 0.        ] ,  [1 0 0 1 0 0 0] ,  [1 1 0 0 0 0 0]\n",
      "[0.56774194 0.41290323 0.        ] ,  [1 0 0 0 1 0 0] ,  [1 1 0 0 0 0 0]\n",
      "[0.85806452 0.23225806 1.        ] ,  [1 0 1 0 1 0 0] ,  [0 1 0 0 0 0 0]\n",
      "[0.56774194 1.         0.        ] ,  [1 1 0 0 0 1 0] ,  [1 1 0 0 0 0 0]\n",
      "[0.2 0.8 0. ] ,  [0 1 0 0 0 0 1] ,  [1 1 0 0 0 0 0]\n",
      "[0.30322581 0.92903226 1.        ] ,  [1 0 0 1 0 0 0] ,  [1 1 0 0 0 0 0]\n",
      "[0.81935484 0.61290323 1.        ] ,  [0 1 1 0 0 0 0] ,  [1 1 0 0 0 0 0]\n",
      "[0.83870968 0.83225806 0.        ] ,  [0 0 0 0 1 0 0] ,  [1 1 0 0 0 0 0]\n",
      "[0.75483871 0.41935484 1.        ] ,  [1 1 0 1 0 0 0] ,  [1 1 0 0 0 0 0]\n",
      "[0.22580645 0.36129032 1.        ] ,  [0 0 0 0 1 0 0] ,  [0 1 0 0 0 0 0]\n",
      "[0.63225806 0.60645161 1.        ] ,  [0 1 0 1 0 0 0] ,  [1 1 0 0 0 0 0]\n",
      "[0.2516129  0.72903226 1.        ] ,  [1 0 1 0 1 0 0] ,  [1 1 0 0 0 0 0]\n",
      "[0.33548387 0.21290323 1.        ] ,  [0 1 0 0 0 0 0] ,  [0 1 0 0 0 0 0]\n",
      "[0.72258065 0.77419355 1.        ] ,  [0 0 1 0 0 0 0] ,  [1 1 0 0 0 0 0]\n",
      "[0.30322581 0.99354839 1.        ] ,  [1 1 0 1 0 0 0] ,  [1 1 0 0 0 0 0]\n",
      "[0.59354839 0.60645161 1.        ] ,  [1 1 0 0 0 0 0] ,  [1 1 0 0 0 0 0]\n",
      "[0.82580645 1.         1.        ] ,  [0 0 0 1 1 0 1] ,  [1 1 0 0 0 0 0]\n",
      "[0.8516129  0.93548387 1.        ] ,  [0 0 1 0 0 0 0] ,  [1 1 0 0 0 0 0]\n",
      "[0.30322581 0.60645161 1.        ] ,  [1 1 0 0 0 0 0] ,  [1 1 0 0 0 0 0]\n",
      "[0.30967742 0.38064516 0.        ] ,  [0 1 1 0 0 0 0] ,  [1 1 0 0 0 0 0]\n",
      "[0.65806452 0.83225806 1.        ] ,  [0 1 0 1 0 0 0] ,  [1 1 0 0 0 0 0]\n",
      "[0.29677419 0.21935484 0.        ] ,  [1 1 0 1 0 0 0] ,  [1 1 0 0 0 0 0]\n",
      "[0.87741935 0.90322581 0.        ] ,  [0 1 0 0 0 0 0] ,  [1 1 0 0 0 0 0]\n",
      "[0.65806452 0.77419355 0.        ] ,  [0 1 0 0 0 0 0] ,  [1 1 0 0 0 0 0]\n",
      "[0.98064516 0.93548387 0.        ] ,  [0 1 0 0 0 0 0] ,  [1 1 0 0 0 0 0]\n",
      "[0.59354839 0.59354839 1.        ] ,  [1 0 0 0 0 0 0] ,  [1 1 0 0 0 0 0]\n",
      "[0.78709677 0.8        0.        ] ,  [1 1 1 0 0 1 1] ,  [1 1 0 0 0 0 0]\n"
     ]
    }
   ],
   "source": [
    "for i in range(pred_result.shape[0]):\n",
    "    print(test_input[i], ', ', test_target[i], ', ', last_out[i])"
   ]
  },
  {
   "cell_type": "code",
   "execution_count": null,
   "id": "6267fc72",
   "metadata": {},
   "outputs": [],
   "source": []
  }
 ],
 "metadata": {
  "interpreter": {
   "hash": "1cd3c237243e090e6025fcac487f9db8ae678f89bb63ef5a325b5ad4b1877412"
  },
  "kernelspec": {
   "display_name": "Python 3.9.7 ('base')",
   "language": "python",
   "name": "python3"
  },
  "language_info": {
   "codemirror_mode": {
    "name": "ipython",
    "version": 3
   },
   "file_extension": ".py",
   "mimetype": "text/x-python",
   "name": "python",
   "nbconvert_exporter": "python",
   "pygments_lexer": "ipython3",
   "version": "3.9.7"
  }
 },
 "nbformat": 4,
 "nbformat_minor": 5
}
