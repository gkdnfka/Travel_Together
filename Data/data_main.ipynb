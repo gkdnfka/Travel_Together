{
 "cells": [
  {
   "cell_type": "code",
   "execution_count": 1,
   "id": "376dca39",
   "metadata": {},
   "outputs": [],
   "source": [
    "import pandas as pd\n",
    "import numpy as np\n",
    "data = pd.read_csv(\"./survey_norm.csv\")"
   ]
  },
  {
   "cell_type": "code",
   "execution_count": 2,
   "id": "2b561701",
   "metadata": {},
   "outputs": [],
   "source": [
    "from ast import literal_eval\n",
    "dataset= []\n",
    "for i in range(data['input_data'].size):\n",
    "    dataset.append([np.array(literal_eval(data['input_data'][i].replace(' ', ',').replace(',,', ',')), dtype = float)\n",
    "                     , int(data['exp_data'][i])])"
   ]
  },
  {
   "cell_type": "code",
   "execution_count": 3,
   "id": "e2449713",
   "metadata": {},
   "outputs": [],
   "source": [
    "def smooth_curve(points, factor = 0.9):\n",
    "    smoothed_points = []\n",
    "    for point in points:\n",
    "        if smoothed_points:\n",
    "            previous = smoothed_points[-1]\n",
    "            smoothed_points.append(previous * factor + point * (1 - factor))\n",
    "        else:\n",
    "            smoothed_points.append(point)\n",
    "    return smoothed_points"
   ]
  },
  {
   "cell_type": "code",
   "execution_count": 4,
   "id": "e0dd38db",
   "metadata": {},
   "outputs": [],
   "source": [
    "import random\n",
    "random.shuffle(dataset)"
   ]
  },
  {
   "cell_type": "code",
   "execution_count": 6,
   "id": "1785f3b7",
   "metadata": {},
   "outputs": [],
   "source": [
    "train_set = dataset[:-30]\n",
    "test_set = dataset[-30:]\n",
    "\n",
    "train_input = []\n",
    "train_target = []\n",
    "\n",
    "test_input = []\n",
    "test_target = []\n",
    "for i in range(len(train_set)):\n",
    "    train_input.append(train_set[i][0].copy())\n",
    "    train_target.append(train_set[i][1])\n",
    "\n",
    "train_input = np.array(train_input)\n",
    "train_target = np.array(train_target)\n",
    "\n",
    "for i in range(len(test_set)):\n",
    "    test_input.append(test_set[i][0].copy())\n",
    "    test_target.append(test_set[i][1])\n",
    "\n",
    "test_input = np.array(test_input)\n",
    "test_target = np.array(test_target)"
   ]
  },
  {
   "cell_type": "code",
   "execution_count": 18,
   "id": "11425969",
   "metadata": {},
   "outputs": [
    {
     "name": "stdout",
     "output_type": "stream",
     "text": [
      "54 65\n"
     ]
    }
   ],
   "source": [
    "train_a = 0\n",
    "train_b = 0\n",
    "\n",
    "for data in train_set:\n",
    "    if data[1] == 0:\n",
    "        train_a += 1\n",
    "    else :\n",
    "        train_b += 1\n",
    "print(train_a, train_b)"
   ]
  },
  {
   "cell_type": "code",
   "execution_count": 59,
   "id": "4ef1ea1c",
   "metadata": {},
   "outputs": [],
   "source": [
    "import tensorflow as tf\n",
    "from keras import models \n",
    "from keras import layers\n",
    "from keras import regularizers\n",
    "\n",
    "def build_model(train_len):\n",
    "    model = models.Sequential()\n",
    "    model.add(layers.Dense(16, activation = 'relu', input_shape = (train_len, )))\n",
    "    model.add(layers.Dense(8, activation = 'relu'))\n",
    "    #model.add(layers.Dense(4, activation = 'relu'))\n",
    "    model.add(layers.Dense(1, activation = 'sigmoid'))\n",
    "    \n",
    "    model.compile(optimizer = 'rmsprop', loss='mse', metrics=[tf.keras.metrics.MeanAbsoluteError(), 'accuracy'])\n",
    "    #model.compile(optimizer = 'adam', loss='mse', metrics=['accuracy'])\n",
    "    return model\n"
   ]
  },
  {
   "cell_type": "code",
   "execution_count": 60,
   "id": "9645ed6c",
   "metadata": {},
   "outputs": [
    {
     "name": "stdout",
     "output_type": "stream",
     "text": [
      "WARNING:tensorflow:5 out of the last 1604 calls to <function Model.make_test_function.<locals>.test_function at 0x0000015B8828E820> triggered tf.function retracing. Tracing is expensive and the excessive number of tracings could be due to (1) creating @tf.function repeatedly in a loop, (2) passing tensors with different shapes, (3) passing Python objects instead of tensors. For (1), please define your @tf.function outside of the loop. For (2), @tf.function has experimental_relax_shapes=True option that relaxes argument shapes that can avoid unnecessary retracing. For (3), please refer to https://www.tensorflow.org/guide/function#controlling_retracing and https://www.tensorflow.org/api_docs/python/tf/function for  more details.\n"
     ]
    }
   ],
   "source": [
    "k = 4\n",
    "num_val_sample = len(train_input) // k\n",
    "num_epochs = 200\n",
    "all_mae_histories = []\n",
    "\n",
    "np.random.shuffle(train_input)\n",
    "for i in range(k):\n",
    "    val_input = train_input[i * num_val_sample : (i+1) * num_val_sample]\n",
    "    val_target = train_target[i * num_val_sample : (i+1) * num_val_sample]\n",
    "    \n",
    "    partial_train_input = np.concatenate(\n",
    "        [train_input[:i * num_val_sample],\n",
    "         train_input[(i + 1) * num_val_sample:]], axis = 0)\n",
    "    partial_train_target = np.concatenate(\n",
    "        [train_target[:i * num_val_sample],\n",
    "         train_target[(i + 1) * num_val_sample:]], axis = 0)\n",
    "    \n",
    "    model = build_model(partial_train_input.shape[1])\n",
    "    history = model.fit(partial_train_input, partial_train_target, \n",
    "                        validation_data = (val_input, val_target), epochs = num_epochs, \n",
    "              batch_size = 4, verbose=0)\n",
    "    mae_history = history.history['val_mean_absolute_error']\n",
    "    all_mae_histories.append(mae_history)"
   ]
  },
  {
   "cell_type": "code",
   "execution_count": 61,
   "id": "4a8f98ce",
   "metadata": {},
   "outputs": [],
   "source": [
    "average_mae_history = [np.mean([x[i] for  x in all_mae_histories]) for i in range(num_epochs)]"
   ]
  },
  {
   "cell_type": "code",
   "execution_count": 62,
   "id": "e72875bc",
   "metadata": {
    "scrolled": true
   },
   "outputs": [
    {
     "data": {
      "image/png": "[encoded data removed]",
      "text/plain": [
       "<Figure size 432x288 with 1 Axes>"
      ]
     },
     "metadata": {
      "needs_background": "light"
     },
     "output_type": "display_data"
    }
   ],
   "source": [
    "import matplotlib.pyplot as plt\n",
    "\n",
    "#smooth_mae_history = smooth_curve(average_mae_history[10:])\n",
    "\n",
    "#plt.plot(range(1, len(smooth_mae_history)+1), smooth_mae_history)\n",
    "plt.plot(range(num_epochs), average_mae_history)\n",
    "plt.xlabel('Epochs')\n",
    "plt.ylabel('Validation MAE')\n",
    "plt.show()"
   ]
  },
  {
   "cell_type": "code",
   "execution_count": 63,
   "id": "2cd79d6b",
   "metadata": {},
   "outputs": [
    {
     "data": {
      "image/png": "[encoded data removed]",
      "text/plain": [
       "<Figure size 432x288 with 1 Axes>"
      ]
     },
     "metadata": {
      "needs_background": "light"
     },
     "output_type": "display_data"
    }
   ],
   "source": [
    "history_dict = history.history\n",
    "\n",
    "plt.plot(range(num_epochs), history_dict['loss'])\n",
    "plt.xlabel('Epochs')\n",
    "plt.ylabel('loss')\n",
    "plt.show()"
   ]
  },
  {
   "cell_type": "code",
   "execution_count": 64,
   "id": "e73bb81f",
   "metadata": {
    "scrolled": true
   },
   "outputs": [
    {
     "name": "stdout",
     "output_type": "stream",
     "text": [
      "1/1 [==============================] - 0s 68ms/step - loss: 0.2673 - mean_absolute_error: 0.4968 - accuracy: 0.6333\n",
      "0.2672734260559082 0.4967743158340454\n"
     ]
    }
   ],
   "source": [
    "model = build_model(train_input.shape[1])\n",
    "model.fit(train_input, train_target, epochs = 100, batch_size = 4, verbose = 0)\n",
    "test_mse, test_mae, test_acc = model.evaluate(test_input, test_target)\n",
    "print(test_mse, test_mae)"
   ]
  },
  {
   "cell_type": "code",
   "execution_count": 65,
   "id": "08d77c37",
   "metadata": {},
   "outputs": [
    {
     "name": "stdout",
     "output_type": "stream",
     "text": [
      "WARNING:tensorflow:6 out of the last 8 calls to <function Model.make_predict_function.<locals>.predict_function at 0x0000015BF27C5A60> triggered tf.function retracing. Tracing is expensive and the excessive number of tracings could be due to (1) creating @tf.function repeatedly in a loop, (2) passing tensors with different shapes, (3) passing Python objects instead of tensors. For (1), please define your @tf.function outside of the loop. For (2), @tf.function has experimental_relax_shapes=True option that relaxes argument shapes that can avoid unnecessary retracing. For (3), please refer to https://www.tensorflow.org/guide/function#controlling_retracing and https://www.tensorflow.org/api_docs/python/tf/function for  more details.\n"
     ]
    },
    {
     "data": {
      "text/plain": [
       "array([[0.6396357 ],\n",
       "       [0.70350456],\n",
       "       [0.5014572 ],\n",
       "       [0.6722695 ],\n",
       "       [0.60031295],\n",
       "       [0.25937456],\n",
       "       [0.38277844],\n",
       "       [0.6611352 ],\n",
       "       [0.44539085],\n",
       "       [0.45309612],\n",
       "       [0.46587777],\n",
       "       [0.6549274 ],\n",
       "       [0.37877607],\n",
       "       [0.5455249 ],\n",
       "       [0.5854351 ],\n",
       "       [0.4961442 ],\n",
       "       [0.76511973],\n",
       "       [0.61147636],\n",
       "       [0.6737675 ],\n",
       "       [0.62435466],\n",
       "       [0.6890083 ],\n",
       "       [0.6479988 ],\n",
       "       [0.5557134 ],\n",
       "       [0.67544293],\n",
       "       [0.56835085],\n",
       "       [0.7284708 ],\n",
       "       [0.62582934],\n",
       "       [0.67912793],\n",
       "       [0.53807056],\n",
       "       [0.6901496 ]], dtype=float32)"
      ]
     },
     "execution_count": 65,
     "metadata": {},
     "output_type": "execute_result"
    }
   ],
   "source": [
    "pred_result = model.predict(test_input)\n",
    "out = []\n",
    "for data in pred_result:\n",
    "    if data > 0.5:\n",
    "        out.append(1)\n",
    "    else:\n",
    "        out.append(0)\n",
    "pred_result"
   ]
  },
  {
   "cell_type": "code",
   "execution_count": 66,
   "id": "df32db5b",
   "metadata": {
    "scrolled": true
   },
   "outputs": [
    {
     "name": "stdout",
     "output_type": "stream",
     "text": [
      "[1.  0.6 0.8 0.2 0.8 0.4 1.  0. ] ,  1 ,  1\n",
      "[0.8 0.4 0.4 0.4 0.8 0.4 0.6 1. ] ,  1 ,  1\n",
      "[1.  1.  0.6 0.4 0.8 1.  1.  1. ] ,  1 ,  1\n",
      "[0.8 0.8 0.8 0.8 0.6 0.6 0.8 0. ] ,  1 ,  1\n",
      "[1.  0.8 0.2 0.8 0.4 0.6 0.4 0. ] ,  1 ,  1\n",
      "[0.6 1.  0.8 1.  0.4 0.6 0.8 1. ] ,  1 ,  0\n",
      "[0.6 0.8 0.6 0.6 0.4 0.6 0.6 1. ] ,  1 ,  0\n",
      "[1.  0.8 0.4 0.8 0.4 0.4 0.6 0. ] ,  1 ,  1\n",
      "[1.  0.8 0.4 0.4 0.6 0.8 0.8 1. ] ,  1 ,  0\n",
      "[0.8 1.  0.8 0.8 0.4 0.4 0.8 1. ] ,  0 ,  0\n",
      "[1.  0.6 0.2 1.  0.4 0.2 0.2 1. ] ,  0 ,  0\n",
      "[0.8 1.  0.6 0.6 0.4 0.4 0.8 0. ] ,  1 ,  1\n",
      "[1.  0.8 0.4 1.  0.4 0.2 0.4 1. ] ,  1 ,  0\n",
      "[1.  1.  0.4 0.2 0.6 0.6 0.8 1. ] ,  1 ,  1\n",
      "[1.  1.  0.6 0.8 0.8 0.6 0.4 1. ] ,  1 ,  1\n",
      "[0.8 1.  0.4 0.4 0.6 0.4 0.6 1. ] ,  0 ,  0\n",
      "[1.  1.  0.8 0.4 0.8 0.6 0.6 1. ] ,  0 ,  1\n",
      "[0.8 0.4 0.4 0.8 0.8 0.6 0.6 0. ] ,  1 ,  1\n",
      "[1.  0.8 0.8 0.6 0.4 0.4 0.6 1. ] ,  0 ,  1\n",
      "[1.  0.8 1.  1.  0.6 0.6 0.6 1. ] ,  1 ,  1\n",
      "[1.  0.8 0.6 0.4 0.6 0.4 0.4 0. ] ,  1 ,  1\n",
      "[0.8 0.8 0.8 0.6 0.6 0.6 0.8 0. ] ,  0 ,  1\n",
      "[0.4 1.  1.  0.6 0.6 0.6 1.  1. ] ,  1 ,  1\n",
      "[1.  1.  1.  1.  0.4 0.6 1.  0. ] ,  0 ,  1\n",
      "[1.  1.  0.8 0.6 0.6 0.8 0.8 0. ] ,  1 ,  1\n",
      "[0.8 1.  1.  0.2 0.4 0.6 1.  1. ] ,  0 ,  1\n",
      "[0.8 1.  0.6 1.  0.4 0.6 0.8 0. ] ,  0 ,  1\n",
      "[0.8 0.8 0.8 0.4 0.2 0.4 0.8 0. ] ,  0 ,  1\n",
      "[1.  0.8 0.8 0.8 0.4 0.8 0.8 0. ] ,  1 ,  1\n",
      "[1.  0.8 0.4 0.4 0.8 0.2 0.4 1. ] ,  1 ,  1\n"
     ]
    }
   ],
   "source": [
    "for i in range(pred_result.shape[0]):\n",
    "    print(test_input[i], ', ', test_target[i], ', ', out[i] )"
   ]
  },
  {
   "cell_type": "code",
   "execution_count": null,
   "id": "42ff744c",
   "metadata": {},
   "outputs": [],
   "source": [
    "for i in range(train_input.shape[0]):\n",
    "    print(train_input[i], train_target[i])"
   ]
  },
  {
   "cell_type": "code",
   "execution_count": null,
   "id": "30e95057",
   "metadata": {},
   "outputs": [],
   "source": [
    "model.summary()"
   ]
  },
  {
   "cell_type": "code",
   "execution_count": null,
   "id": "619ca051",
   "metadata": {},
   "outputs": [],
   "source": [
    "model.save('TT_datamodel')"
   ]
  },
  {
   "cell_type": "code",
   "execution_count": null,
   "id": "c863aece",
   "metadata": {},
   "outputs": [],
   "source": [
    "from keras import models\n",
    "new_model = models.load_model('TT_datamodel')\n",
    "new_model.evaluate(test_input, test_target)"
   ]
  }
 ],
 "metadata": {
  "kernelspec": {
   "display_name": "Python 3 (ipykernel)",
   "language": "python",
   "name": "python3"
  },
  "language_info": {
   "codemirror_mode": {
    "name": "ipython",
    "version": 3
   },
   "file_extension": ".py",
   "mimetype": "text/x-python",
   "name": "python",
   "nbconvert_exporter": "python",
   "pygments_lexer": "ipython3",
   "version": "3.9.7"
  }
 },
 "nbformat": 4,
 "nbformat_minor": 5
}
