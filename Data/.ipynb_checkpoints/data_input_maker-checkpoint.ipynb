{
 "cells": [
  {
   "cell_type": "code",
   "execution_count": 1,
   "id": "26c49887",
   "metadata": {},
   "outputs": [],
   "source": [
    "import pandas as pd\n",
    "\n",
    "df = pd.read_csv(\"./survey_data_after.csv\", encoding='euc-kr')"
   ]
  },
  {
   "cell_type": "code",
   "execution_count": 2,
   "id": "79cd38b5",
   "metadata": {},
   "outputs": [
    {
     "data": {
      "text/html": [
       "<div>\n",
       "<style scoped>\n",
       "    .dataframe tbody tr th:only-of-type {\n",
       "        vertical-align: middle;\n",
       "    }\n",
       "\n",
       "    .dataframe tbody tr th {\n",
       "        vertical-align: top;\n",
       "    }\n",
       "\n",
       "    .dataframe thead th {\n",
       "        text-align: right;\n",
       "    }\n",
       "</style>\n",
       "<table border=\"1\" class=\"dataframe\">\n",
       "  <thead>\n",
       "    <tr style=\"text-align: right;\">\n",
       "      <th></th>\n",
       "      <th>성별</th>\n",
       "      <th>휴양</th>\n",
       "      <th>자연경관</th>\n",
       "      <th>문화유산</th>\n",
       "      <th>액티비티</th>\n",
       "      <th>쇼핑</th>\n",
       "      <th>공연</th>\n",
       "      <th>전시물</th>\n",
       "      <th>경험</th>\n",
       "    </tr>\n",
       "  </thead>\n",
       "  <tbody>\n",
       "    <tr>\n",
       "      <th>0</th>\n",
       "      <td>남성</td>\n",
       "      <td>5</td>\n",
       "      <td>4</td>\n",
       "      <td>4</td>\n",
       "      <td>3</td>\n",
       "      <td>3</td>\n",
       "      <td>3</td>\n",
       "      <td>4</td>\n",
       "      <td>문화유산</td>\n",
       "    </tr>\n",
       "    <tr>\n",
       "      <th>1</th>\n",
       "      <td>남성</td>\n",
       "      <td>3</td>\n",
       "      <td>3</td>\n",
       "      <td>3</td>\n",
       "      <td>5</td>\n",
       "      <td>4</td>\n",
       "      <td>4</td>\n",
       "      <td>3</td>\n",
       "      <td>문화유산</td>\n",
       "    </tr>\n",
       "    <tr>\n",
       "      <th>2</th>\n",
       "      <td>여성</td>\n",
       "      <td>5</td>\n",
       "      <td>5</td>\n",
       "      <td>4</td>\n",
       "      <td>4</td>\n",
       "      <td>3</td>\n",
       "      <td>5</td>\n",
       "      <td>4</td>\n",
       "      <td>문화유산, 쇼핑, 전시물</td>\n",
       "    </tr>\n",
       "    <tr>\n",
       "      <th>3</th>\n",
       "      <td>여성</td>\n",
       "      <td>5</td>\n",
       "      <td>1</td>\n",
       "      <td>1</td>\n",
       "      <td>5</td>\n",
       "      <td>3</td>\n",
       "      <td>3</td>\n",
       "      <td>1</td>\n",
       "      <td>쇼핑</td>\n",
       "    </tr>\n",
       "    <tr>\n",
       "      <th>4</th>\n",
       "      <td>남성</td>\n",
       "      <td>5</td>\n",
       "      <td>5</td>\n",
       "      <td>4</td>\n",
       "      <td>5</td>\n",
       "      <td>5</td>\n",
       "      <td>5</td>\n",
       "      <td>5</td>\n",
       "      <td>쇼핑</td>\n",
       "    </tr>\n",
       "    <tr>\n",
       "      <th>...</th>\n",
       "      <td>...</td>\n",
       "      <td>...</td>\n",
       "      <td>...</td>\n",
       "      <td>...</td>\n",
       "      <td>...</td>\n",
       "      <td>...</td>\n",
       "      <td>...</td>\n",
       "      <td>...</td>\n",
       "      <td>...</td>\n",
       "    </tr>\n",
       "    <tr>\n",
       "      <th>144</th>\n",
       "      <td>남성</td>\n",
       "      <td>4</td>\n",
       "      <td>5</td>\n",
       "      <td>4</td>\n",
       "      <td>3</td>\n",
       "      <td>2</td>\n",
       "      <td>2</td>\n",
       "      <td>2</td>\n",
       "      <td>휴양, 자연경관, 액티비티</td>\n",
       "    </tr>\n",
       "    <tr>\n",
       "      <th>145</th>\n",
       "      <td>남성</td>\n",
       "      <td>3</td>\n",
       "      <td>4</td>\n",
       "      <td>1</td>\n",
       "      <td>4</td>\n",
       "      <td>2</td>\n",
       "      <td>5</td>\n",
       "      <td>5</td>\n",
       "      <td>휴양, 자연경관, 액티비티</td>\n",
       "    </tr>\n",
       "    <tr>\n",
       "      <th>146</th>\n",
       "      <td>여성</td>\n",
       "      <td>4</td>\n",
       "      <td>5</td>\n",
       "      <td>4</td>\n",
       "      <td>5</td>\n",
       "      <td>2</td>\n",
       "      <td>4</td>\n",
       "      <td>4</td>\n",
       "      <td>휴양, 자연경관, 액티비티, 쇼핑</td>\n",
       "    </tr>\n",
       "    <tr>\n",
       "      <th>147</th>\n",
       "      <td>여성</td>\n",
       "      <td>4</td>\n",
       "      <td>4</td>\n",
       "      <td>3</td>\n",
       "      <td>3</td>\n",
       "      <td>4</td>\n",
       "      <td>4</td>\n",
       "      <td>3</td>\n",
       "      <td>휴양, 전시물</td>\n",
       "    </tr>\n",
       "    <tr>\n",
       "      <th>148</th>\n",
       "      <td>여성</td>\n",
       "      <td>5</td>\n",
       "      <td>3</td>\n",
       "      <td>4</td>\n",
       "      <td>1</td>\n",
       "      <td>4</td>\n",
       "      <td>2</td>\n",
       "      <td>5</td>\n",
       "      <td>휴양, 전시물</td>\n",
       "    </tr>\n",
       "  </tbody>\n",
       "</table>\n",
       "<p>149 rows × 9 columns</p>\n",
       "</div>"
      ],
      "text/plain": [
       "     성별  휴양  자연경관  문화유산  액티비티  쇼핑  공연  전시물                  경험\n",
       "0    남성   5     4     4     3   3   3    4                문화유산\n",
       "1    남성   3     3     3     5   4   4    3                문화유산\n",
       "2    여성   5     5     4     4   3   5    4       문화유산, 쇼핑, 전시물\n",
       "3    여성   5     1     1     5   3   3    1                  쇼핑\n",
       "4    남성   5     5     4     5   5   5    5                  쇼핑\n",
       "..   ..  ..   ...   ...   ...  ..  ..  ...                 ...\n",
       "144  남성   4     5     4     3   2   2    2      휴양, 자연경관, 액티비티\n",
       "145  남성   3     4     1     4   2   5    5      휴양, 자연경관, 액티비티\n",
       "146  여성   4     5     4     5   2   4    4  휴양, 자연경관, 액티비티, 쇼핑\n",
       "147  여성   4     4     3     3   4   4    3             휴양, 전시물\n",
       "148  여성   5     3     4     1   4   2    5             휴양, 전시물\n",
       "\n",
       "[149 rows x 9 columns]"
      ]
     },
     "execution_count": 2,
     "metadata": {},
     "output_type": "execute_result"
    }
   ],
   "source": [
    "df"
   ]
  },
  {
   "cell_type": "code",
   "execution_count": 3,
   "id": "ec7b9e69",
   "metadata": {},
   "outputs": [],
   "source": [
    "import numpy as np\n",
    "\n",
    "gender_data = df.loc[:, '성별']\n",
    "exp_data = df.loc[:, '경험']\n",
    "\n",
    "personal_data = np.zeros(shape = (gender_data.size, 7))\n",
    "\n",
    "for i in range(gender_data.size):\n",
    "    for j in range(1, df.loc[i].size - 1):\n",
    "        personal_data[i][j-1] = df.iloc[i][j]\n",
    "personal_data /= 5"
   ]
  },
  {
   "cell_type": "code",
   "execution_count": 59,
   "id": "8c6b73a2",
   "metadata": {},
   "outputs": [
    {
     "name": "stdout",
     "output_type": "stream",
     "text": [
      "64 85 0\n"
     ]
    }
   ],
   "source": [
    "new_cat_vec = np.zeros(shape = (exp_data.size))\n",
    "A_cnt, B_cnt, etc_cnt = 0, 0, 0;\n",
    "data_weight = {'휴양':0.1,'자연경관':-0.05, '문화유산' : -0.25, '액티비티':-0.4, '쇼핑':0.25, '공연':0.6, '전시물':0.7}\n",
    "for i, data in zip(range(exp_data.size), exp_data):\n",
    "    data_cat = {'휴양':0,'자연경관':0, '문화유산' : 0, '액티비티':0, '쇼핑':0, '공연':0, '전시물':0}\n",
    "    weight_sum = 0\n",
    "    for cat in data.split(','):\n",
    "        data_cat[cat.replace(\" \", '')]+=1\n",
    "        weight_sum += data_weight[cat.replace(\" \", '')]\n",
    "        '''\n",
    "    if data_cat['자연경관'] + data_cat['문화유산'] + data_cat['액티비티'] > data_cat['휴양'] + data_cat['전시물'] + data_cat['쇼핑'] + data_cat['공연']:\n",
    "        new_cat_vec[i][0] = 1\n",
    "    elif data_cat['자연경관'] + data_cat['문화유산'] + data_cat['액티비티'] < data_cat['휴양'] + data_cat['전시물'] + data_cat['쇼핑'] + data_cat['공연']:\n",
    "        new_cat_vec[i][1] = 1\n",
    "    else:\n",
    "        new_cat_vec[i][2] = 1\n",
    "        print(data, weight_sum)\n",
    "        '''\n",
    "    if weight_sum < 0:\n",
    "        A_cnt += 1\n",
    "        new_cat_vec[i] = 0\n",
    "        #print('is A', data, new_cat_vec[i])\n",
    "    elif weight_sum > 0:\n",
    "        B_cnt += 1\n",
    "        new_cat_vec[i] = 1\n",
    "        #print('is B', data, new_cat_vec[i])\n",
    "    else:\n",
    "        etc_cnt += 1\n",
    "        print('zero case', data)\n",
    "        #print(data, new_cat_vec[i])\n",
    "print(A_cnt, B_cnt, etc_cnt)"
   ]
  },
  {
   "cell_type": "code",
   "execution_count": 60,
   "id": "da66b55e",
   "metadata": {},
   "outputs": [
    {
     "data": {
      "text/plain": [
       "74.5"
      ]
     },
     "execution_count": 60,
     "metadata": {},
     "output_type": "execute_result"
    }
   ],
   "source": [
    "new_cat_vec.size/2"
   ]
  },
  {
   "cell_type": "code",
   "execution_count": 61,
   "id": "d61be533",
   "metadata": {},
   "outputs": [],
   "source": [
    "input_arr = []\n",
    "for i in range(gender_data.size):\n",
    "    input_arr.append(personal_data[i].copy())\n",
    "    input_arr[i] = np.append(input_arr[i], 0 if gender_data[i] == '여성' else 1)\n",
    "    "
   ]
  },
  {
   "cell_type": "code",
   "execution_count": 62,
   "id": "6c596ea6",
   "metadata": {},
   "outputs": [],
   "source": [
    "new_df = pd.DataFrame(columns = ['input_data', 'exp_data'])\n",
    "for i in range(gender_data.size):\n",
    "    new_df.loc[i] = [input_arr[i], new_cat_vec[i]]"
   ]
  },
  {
   "cell_type": "code",
   "execution_count": 63,
   "id": "172cc739",
   "metadata": {},
   "outputs": [],
   "source": [
    "new_df.to_csv(\"./survey_norm.csv\", index = False)"
   ]
  },
  {
   "cell_type": "code",
   "execution_count": 64,
   "id": "226631a1",
   "metadata": {},
   "outputs": [
    {
     "name": "stdout",
     "output_type": "stream",
     "text": [
      "64 85 0\n"
     ]
    }
   ],
   "source": [
    "print(A_cnt, B_cnt, etc_cnt)"
   ]
  },
  {
   "cell_type": "code",
   "execution_count": null,
   "id": "2c700f34",
   "metadata": {},
   "outputs": [],
   "source": []
  }
 ],
 "metadata": {
  "kernelspec": {
   "display_name": "Python 3 (ipykernel)",
   "language": "python",
   "name": "python3"
  },
  "language_info": {
   "codemirror_mode": {
    "name": "ipython",
    "version": 3
   },
   "file_extension": ".py",
   "mimetype": "text/x-python",
   "name": "python",
   "nbconvert_exporter": "python",
   "pygments_lexer": "ipython3",
   "version": "3.9.7"
  }
 },
 "nbformat": 4,
 "nbformat_minor": 5
}
