{
 "cells": [
  {
   "cell_type": "code",
   "execution_count": 1,
   "id": "8c5217b6",
   "metadata": {},
   "outputs": [],
   "source": [
    "import matplotlib.pyplot as plt\n",
    "import pandas as pd\n",
    "import numpy as np"
   ]
  },
  {
   "cell_type": "code",
   "execution_count": 2,
   "id": "6f33c62b",
   "metadata": {},
   "outputs": [
    {
     "data": {
      "text/html": [
       "<div>\n",
       "<style scoped>\n",
       "    .dataframe tbody tr th:only-of-type {\n",
       "        vertical-align: middle;\n",
       "    }\n",
       "\n",
       "    .dataframe tbody tr th {\n",
       "        vertical-align: top;\n",
       "    }\n",
       "\n",
       "    .dataframe thead th {\n",
       "        text-align: right;\n",
       "    }\n",
       "</style>\n",
       "<table border=\"1\" class=\"dataframe\">\n",
       "  <thead>\n",
       "    <tr style=\"text-align: right;\">\n",
       "      <th></th>\n",
       "      <th>성별</th>\n",
       "      <th>휴양</th>\n",
       "      <th>자연경관</th>\n",
       "      <th>문화유산</th>\n",
       "      <th>액티비티</th>\n",
       "      <th>쇼핑</th>\n",
       "      <th>공연</th>\n",
       "      <th>전시물</th>\n",
       "      <th>경험</th>\n",
       "    </tr>\n",
       "  </thead>\n",
       "  <tbody>\n",
       "    <tr>\n",
       "      <th>0</th>\n",
       "      <td>남성</td>\n",
       "      <td>5</td>\n",
       "      <td>4</td>\n",
       "      <td>4</td>\n",
       "      <td>3</td>\n",
       "      <td>3</td>\n",
       "      <td>3</td>\n",
       "      <td>4</td>\n",
       "      <td>문화유산</td>\n",
       "    </tr>\n",
       "    <tr>\n",
       "      <th>1</th>\n",
       "      <td>남성</td>\n",
       "      <td>3</td>\n",
       "      <td>3</td>\n",
       "      <td>3</td>\n",
       "      <td>5</td>\n",
       "      <td>4</td>\n",
       "      <td>4</td>\n",
       "      <td>3</td>\n",
       "      <td>문화유산</td>\n",
       "    </tr>\n",
       "    <tr>\n",
       "      <th>2</th>\n",
       "      <td>여성</td>\n",
       "      <td>5</td>\n",
       "      <td>5</td>\n",
       "      <td>4</td>\n",
       "      <td>4</td>\n",
       "      <td>3</td>\n",
       "      <td>5</td>\n",
       "      <td>4</td>\n",
       "      <td>문화유산, 쇼핑, 전시물</td>\n",
       "    </tr>\n",
       "    <tr>\n",
       "      <th>3</th>\n",
       "      <td>여성</td>\n",
       "      <td>5</td>\n",
       "      <td>1</td>\n",
       "      <td>1</td>\n",
       "      <td>5</td>\n",
       "      <td>3</td>\n",
       "      <td>3</td>\n",
       "      <td>1</td>\n",
       "      <td>쇼핑</td>\n",
       "    </tr>\n",
       "    <tr>\n",
       "      <th>4</th>\n",
       "      <td>남성</td>\n",
       "      <td>5</td>\n",
       "      <td>5</td>\n",
       "      <td>4</td>\n",
       "      <td>5</td>\n",
       "      <td>5</td>\n",
       "      <td>5</td>\n",
       "      <td>5</td>\n",
       "      <td>쇼핑</td>\n",
       "    </tr>\n",
       "    <tr>\n",
       "      <th>...</th>\n",
       "      <td>...</td>\n",
       "      <td>...</td>\n",
       "      <td>...</td>\n",
       "      <td>...</td>\n",
       "      <td>...</td>\n",
       "      <td>...</td>\n",
       "      <td>...</td>\n",
       "      <td>...</td>\n",
       "      <td>...</td>\n",
       "    </tr>\n",
       "    <tr>\n",
       "      <th>144</th>\n",
       "      <td>남성</td>\n",
       "      <td>4</td>\n",
       "      <td>5</td>\n",
       "      <td>4</td>\n",
       "      <td>3</td>\n",
       "      <td>2</td>\n",
       "      <td>2</td>\n",
       "      <td>2</td>\n",
       "      <td>휴양, 자연경관, 액티비티</td>\n",
       "    </tr>\n",
       "    <tr>\n",
       "      <th>145</th>\n",
       "      <td>남성</td>\n",
       "      <td>3</td>\n",
       "      <td>4</td>\n",
       "      <td>1</td>\n",
       "      <td>4</td>\n",
       "      <td>2</td>\n",
       "      <td>5</td>\n",
       "      <td>5</td>\n",
       "      <td>휴양, 자연경관, 액티비티</td>\n",
       "    </tr>\n",
       "    <tr>\n",
       "      <th>146</th>\n",
       "      <td>여성</td>\n",
       "      <td>4</td>\n",
       "      <td>5</td>\n",
       "      <td>4</td>\n",
       "      <td>5</td>\n",
       "      <td>2</td>\n",
       "      <td>4</td>\n",
       "      <td>4</td>\n",
       "      <td>휴양, 자연경관, 액티비티, 쇼핑</td>\n",
       "    </tr>\n",
       "    <tr>\n",
       "      <th>147</th>\n",
       "      <td>여성</td>\n",
       "      <td>4</td>\n",
       "      <td>4</td>\n",
       "      <td>3</td>\n",
       "      <td>3</td>\n",
       "      <td>4</td>\n",
       "      <td>4</td>\n",
       "      <td>3</td>\n",
       "      <td>휴양, 전시물</td>\n",
       "    </tr>\n",
       "    <tr>\n",
       "      <th>148</th>\n",
       "      <td>여성</td>\n",
       "      <td>5</td>\n",
       "      <td>3</td>\n",
       "      <td>4</td>\n",
       "      <td>1</td>\n",
       "      <td>4</td>\n",
       "      <td>2</td>\n",
       "      <td>5</td>\n",
       "      <td>휴양, 전시물</td>\n",
       "    </tr>\n",
       "  </tbody>\n",
       "</table>\n",
       "<p>149 rows × 9 columns</p>\n",
       "</div>"
      ],
      "text/plain": [
       "     성별  휴양  자연경관  문화유산  액티비티  쇼핑  공연  전시물                  경험\n",
       "0    남성   5     4     4     3   3   3    4                문화유산\n",
       "1    남성   3     3     3     5   4   4    3                문화유산\n",
       "2    여성   5     5     4     4   3   5    4       문화유산, 쇼핑, 전시물\n",
       "3    여성   5     1     1     5   3   3    1                  쇼핑\n",
       "4    남성   5     5     4     5   5   5    5                  쇼핑\n",
       "..   ..  ..   ...   ...   ...  ..  ..  ...                 ...\n",
       "144  남성   4     5     4     3   2   2    2      휴양, 자연경관, 액티비티\n",
       "145  남성   3     4     1     4   2   5    5      휴양, 자연경관, 액티비티\n",
       "146  여성   4     5     4     5   2   4    4  휴양, 자연경관, 액티비티, 쇼핑\n",
       "147  여성   4     4     3     3   4   4    3             휴양, 전시물\n",
       "148  여성   5     3     4     1   4   2    5             휴양, 전시물\n",
       "\n",
       "[149 rows x 9 columns]"
      ]
     },
     "execution_count": 2,
     "metadata": {},
     "output_type": "execute_result"
    }
   ],
   "source": [
    "df = pd.read_csv(\"./survey_data_after.csv\", encoding = \"euc-kr\")\n",
    "df"
   ]
  },
  {
   "cell_type": "code",
   "execution_count": 3,
   "id": "4339a90a",
   "metadata": {},
   "outputs": [
    {
     "data": {
      "text/html": [
       "<div>\n",
       "<style scoped>\n",
       "    .dataframe tbody tr th:only-of-type {\n",
       "        vertical-align: middle;\n",
       "    }\n",
       "\n",
       "    .dataframe tbody tr th {\n",
       "        vertical-align: top;\n",
       "    }\n",
       "\n",
       "    .dataframe thead th {\n",
       "        text-align: right;\n",
       "    }\n",
       "</style>\n",
       "<table border=\"1\" class=\"dataframe\">\n",
       "  <thead>\n",
       "    <tr style=\"text-align: right;\">\n",
       "      <th></th>\n",
       "      <th>성별</th>\n",
       "      <th>휴양</th>\n",
       "      <th>자연경관</th>\n",
       "      <th>문화유산</th>\n",
       "      <th>액티비티</th>\n",
       "      <th>쇼핑</th>\n",
       "      <th>공연</th>\n",
       "      <th>전시물</th>\n",
       "      <th>경험</th>\n",
       "    </tr>\n",
       "  </thead>\n",
       "  <tbody>\n",
       "    <tr>\n",
       "      <th>0</th>\n",
       "      <td>남성</td>\n",
       "      <td>5</td>\n",
       "      <td>4</td>\n",
       "      <td>4</td>\n",
       "      <td>3</td>\n",
       "      <td>3</td>\n",
       "      <td>3</td>\n",
       "      <td>4</td>\n",
       "      <td>문화유산</td>\n",
       "    </tr>\n",
       "    <tr>\n",
       "      <th>1</th>\n",
       "      <td>남성</td>\n",
       "      <td>3</td>\n",
       "      <td>3</td>\n",
       "      <td>3</td>\n",
       "      <td>5</td>\n",
       "      <td>4</td>\n",
       "      <td>4</td>\n",
       "      <td>3</td>\n",
       "      <td>문화유산</td>\n",
       "    </tr>\n",
       "    <tr>\n",
       "      <th>4</th>\n",
       "      <td>남성</td>\n",
       "      <td>5</td>\n",
       "      <td>5</td>\n",
       "      <td>4</td>\n",
       "      <td>5</td>\n",
       "      <td>5</td>\n",
       "      <td>5</td>\n",
       "      <td>5</td>\n",
       "      <td>쇼핑</td>\n",
       "    </tr>\n",
       "    <tr>\n",
       "      <th>6</th>\n",
       "      <td>남성</td>\n",
       "      <td>5</td>\n",
       "      <td>4</td>\n",
       "      <td>2</td>\n",
       "      <td>2</td>\n",
       "      <td>3</td>\n",
       "      <td>4</td>\n",
       "      <td>4</td>\n",
       "      <td>쇼핑</td>\n",
       "    </tr>\n",
       "    <tr>\n",
       "      <th>7</th>\n",
       "      <td>남성</td>\n",
       "      <td>4</td>\n",
       "      <td>5</td>\n",
       "      <td>2</td>\n",
       "      <td>2</td>\n",
       "      <td>2</td>\n",
       "      <td>2</td>\n",
       "      <td>2</td>\n",
       "      <td>쇼핑</td>\n",
       "    </tr>\n",
       "    <tr>\n",
       "      <th>...</th>\n",
       "      <td>...</td>\n",
       "      <td>...</td>\n",
       "      <td>...</td>\n",
       "      <td>...</td>\n",
       "      <td>...</td>\n",
       "      <td>...</td>\n",
       "      <td>...</td>\n",
       "      <td>...</td>\n",
       "      <td>...</td>\n",
       "    </tr>\n",
       "    <tr>\n",
       "      <th>135</th>\n",
       "      <td>남성</td>\n",
       "      <td>3</td>\n",
       "      <td>4</td>\n",
       "      <td>4</td>\n",
       "      <td>4</td>\n",
       "      <td>3</td>\n",
       "      <td>3</td>\n",
       "      <td>4</td>\n",
       "      <td>휴양, 자연경관, 문화유산, 액티비티, 쇼핑, 공연, 전시물</td>\n",
       "    </tr>\n",
       "    <tr>\n",
       "      <th>136</th>\n",
       "      <td>남성</td>\n",
       "      <td>5</td>\n",
       "      <td>4</td>\n",
       "      <td>4</td>\n",
       "      <td>3</td>\n",
       "      <td>2</td>\n",
       "      <td>2</td>\n",
       "      <td>2</td>\n",
       "      <td>휴양, 자연경관, 쇼핑</td>\n",
       "    </tr>\n",
       "    <tr>\n",
       "      <th>138</th>\n",
       "      <td>남성</td>\n",
       "      <td>5</td>\n",
       "      <td>4</td>\n",
       "      <td>4</td>\n",
       "      <td>1</td>\n",
       "      <td>3</td>\n",
       "      <td>1</td>\n",
       "      <td>2</td>\n",
       "      <td>휴양, 자연경관, 쇼핑</td>\n",
       "    </tr>\n",
       "    <tr>\n",
       "      <th>144</th>\n",
       "      <td>남성</td>\n",
       "      <td>4</td>\n",
       "      <td>5</td>\n",
       "      <td>4</td>\n",
       "      <td>3</td>\n",
       "      <td>2</td>\n",
       "      <td>2</td>\n",
       "      <td>2</td>\n",
       "      <td>휴양, 자연경관, 액티비티</td>\n",
       "    </tr>\n",
       "    <tr>\n",
       "      <th>145</th>\n",
       "      <td>남성</td>\n",
       "      <td>3</td>\n",
       "      <td>4</td>\n",
       "      <td>1</td>\n",
       "      <td>4</td>\n",
       "      <td>2</td>\n",
       "      <td>5</td>\n",
       "      <td>5</td>\n",
       "      <td>휴양, 자연경관, 액티비티</td>\n",
       "    </tr>\n",
       "  </tbody>\n",
       "</table>\n",
       "<p>87 rows × 9 columns</p>\n",
       "</div>"
      ],
      "text/plain": [
       "     성별  휴양  자연경관  문화유산  액티비티  쇼핑  공연  전시물                                 경험\n",
       "0    남성   5     4     4     3   3   3    4                               문화유산\n",
       "1    남성   3     3     3     5   4   4    3                               문화유산\n",
       "4    남성   5     5     4     5   5   5    5                                 쇼핑\n",
       "6    남성   5     4     2     2   3   4    4                                 쇼핑\n",
       "7    남성   4     5     2     2   2   2    2                                 쇼핑\n",
       "..   ..  ..   ...   ...   ...  ..  ..  ...                                ...\n",
       "135  남성   3     4     4     4   3   3    4  휴양, 자연경관, 문화유산, 액티비티, 쇼핑, 공연, 전시물\n",
       "136  남성   5     4     4     3   2   2    2                       휴양, 자연경관, 쇼핑\n",
       "138  남성   5     4     4     1   3   1    2                       휴양, 자연경관, 쇼핑\n",
       "144  남성   4     5     4     3   2   2    2                     휴양, 자연경관, 액티비티\n",
       "145  남성   3     4     1     4   2   5    5                     휴양, 자연경관, 액티비티\n",
       "\n",
       "[87 rows x 9 columns]"
      ]
     },
     "execution_count": 3,
     "metadata": {},
     "output_type": "execute_result"
    }
   ],
   "source": [
    "male_data = df.query(\"성별 == '남성'\")\n",
    "female_data = df.query(\"성별 == '여성'\")\n",
    "\n",
    "male_data"
   ]
  },
  {
   "cell_type": "code",
   "execution_count": 4,
   "id": "2470b58c",
   "metadata": {},
   "outputs": [
    {
     "ename": "KeyError",
     "evalue": "'맛집'",
     "output_type": "error",
     "traceback": [
      "\u001b[1;31m---------------------------------------------------------------------------\u001b[0m",
      "\u001b[1;31mKeyError\u001b[0m                                  Traceback (most recent call last)",
      "File \u001b[1;32m~\\anaconda3\\envs\\TT\\lib\\site-packages\\pandas\\core\\indexes\\base.py:3621\u001b[0m, in \u001b[0;36mIndex.get_loc\u001b[1;34m(self, key, method, tolerance)\u001b[0m\n\u001b[0;32m   3620\u001b[0m \u001b[38;5;28;01mtry\u001b[39;00m:\n\u001b[1;32m-> 3621\u001b[0m     \u001b[38;5;28;01mreturn\u001b[39;00m \u001b[38;5;28;43mself\u001b[39;49m\u001b[38;5;241;43m.\u001b[39;49m\u001b[43m_engine\u001b[49m\u001b[38;5;241;43m.\u001b[39;49m\u001b[43mget_loc\u001b[49m\u001b[43m(\u001b[49m\u001b[43mcasted_key\u001b[49m\u001b[43m)\u001b[49m\n\u001b[0;32m   3622\u001b[0m \u001b[38;5;28;01mexcept\u001b[39;00m \u001b[38;5;167;01mKeyError\u001b[39;00m \u001b[38;5;28;01mas\u001b[39;00m err:\n",
      "File \u001b[1;32m~\\anaconda3\\envs\\TT\\lib\\site-packages\\pandas\\_libs\\index.pyx:136\u001b[0m, in \u001b[0;36mpandas._libs.index.IndexEngine.get_loc\u001b[1;34m()\u001b[0m\n",
      "File \u001b[1;32m~\\anaconda3\\envs\\TT\\lib\\site-packages\\pandas\\_libs\\index.pyx:163\u001b[0m, in \u001b[0;36mpandas._libs.index.IndexEngine.get_loc\u001b[1;34m()\u001b[0m\n",
      "File \u001b[1;32mpandas\\_libs\\hashtable_class_helper.pxi:5198\u001b[0m, in \u001b[0;36mpandas._libs.hashtable.PyObjectHashTable.get_item\u001b[1;34m()\u001b[0m\n",
      "File \u001b[1;32mpandas\\_libs\\hashtable_class_helper.pxi:5206\u001b[0m, in \u001b[0;36mpandas._libs.hashtable.PyObjectHashTable.get_item\u001b[1;34m()\u001b[0m\n",
      "\u001b[1;31mKeyError\u001b[0m: '맛집'",
      "\nThe above exception was the direct cause of the following exception:\n",
      "\u001b[1;31mKeyError\u001b[0m                                  Traceback (most recent call last)",
      "Input \u001b[1;32mIn [4]\u001b[0m, in \u001b[0;36m<cell line: 1>\u001b[1;34m()\u001b[0m\n\u001b[1;32m----> 1\u001b[0m male_eat \u001b[38;5;241m=\u001b[39m \u001b[43mmale_data\u001b[49m\u001b[43m[\u001b[49m\u001b[38;5;124;43m'\u001b[39;49m\u001b[38;5;124;43m맛집\u001b[39;49m\u001b[38;5;124;43m'\u001b[39;49m\u001b[43m]\u001b[49m\n\u001b[0;32m      2\u001b[0m female_eat \u001b[38;5;241m=\u001b[39m female_data[\u001b[38;5;124m'\u001b[39m\u001b[38;5;124m맛집\u001b[39m\u001b[38;5;124m'\u001b[39m]\n\u001b[0;32m      3\u001b[0m \u001b[38;5;66;03m#female_eat = female_eat.append(pd.Series([0], index = [1]))\u001b[39;00m\n",
      "File \u001b[1;32m~\\anaconda3\\envs\\TT\\lib\\site-packages\\pandas\\core\\frame.py:3505\u001b[0m, in \u001b[0;36mDataFrame.__getitem__\u001b[1;34m(self, key)\u001b[0m\n\u001b[0;32m   3503\u001b[0m \u001b[38;5;28;01mif\u001b[39;00m \u001b[38;5;28mself\u001b[39m\u001b[38;5;241m.\u001b[39mcolumns\u001b[38;5;241m.\u001b[39mnlevels \u001b[38;5;241m>\u001b[39m \u001b[38;5;241m1\u001b[39m:\n\u001b[0;32m   3504\u001b[0m     \u001b[38;5;28;01mreturn\u001b[39;00m \u001b[38;5;28mself\u001b[39m\u001b[38;5;241m.\u001b[39m_getitem_multilevel(key)\n\u001b[1;32m-> 3505\u001b[0m indexer \u001b[38;5;241m=\u001b[39m \u001b[38;5;28;43mself\u001b[39;49m\u001b[38;5;241;43m.\u001b[39;49m\u001b[43mcolumns\u001b[49m\u001b[38;5;241;43m.\u001b[39;49m\u001b[43mget_loc\u001b[49m\u001b[43m(\u001b[49m\u001b[43mkey\u001b[49m\u001b[43m)\u001b[49m\n\u001b[0;32m   3506\u001b[0m \u001b[38;5;28;01mif\u001b[39;00m is_integer(indexer):\n\u001b[0;32m   3507\u001b[0m     indexer \u001b[38;5;241m=\u001b[39m [indexer]\n",
      "File \u001b[1;32m~\\anaconda3\\envs\\TT\\lib\\site-packages\\pandas\\core\\indexes\\base.py:3623\u001b[0m, in \u001b[0;36mIndex.get_loc\u001b[1;34m(self, key, method, tolerance)\u001b[0m\n\u001b[0;32m   3621\u001b[0m     \u001b[38;5;28;01mreturn\u001b[39;00m \u001b[38;5;28mself\u001b[39m\u001b[38;5;241m.\u001b[39m_engine\u001b[38;5;241m.\u001b[39mget_loc(casted_key)\n\u001b[0;32m   3622\u001b[0m \u001b[38;5;28;01mexcept\u001b[39;00m \u001b[38;5;167;01mKeyError\u001b[39;00m \u001b[38;5;28;01mas\u001b[39;00m err:\n\u001b[1;32m-> 3623\u001b[0m     \u001b[38;5;28;01mraise\u001b[39;00m \u001b[38;5;167;01mKeyError\u001b[39;00m(key) \u001b[38;5;28;01mfrom\u001b[39;00m \u001b[38;5;21;01merr\u001b[39;00m\n\u001b[0;32m   3624\u001b[0m \u001b[38;5;28;01mexcept\u001b[39;00m \u001b[38;5;167;01mTypeError\u001b[39;00m:\n\u001b[0;32m   3625\u001b[0m     \u001b[38;5;66;03m# If we have a listlike key, _check_indexing_error will raise\u001b[39;00m\n\u001b[0;32m   3626\u001b[0m     \u001b[38;5;66;03m#  InvalidIndexError. Otherwise we fall through and re-raise\u001b[39;00m\n\u001b[0;32m   3627\u001b[0m     \u001b[38;5;66;03m#  the TypeError.\u001b[39;00m\n\u001b[0;32m   3628\u001b[0m     \u001b[38;5;28mself\u001b[39m\u001b[38;5;241m.\u001b[39m_check_indexing_error(key)\n",
      "\u001b[1;31mKeyError\u001b[0m: '맛집'"
     ]
    }
   ],
   "source": [
    "male_eat = male_data['맛집']\n",
    "female_eat = female_data['맛집']\n",
    "#female_eat = female_eat.append(pd.Series([0], index = [1]))\n",
    "\n",
    "male_eat_per = [0]*5\n",
    "female_eat_per = [0]*5\n",
    "\n",
    "for i in range(5):\n",
    "    male_eat_per[i] = male_eat.value_counts()[i+1] / male_eat.count() * 100\n",
    "    \n",
    "    if i == 0:\n",
    "        continue\n",
    "    #female_eat에 1일 경우가 없음.\n",
    "    female_eat_per[i] = female_eat.value_counts()[i+1] / female_eat.count() * 100\n",
    "    \n",
    "    \n",
    "x = np.arange(1, 6)\n",
    "#female_eat.value_counts().plot.bar()\n",
    "plt.rc('font', family = 'Malgun Gothic')\n",
    "plt.title(\"성별에 따른 맛집 선호 비율\")\n",
    "plt.bar(x - 0.2, male_eat_per, 0.4, color ='blue', label = \"male\")\n",
    "plt.bar(x + 0.2, female_eat_per,0.4, color ='red', label = \"female\")\n",
    "for index, per in enumerate(male_eat_per):\n",
    "    plt.text(x = index + 0.6, y = per + 1, s = \"%.3f\"%per)\n",
    "    \n",
    "for index, per in enumerate(female_eat_per):\n",
    "    plt.text(x = index + 1.0, y = per + 1, s = \"%.3f\"%per)\n",
    "plt.legend()"
   ]
  },
  {
   "cell_type": "code",
   "execution_count": 5,
   "id": "2b7f8b4b",
   "metadata": {
    "scrolled": true
   },
   "outputs": [
    {
     "data": {
      "text/plain": [
       "<matplotlib.legend.Legend at 0x15937ab7ee0>"
      ]
     },
     "execution_count": 5,
     "metadata": {},
     "output_type": "execute_result"
    },
    {
     "data": {
      "image/png": "[encoded data removed]",
      "text/plain": [
       "<Figure size 432x288 with 1 Axes>"
      ]
     },
     "metadata": {
      "needs_background": "light"
     },
     "output_type": "display_data"
    }
   ],
   "source": [
    "male_rest = male_data['휴양']\n",
    "female_rest = female_data['휴양']\n",
    "\n",
    "male_rest_per = [0]*5\n",
    "female_rest_per = [0]*5\n",
    "\n",
    "for i in range(1, 5):\n",
    "    male_rest_per[i] = male_rest.value_counts()[i+1] / male_rest.count() * 100\n",
    "    female_rest_per[i] = female_rest.value_counts()[i+1] / female_rest.count() * 100\n",
    "    \n",
    "    \n",
    "x = np.arange(1, 6)\n",
    "#female_eat.value_counts().plot.bar()\n",
    "plt.rc('font', family = 'Malgun Gothic')\n",
    "plt.title(\"성별에 따른 휴양 선호 비율\")\n",
    "plt.bar(x - 0.2, male_rest_per, 0.4, color ='blue', label = \"male\")\n",
    "plt.bar(x + 0.2, female_rest_per,0.4, color ='red', label = \"female\")\n",
    "\n",
    "for index, per in enumerate(male_rest_per):\n",
    "    plt.text(x = index + 0.6, y = per + 1, s = \"%.3f\"%per)\n",
    "    \n",
    "for index, per in enumerate(female_rest_per):\n",
    "    plt.text(x = index + 1.0, y = per + 1, s = \"%.3f\"%per)\n",
    "plt.legend()"
   ]
  },
  {
   "cell_type": "code",
   "execution_count": 6,
   "id": "cd00003a",
   "metadata": {},
   "outputs": [
    {
     "data": {
      "text/plain": [
       "<matplotlib.legend.Legend at 0x15937b63cd0>"
      ]
     },
     "execution_count": 6,
     "metadata": {},
     "output_type": "execute_result"
    },
    {
     "data": {
      "image/png": "[encoded data removed]",
      "text/plain": [
       "<Figure size 432x288 with 1 Axes>"
      ]
     },
     "metadata": {
      "needs_background": "light"
     },
     "output_type": "display_data"
    }
   ],
   "source": [
    "male_nature = male_data['자연경관']\n",
    "female_nature = female_data['자연경관']\n",
    "\n",
    "male_nature_per = [0]*5\n",
    "female_nature_per = [0]*5\n",
    "\n",
    "for i in range(1, 5):\n",
    "    male_nature_per[i] = male_nature.value_counts()[i+1] / male_nature.count() * 100\n",
    "    female_nature_per[i] = female_nature.value_counts()[i+1] / female_nature.count() * 100\n",
    "    \n",
    "    \n",
    "x = np.arange(1, 6)\n",
    "#female_eat.value_counts().plot.bar()\n",
    "plt.rc('font', family = 'Malgun Gothic')\n",
    "plt.title(\"성별에 따른 자연경관 선호 비율\")\n",
    "plt.bar(x - 0.2, male_nature_per, 0.4, color ='blue', label = \"male\")\n",
    "plt.bar(x + 0.2, female_nature_per,0.4, color ='red', label = \"female\")\n",
    "\n",
    "for index, per in enumerate(male_nature_per):\n",
    "    plt.text(x = index + 0.6, y = per + 1, s = \"%.3f\"%per)\n",
    "    \n",
    "for index, per in enumerate(female_nature_per):\n",
    "    plt.text(x = index + 1.0, y = per + 1, s = \"%.3f\"%per)\n",
    "plt.legend()"
   ]
  },
  {
   "cell_type": "code",
   "execution_count": 7,
   "id": "e0dd3e61",
   "metadata": {},
   "outputs": [
    {
     "data": {
      "text/plain": [
       "<matplotlib.legend.Legend at 0x15937c0a8e0>"
      ]
     },
     "execution_count": 7,
     "metadata": {},
     "output_type": "execute_result"
    },
    {
     "data": {
      "image/png": "[encoded data removed]",
      "text/plain": [
       "<Figure size 432x288 with 1 Axes>"
      ]
     },
     "metadata": {
      "needs_background": "light"
     },
     "output_type": "display_data"
    }
   ],
   "source": [
    "male_history = male_data['문화유산']\n",
    "female_history = female_data['문화유산']\n",
    "\n",
    "male_history_per = [0]*5\n",
    "female_history_per = [0]*5\n",
    "\n",
    "for i in range(0, 5):\n",
    "    male_history_per[i] = male_history.value_counts()[i+1] / male_history.count() * 100\n",
    "    female_history_per[i] = female_history.value_counts()[i+1] / female_history.count() * 100\n",
    "    \n",
    "    \n",
    "x = np.arange(1, 6)\n",
    "#female_eat.value_counts().plot.bar()\n",
    "plt.rc('font', family = 'Malgun Gothic')\n",
    "plt.title(\"성별에 따른 문화유산 선호 비율\")\n",
    "plt.bar(x - 0.2, male_history_per, 0.4, color ='blue', label = \"male\")\n",
    "plt.bar(x + 0.2, female_history_per,0.4, color ='red', label = \"female\")\n",
    "\n",
    "for index, per in enumerate(male_history_per):\n",
    "    plt.text(x = index + 0.6, y = per + 1, s = \"%.3f\"%per)\n",
    "    \n",
    "for index, per in enumerate(female_history_per):\n",
    "    plt.text(x = index + 1.0, y = per + 1, s = \"%.3f\"%per)\n",
    "plt.legend()"
   ]
  },
  {
   "cell_type": "code",
   "execution_count": 8,
   "id": "443abf25",
   "metadata": {},
   "outputs": [
    {
     "data": {
      "text/plain": [
       "<matplotlib.legend.Legend at 0x15937cb83a0>"
      ]
     },
     "execution_count": 8,
     "metadata": {},
     "output_type": "execute_result"
    },
    {
     "data": {
      "image/png": "[encoded data removed]",
      "text/plain": [
       "<Figure size 432x288 with 1 Axes>"
      ]
     },
     "metadata": {
      "needs_background": "light"
     },
     "output_type": "display_data"
    }
   ],
   "source": [
    "male = male_data['액티비티']\n",
    "female = female_data['액티비티']\n",
    "\n",
    "male_per = [0]*5\n",
    "female_per = [0]*5\n",
    "\n",
    "for i in range(0, 5):\n",
    "    male_per[i] = male.value_counts()[i+1] / male.count() * 100.0\n",
    "    female_per[i] = female.value_counts()[i+1] / female.count() * 100.0\n",
    "    \n",
    "    \n",
    "x = np.arange(1, 6)\n",
    "#female_eat.value_counts().plot.bar()\n",
    "plt.rc('font', family = 'Malgun Gothic')\n",
    "plt.title(\"성별에 따른 액티비티 선호 비율\")\n",
    "plt.bar(x - 0.2, male_per, 0.4, color ='blue', label = \"male\")\n",
    "plt.bar(x + 0.2, female_per,0.4, color ='red', label = \"female\")\n",
    "\n",
    "for index, per in enumerate(male_per):\n",
    "    plt.text(x = index + 0.6, y = per + 1, s = \"%.3f\"%per)\n",
    "    \n",
    "for index, per in enumerate(female_per):\n",
    "    plt.text(x = index + 1.0, y = per + 1, s = \"%.3f\"%per)\n",
    "plt.legend()"
   ]
  },
  {
   "cell_type": "code",
   "execution_count": 9,
   "id": "dbc6cc71",
   "metadata": {},
   "outputs": [
    {
     "data": {
      "text/plain": [
       "<matplotlib.legend.Legend at 0x15937d28dc0>"
      ]
     },
     "execution_count": 9,
     "metadata": {},
     "output_type": "execute_result"
    },
    {
     "data": {
      "image/png": "[encoded data removed]",
      "text/plain": [
       "<Figure size 432x288 with 1 Axes>"
      ]
     },
     "metadata": {
      "needs_background": "light"
     },
     "output_type": "display_data"
    }
   ],
   "source": [
    "male = male_data['쇼핑']\n",
    "female = female_data['쇼핑']\n",
    "\n",
    "male_per = [0]*5\n",
    "female_per = [0]*5\n",
    "\n",
    "for i in range(0, 5):\n",
    "    male_per[i] = male.value_counts()[i+1] / male.count() * 100\n",
    "    female_per[i] = female.value_counts()[i+1] / female.count() * 100\n",
    "    \n",
    "    \n",
    "x = np.arange(1, 6)\n",
    "#female_eat.value_counts().plot.bar()\n",
    "plt.rc('font', family = 'Malgun Gothic')\n",
    "plt.title(\"성별에 따른 쇼핑 선호 비율\")\n",
    "plt.bar(x - 0.2, male_per, 0.4, color ='blue', label = \"male\")\n",
    "plt.bar(x + 0.2, female_per,0.4, color ='red', label = \"female\")\n",
    "\n",
    "for index, per in enumerate(male_per):\n",
    "    plt.text(x = index + 0.6, y = per + 1, s = \"%.3f\"%per)\n",
    "    \n",
    "for index, per in enumerate(female_per):\n",
    "    plt.text(x = index + 1.0, y = per + 1, s = \"%.3f\"%per)\n",
    "plt.legend()"
   ]
  },
  {
   "cell_type": "code",
   "execution_count": 10,
   "id": "c7d1f38a",
   "metadata": {},
   "outputs": [
    {
     "data": {
      "text/plain": [
       "<matplotlib.legend.Legend at 0x15937db8f40>"
      ]
     },
     "execution_count": 10,
     "metadata": {},
     "output_type": "execute_result"
    },
    {
     "data": {
      "image/png": "[encoded data removed]",
      "text/plain": [
       "<Figure size 432x288 with 1 Axes>"
      ]
     },
     "metadata": {
      "needs_background": "light"
     },
     "output_type": "display_data"
    }
   ],
   "source": [
    "male = male_data['공연']\n",
    "female = female_data['공연']\n",
    "\n",
    "male_per = [0]*5\n",
    "female_per = [0]*5\n",
    "\n",
    "for i in range(0, 5):\n",
    "    male_per[i] = male.value_counts()[i+1] / male.count() * 100\n",
    "    female_per[i] = female.value_counts()[i+1] / female.count() * 100\n",
    "    \n",
    "    \n",
    "x = np.arange(1, 6)\n",
    "#female_eat.value_counts().plot.bar()\n",
    "plt.rc('font', family = 'Malgun Gothic')\n",
    "plt.title(\"성별에 따른 공연 선호 비율\")\n",
    "plt.bar(x - 0.2, male_per, 0.4, color ='blue', label = \"male\")\n",
    "plt.bar(x + 0.2, female_per,0.4, color ='red', label = \"female\")\n",
    "for index, per in enumerate(male_per):\n",
    "    plt.text(x = index + 0.6, y = per + 1, s = \"%.3f\"%per)\n",
    "    \n",
    "for index, per in enumerate(female_per):\n",
    "    plt.text(x = index + 1.0, y = per + 1, s = \"%.3f\"%per)\n",
    "plt.legend()"
   ]
  },
  {
   "cell_type": "code",
   "execution_count": 11,
   "id": "0b6e4a33",
   "metadata": {},
   "outputs": [
    {
     "data": {
      "text/plain": [
       "<matplotlib.legend.Legend at 0x15937e37eb0>"
      ]
     },
     "execution_count": 11,
     "metadata": {},
     "output_type": "execute_result"
    },
    {
     "data": {
      "image/png": "[encoded data removed]",
      "text/plain": [
       "<Figure size 432x288 with 1 Axes>"
      ]
     },
     "metadata": {
      "needs_background": "light"
     },
     "output_type": "display_data"
    }
   ],
   "source": [
    "male = male_data['전시물']\n",
    "female = female_data['전시물']\n",
    "\n",
    "male_per = [0]*5\n",
    "female_per = [0]*5\n",
    "\n",
    "for i in range(0, 5):\n",
    "    male_per[i] = male.value_counts()[i+1] / male.count() * 100\n",
    "    female_per[i] = female.value_counts()[i+1] / female.count() * 100\n",
    "    \n",
    "    \n",
    "x = np.arange(1, 6)\n",
    "#female_eat.value_counts().plot.bar()\n",
    "plt.rc('font', family = 'Malgun Gothic')\n",
    "plt.title(\"성별에 따른 전시물 선호 비율\")\n",
    "plt.bar(x - 0.2, male_per, 0.4, color ='blue', label = \"male\")\n",
    "for index, per in enumerate(male_per):\n",
    "    plt.text(x = index + 0.6, y = per + 1, s = \"%.3f\"%per)\n",
    "    \n",
    "plt.bar(x + 0.2, female_per,0.4, color ='red', label = \"female\")\n",
    "for index, per in enumerate(female_per):\n",
    "    plt.text(x = index + 1.0, y = per + 1, s = \"%.3f\"%per)\n",
    "    \n",
    "plt.legend()"
   ]
  },
  {
   "cell_type": "code",
   "execution_count": 12,
   "id": "64cf9225",
   "metadata": {},
   "outputs": [
    {
     "data": {
      "text/plain": [
       "<matplotlib.legend.Legend at 0x15937eba490>"
      ]
     },
     "execution_count": 12,
     "metadata": {},
     "output_type": "execute_result"
    },
    {
     "data": {
      "image/png": "[encoded data removed]",
      "text/plain": [
       "<Figure size 432x288 with 1 Axes>"
      ]
     },
     "metadata": {
      "needs_background": "light"
     },
     "output_type": "display_data"
    }
   ],
   "source": [
    "male = male_data['경험']\n",
    "female = female_data['경험']\n",
    "\n",
    "male_exp_dic = { '맛집':0, '휴양':0,'자연경관':0, '문화유산':0, '액티비티':0, '쇼핑':0, '공연':0, '전시물':0}\n",
    "for male_col in male:\n",
    "    for cat in male_col.split(','):\n",
    "        male_exp_dic[cat.replace(\" \", '')]+=1\n",
    "\n",
    "female_exp_dic = { '맛집':0, '휴양':0,'자연경관':0, '문화유산':0, '액티비티':0, '쇼핑':0, '공연':0, '전시물':0}\n",
    "for female_col in female:\n",
    "    for cat in female_col.split(','):\n",
    "        female_exp_dic[cat.replace(\" \", '')]+=1\n",
    "\n",
    "male_lst = male_exp_dic.items()\n",
    "female_lst = female_exp_dic.items()\n",
    "\n",
    "m_x, m_y = zip(*male_lst)\n",
    "f_x, f_y = zip(*female_lst)\n",
    "x = np.arange(0, 8)\n",
    "plt.title(\"성별에 따른 분류별 경험 여행지 COUNT\")\n",
    "plt.bar(x-0.2, m_y, 0.4, color ='blue', label = \"male\")\n",
    "plt.bar(x+0.2, f_y, 0.4, color ='red', label = \"female\")\n",
    "\n",
    "for index, per in zip(x, m_y):\n",
    "    plt.text(x = index-0.4, y = per + 1, s = per)\n",
    "    \n",
    "for index, per in zip(x, f_y):\n",
    "    plt.text(x = index, y = per + 1, s = per)\n",
    "    \n",
    "plt.xticks(x, m_x)\n",
    "plt.legend()"
   ]
  },
  {
   "cell_type": "code",
   "execution_count": 42,
   "id": "4ba3f349",
   "metadata": {},
   "outputs": [
    {
     "data": {
      "text/plain": [
       "<matplotlib.legend.Legend at 0x1593a0412e0>"
      ]
     },
     "execution_count": 42,
     "metadata": {},
     "output_type": "execute_result"
    },
    {
     "data": {
      "image/png": "[encoded data removed]",
      "text/plain": [
       "<Figure size 432x288 with 1 Axes>"
      ]
     },
     "metadata": {
      "needs_background": "light"
     },
     "output_type": "display_data"
    }
   ],
   "source": [
    "male = male_data['경험']\n",
    "female = female_data['경험']\n",
    "\n",
    "male_want_dic = { '맛집':0, '휴양':0,'자연경관':0, '문화유산':0, '액티비티':0, '쇼핑':0, '공연':0, '전시물':0}\n",
    "for male_col in male:\n",
    "    for cat in male_col.split(','):\n",
    "        male_want_dic[cat.replace(\" \", '')]+=1\n",
    "\n",
    "female_want_dic = { '맛집':0, '휴양':0,'자연경관':0, '문화유산':0, '액티비티':0, '쇼핑':0, '공연':0, '전시물':0}\n",
    "for female_col in female:\n",
    "    for cat in female_col.split(','):\n",
    "        female_want_dic[cat.replace(\" \", '')]+=1\n",
    "\n",
    "male_lst = male_want_dic.items()\n",
    "female_lst = female_want_dic.items()\n",
    "\n",
    "m_x, m_y = zip(*male_lst)\n",
    "f_x, f_y = zip(*female_lst)\n",
    "x = np.arange(0, 8)\n",
    "plt.title(\"성별에 따른 분류별 경험 여행지 COUNT\")\n",
    "plt.bar(x-0.2, m_y, 0.4, color ='blue', label = \"male\")\n",
    "plt.bar(x+0.2, f_y, 0.4, color ='red', label = \"female\")\n",
    "\n",
    "for index, per in zip(x, m_y):\n",
    "    plt.text(x = index-0.4, y = per + 1, s = per)\n",
    "    \n",
    "for index, per in zip(x, f_y):\n",
    "    plt.text(x = index, y = per + 1, s = per)\n",
    "\n",
    "plt.xticks(x, m_x)\n",
    "plt.legend()"
   ]
  },
  {
   "cell_type": "code",
   "execution_count": 56,
   "id": "1fdab8da",
   "metadata": {},
   "outputs": [
    {
     "name": "stdout",
     "output_type": "stream",
     "text": [
      "문화유산\n",
      "문화유산\n",
      "문화유산, 쇼핑, 전시물\n",
      "자연경관, 문화유산\n",
      "자연경관, 문화유산\n",
      "자연경관, 문화유산, 쇼핑\n",
      "휴양, 문화유산\n",
      "휴양, 문화유산, 액티비티\n",
      "휴양, 자연경관, 문화유산\n",
      "문화유산\n",
      "문화유산\n",
      "문화유산\n",
      "문화유산\n",
      "문화유산, 액티비티\n",
      "문화유산, 전시물\n",
      "자연경관, 문화유산\n",
      "자연경관, 문화유산\n",
      "자연경관, 문화유산\n",
      "자연경관, 문화유산, 전시물\n",
      "자연경관, 문화유산, 전시물\n",
      "자연경관, 문화유산, 전시물\n",
      "휴양, 문화유산\n",
      "휴양, 문화유산\n",
      "휴양, 문화유산, 쇼핑\n",
      "휴양, 문화유산, 쇼핑\n",
      "휴양, 자연경관, 문화유산\n",
      "휴양, 자연경관, 문화유산\n",
      "휴양, 자연경관, 문화유산\n",
      "휴양, 자연경관, 문화유산\n",
      "휴양, 자연경관, 문화유산\n",
      "휴양, 자연경관, 문화유산\n",
      "휴양, 자연경관, 문화유산, 공연, 전시물\n",
      "휴양, 자연경관, 문화유산, 쇼핑\n",
      "휴양, 자연경관, 문화유산, 액티비티\n",
      "휴양, 자연경관, 문화유산, 액티비티, 쇼핑, 공연, 전시물\n",
      "{'휴양': 17, '자연경관': 20, '문화유산': 35, '액티비티': 4, '쇼핑': 6, '공연': 2, '전시물': 7}\n"
     ]
    }
   ],
   "source": [
    "#### all_exp_data = df['경험']\n",
    "legacy_contain_data = all_exp_data.loc[all_exp_data.str.contains(\"문화유산\")]\n",
    "\n",
    "legacy_with_cat = {'휴양':0,'자연경관':0, '문화유산' : 0, '액티비티':0, '쇼핑':0, '공연':0, '전시물':0}\n",
    "for data_col in legacy_contain_data:\n",
    "    print(data_col)\n",
    "    for cat in data_col.split(','):\n",
    "        legacy_with_cat[cat.replace(\" \", '')]+=1\n",
    "        \n",
    "print(legacy_with_cat)"
   ]
  },
  {
   "cell_type": "code",
   "execution_count": 49,
   "id": "0df37a75",
   "metadata": {},
   "outputs": [
    {
     "name": "stdout",
     "output_type": "stream",
     "text": [
      "{'휴양': 87, '자연경관': 55, '문화유산': 17, '액티비티': 18, '쇼핑': 14, '공연': 4, '전시물': 5}\n"
     ]
    }
   ],
   "source": [
    "rest_contain_data = all_exp_data.loc[all_exp_data.str.contains(\"휴양\")]\n",
    "\n",
    "rest_with_cat = {'휴양':0,'자연경관':0, '문화유산' : 0, '액티비티':0, '쇼핑':0, '공연':0, '전시물':0}\n",
    "for data_col in rest_contain_data:\n",
    "    for cat in data_col.split(','):\n",
    "        rest_with_cat[cat.replace(\" \", '')]+=1\n",
    "        \n",
    "print(rest_with_cat)"
   ]
  },
  {
   "cell_type": "code",
   "execution_count": 50,
   "id": "4d64017a",
   "metadata": {},
   "outputs": [
    {
     "name": "stdout",
     "output_type": "stream",
     "text": [
      "{'휴양': 18, '자연경관': 14, '문화유산': 4, '액티비티': 29, '쇼핑': 6, '공연': 3, '전시물': 3}\n"
     ]
    }
   ],
   "source": [
    "activ_contain_data = all_exp_data.loc[all_exp_data.str.contains(\"액티비티\")]\n",
    "\n",
    "activ_with_cat = {'휴양':0,'자연경관':0, '문화유산' : 0, '액티비티':0, '쇼핑':0, '공연':0, '전시물':0}\n",
    "for data_col in activ_contain_data:\n",
    "    for cat in data_col.split(','):\n",
    "        activ_with_cat[cat.replace(\" \", '')]+=1\n",
    "        \n",
    "print(activ_with_cat)"
   ]
  },
  {
   "cell_type": "code",
   "execution_count": 51,
   "id": "e2343ac0",
   "metadata": {},
   "outputs": [
    {
     "name": "stdout",
     "output_type": "stream",
     "text": [
      "{'휴양': 14, '자연경관': 9, '문화유산': 6, '액티비티': 6, '쇼핑': 31, '공연': 1, '전시물': 5}\n"
     ]
    }
   ],
   "source": [
    "shop_contain_data = all_exp_data.loc[all_exp_data.str.contains(\"쇼핑\")]\n",
    "\n",
    "shop_with_cat = {'휴양':0,'자연경관':0, '문화유산' : 0, '액티비티':0, '쇼핑':0, '공연':0, '전시물':0}\n",
    "for data_col in shop_contain_data:\n",
    "    for cat in data_col.split(','):\n",
    "        shop_with_cat[cat.replace(\" \", '')]+=1\n",
    "        \n",
    "print(shop_with_cat)"
   ]
  },
  {
   "cell_type": "code",
   "execution_count": 52,
   "id": "ebaef06f",
   "metadata": {},
   "outputs": [
    {
     "name": "stdout",
     "output_type": "stream",
     "text": [
      "{'휴양': 5, '자연경관': 9, '문화유산': 7, '액티비티': 3, '쇼핑': 5, '공연': 2, '전시물': 17}\n"
     ]
    }
   ],
   "source": [
    "exhibit_contain_data = all_exp_data.loc[all_exp_data.str.contains(\"전시물\")]\n",
    "\n",
    "exhibit_with_cat = {'휴양':0,'자연경관':0, '문화유산' : 0, '액티비티':0, '쇼핑':0, '공연':0, '전시물':0}\n",
    "for data_col in exhibit_contain_data:\n",
    "    for cat in data_col.split(','):\n",
    "        exhibit_with_cat[cat.replace(\" \", '')]+=1\n",
    "        \n",
    "print(exhibit_with_cat)"
   ]
  },
  {
   "cell_type": "code",
   "execution_count": 54,
   "id": "6ae72f82",
   "metadata": {},
   "outputs": [
    {
     "name": "stdout",
     "output_type": "stream",
     "text": [
      "{'휴양': 4, '자연경관': 3, '문화유산': 2, '액티비티': 3, '쇼핑': 1, '공연': 5, '전시물': 2}\n"
     ]
    }
   ],
   "source": [
    "perform_contain_data = all_exp_data.loc[all_exp_data.str.contains(\"공연\")]\n",
    "\n",
    "perform_with_cat = {'휴양':0,'자연경관':0, '문화유산' : 0, '액티비티':0, '쇼핑':0, '공연':0, '전시물':0}\n",
    "for data_col in perform_contain_data:\n",
    "    for cat in data_col.split(','):\n",
    "        perform_with_cat[cat.replace(\" \", '')]+=1\n",
    "        \n",
    "print(perform_with_cat)"
   ]
  },
  {
   "cell_type": "code",
   "execution_count": 55,
   "id": "dca0d88f",
   "metadata": {},
   "outputs": [
    {
     "name": "stdout",
     "output_type": "stream",
     "text": [
      "{'휴양': 55, '자연경관': 91, '문화유산': 20, '액티비티': 14, '쇼핑': 9, '공연': 3, '전시물': 9}\n"
     ]
    }
   ],
   "source": [
    "nature_contain_data = all_exp_data.loc[all_exp_data.str.contains(\"자연경관\")]\n",
    "\n",
    "nature_with_cat = {'휴양':0,'자연경관':0, '문화유산' : 0, '액티비티':0, '쇼핑':0, '공연':0, '전시물':0}\n",
    "for data_col in nature_contain_data:\n",
    "    for cat in data_col.split(','):\n",
    "        nature_with_cat[cat.replace(\" \", '')]+=1\n",
    "        \n",
    "print(nature_with_cat)"
   ]
  },
  {
   "cell_type": "code",
   "execution_count": 63,
   "id": "7ac59848",
   "metadata": {},
   "outputs": [
    {
     "name": "stdout",
     "output_type": "stream",
     "text": [
      "쇼핑, 전시물\n",
      "자연경관, 쇼핑\n",
      "자연경관, 액티비티\n",
      "휴양, 문화유산\n",
      "휴양, 자연경관\n",
      "휴양, 자연경관\n",
      "휴양, 자연경관\n",
      "휴양, 자연경관\n",
      "휴양, 자연경관\n",
      "문화유산, 액티비티\n",
      "자연경관, 쇼핑\n",
      "자연경관, 액티비티\n",
      "자연경관, 액티비티\n",
      "자연경관, 액티비티\n",
      "휴양, 문화유산\n",
      "휴양, 문화유산\n",
      "휴양, 자연경관\n",
      "휴양, 자연경관\n",
      "휴양, 자연경관\n",
      "휴양, 자연경관\n",
      "휴양, 자연경관\n",
      "휴양, 자연경관\n",
      "휴양, 자연경관\n",
      "휴양, 자연경관\n",
      "휴양, 자연경관\n",
      "휴양, 자연경관\n",
      "휴양, 자연경관\n",
      "휴양, 자연경관\n",
      "휴양, 자연경관\n",
      "휴양, 자연경관\n",
      "휴양, 자연경관\n",
      "휴양, 자연경관\n",
      "휴양, 자연경관\n",
      "휴양, 자연경관\n",
      "휴양, 자연경관\n",
      "휴양, 자연경관\n",
      "휴양, 자연경관\n",
      "휴양, 자연경관\n",
      "휴양, 자연경관\n",
      "휴양, 자연경관\n",
      "휴양, 자연경관\n",
      "휴양, 자연경관\n",
      "휴양, 자연경관, 문화유산, 쇼핑\n",
      "휴양, 자연경관, 문화유산, 액티비티\n",
      "휴양, 전시물\n",
      "휴양, 전시물\n",
      "48 55 46\n"
     ]
    }
   ],
   "source": [
    "A_cnt, B_cnt = 0, 0\n",
    "etc_case = 0\n",
    "for data in all_exp_data:\n",
    "    data_cat = {'휴양':0,'자연경관':0, '문화유산' : 0, '액티비티':0, '쇼핑':0, '공연':0, '전시물':0}\n",
    "    for cat in data.split(','):\n",
    "        data_cat[cat.replace(\" \", '')]+=1\n",
    "    if data_cat['자연경관'] + data_cat['문화유산'] + data_cat['전시물'] > data_cat['휴양'] + data_cat['액티비티'] + data_cat['쇼핑'] + data_cat['공연']:\n",
    "        A_cnt += 1\n",
    "    elif data_cat['자연경관'] + data_cat['문화유산'] + data_cat['전시물'] < data_cat['휴양'] + data_cat['액티비티'] + data_cat['쇼핑'] + data_cat['공연']:\n",
    "        B_cnt += 1\n",
    "    else:\n",
    "        etc_case += 1\n",
    "        print(data)\n",
    "print(A_cnt, B_cnt, etc_case)\n",
    "        "
   ]
  },
  {
   "cell_type": "code",
   "execution_count": null,
   "id": "87ed560f",
   "metadata": {},
   "outputs": [],
   "source": []
  }
 ],
 "metadata": {
  "kernelspec": {
   "display_name": "Python 3 (ipykernel)",
   "language": "python",
   "name": "python3"
  },
  "language_info": {
   "codemirror_mode": {
    "name": "ipython",
    "version": 3
   },
   "file_extension": ".py",
   "mimetype": "text/x-python",
   "name": "python",
   "nbconvert_exporter": "python",
   "pygments_lexer": "ipython3",
   "version": "3.9.7"
  }
 },
 "nbformat": 4,
 "nbformat_minor": 5
}
