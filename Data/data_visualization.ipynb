{
 "cells": [
  {
   "cell_type": "code",
   "execution_count": 1,
   "id": "8c5217b6",
   "metadata": {},
   "outputs": [],
   "source": [
    "import matplotlib.pyplot as plt\n",
    "import pandas as pd\n",
    "import numpy as np"
   ]
  },
  {
   "cell_type": "code",
   "execution_count": 2,
   "id": "6f33c62b",
   "metadata": {},
   "outputs": [
    {
     "data": {
      "text/html": [
       "<div>\n",
       "<style scoped>\n",
       "    .dataframe tbody tr th:only-of-type {\n",
       "        vertical-align: middle;\n",
       "    }\n",
       "\n",
       "    .dataframe tbody tr th {\n",
       "        vertical-align: top;\n",
       "    }\n",
       "\n",
       "    .dataframe thead th {\n",
       "        text-align: right;\n",
       "    }\n",
       "</style>\n",
       "<table border=\"1\" class=\"dataframe\">\n",
       "  <thead>\n",
       "    <tr style=\"text-align: right;\">\n",
       "      <th></th>\n",
       "      <th>성별</th>\n",
       "      <th>맛집</th>\n",
       "      <th>휴양</th>\n",
       "      <th>자연경관</th>\n",
       "      <th>문화유산</th>\n",
       "      <th>액티비티</th>\n",
       "      <th>쇼핑</th>\n",
       "      <th>공연</th>\n",
       "      <th>전시물</th>\n",
       "      <th>경험</th>\n",
       "      <th>희망</th>\n",
       "    </tr>\n",
       "  </thead>\n",
       "  <tbody>\n",
       "    <tr>\n",
       "      <th>0</th>\n",
       "      <td>남성</td>\n",
       "      <td>4</td>\n",
       "      <td>5</td>\n",
       "      <td>4</td>\n",
       "      <td>1</td>\n",
       "      <td>3</td>\n",
       "      <td>1</td>\n",
       "      <td>3</td>\n",
       "      <td>3</td>\n",
       "      <td>맛집</td>\n",
       "      <td>자연경관</td>\n",
       "    </tr>\n",
       "    <tr>\n",
       "      <th>1</th>\n",
       "      <td>여성</td>\n",
       "      <td>4</td>\n",
       "      <td>2</td>\n",
       "      <td>4</td>\n",
       "      <td>1</td>\n",
       "      <td>4</td>\n",
       "      <td>1</td>\n",
       "      <td>1</td>\n",
       "      <td>1</td>\n",
       "      <td>맛집, 휴양, 자연경관, 액티비티</td>\n",
       "      <td>맛집, 휴양, 자연경관</td>\n",
       "    </tr>\n",
       "    <tr>\n",
       "      <th>2</th>\n",
       "      <td>남성</td>\n",
       "      <td>4</td>\n",
       "      <td>2</td>\n",
       "      <td>5</td>\n",
       "      <td>5</td>\n",
       "      <td>3</td>\n",
       "      <td>3</td>\n",
       "      <td>3</td>\n",
       "      <td>5</td>\n",
       "      <td>자연경관, 문화유산, 전시물</td>\n",
       "      <td>자연경관, 문화유산</td>\n",
       "    </tr>\n",
       "    <tr>\n",
       "      <th>3</th>\n",
       "      <td>남성</td>\n",
       "      <td>5</td>\n",
       "      <td>5</td>\n",
       "      <td>5</td>\n",
       "      <td>5</td>\n",
       "      <td>4</td>\n",
       "      <td>1</td>\n",
       "      <td>4</td>\n",
       "      <td>4</td>\n",
       "      <td>맛집, 휴양, 문화유산, 액티비티</td>\n",
       "      <td>휴양, 자연경관</td>\n",
       "    </tr>\n",
       "    <tr>\n",
       "      <th>4</th>\n",
       "      <td>여성</td>\n",
       "      <td>5</td>\n",
       "      <td>4</td>\n",
       "      <td>5</td>\n",
       "      <td>3</td>\n",
       "      <td>3</td>\n",
       "      <td>2</td>\n",
       "      <td>2</td>\n",
       "      <td>4</td>\n",
       "      <td>휴양, 자연경관</td>\n",
       "      <td>맛집, 자연경관</td>\n",
       "    </tr>\n",
       "    <tr>\n",
       "      <th>...</th>\n",
       "      <td>...</td>\n",
       "      <td>...</td>\n",
       "      <td>...</td>\n",
       "      <td>...</td>\n",
       "      <td>...</td>\n",
       "      <td>...</td>\n",
       "      <td>...</td>\n",
       "      <td>...</td>\n",
       "      <td>...</td>\n",
       "      <td>...</td>\n",
       "      <td>...</td>\n",
       "    </tr>\n",
       "    <tr>\n",
       "      <th>153</th>\n",
       "      <td>남성</td>\n",
       "      <td>5</td>\n",
       "      <td>4</td>\n",
       "      <td>4</td>\n",
       "      <td>4</td>\n",
       "      <td>3</td>\n",
       "      <td>2</td>\n",
       "      <td>4</td>\n",
       "      <td>4</td>\n",
       "      <td>맛집, 휴양, 문화유산</td>\n",
       "      <td>맛집</td>\n",
       "    </tr>\n",
       "    <tr>\n",
       "      <th>154</th>\n",
       "      <td>남성</td>\n",
       "      <td>5</td>\n",
       "      <td>5</td>\n",
       "      <td>4</td>\n",
       "      <td>3</td>\n",
       "      <td>5</td>\n",
       "      <td>1</td>\n",
       "      <td>1</td>\n",
       "      <td>1</td>\n",
       "      <td>맛집, 휴양, 문화유산</td>\n",
       "      <td>자연경관, 액티비티</td>\n",
       "    </tr>\n",
       "    <tr>\n",
       "      <th>155</th>\n",
       "      <td>여성</td>\n",
       "      <td>5</td>\n",
       "      <td>5</td>\n",
       "      <td>5</td>\n",
       "      <td>5</td>\n",
       "      <td>5</td>\n",
       "      <td>5</td>\n",
       "      <td>3</td>\n",
       "      <td>5</td>\n",
       "      <td>휴양, 자연경관, 문화유산</td>\n",
       "      <td>자연경관</td>\n",
       "    </tr>\n",
       "    <tr>\n",
       "      <th>156</th>\n",
       "      <td>남성</td>\n",
       "      <td>5</td>\n",
       "      <td>2</td>\n",
       "      <td>2</td>\n",
       "      <td>2</td>\n",
       "      <td>4</td>\n",
       "      <td>4</td>\n",
       "      <td>4</td>\n",
       "      <td>1</td>\n",
       "      <td>맛집, 쇼핑</td>\n",
       "      <td>액티비티</td>\n",
       "    </tr>\n",
       "    <tr>\n",
       "      <th>157</th>\n",
       "      <td>남성</td>\n",
       "      <td>4</td>\n",
       "      <td>4</td>\n",
       "      <td>5</td>\n",
       "      <td>4</td>\n",
       "      <td>4</td>\n",
       "      <td>3</td>\n",
       "      <td>4</td>\n",
       "      <td>4</td>\n",
       "      <td>자연경관, 문화유산</td>\n",
       "      <td>액티비티</td>\n",
       "    </tr>\n",
       "  </tbody>\n",
       "</table>\n",
       "<p>158 rows × 11 columns</p>\n",
       "</div>"
      ],
      "text/plain": [
       "     성별  맛집  휴양  자연경관  문화유산  액티비티  쇼핑  공연  전시물                  경험  \\\n",
       "0    남성   4   5     4     1     3   1   3    3                  맛집   \n",
       "1    여성   4   2     4     1     4   1   1    1  맛집, 휴양, 자연경관, 액티비티   \n",
       "2    남성   4   2     5     5     3   3   3    5     자연경관, 문화유산, 전시물   \n",
       "3    남성   5   5     5     5     4   1   4    4  맛집, 휴양, 문화유산, 액티비티   \n",
       "4    여성   5   4     5     3     3   2   2    4            휴양, 자연경관   \n",
       "..   ..  ..  ..   ...   ...   ...  ..  ..  ...                 ...   \n",
       "153  남성   5   4     4     4     3   2   4    4        맛집, 휴양, 문화유산   \n",
       "154  남성   5   5     4     3     5   1   1    1        맛집, 휴양, 문화유산   \n",
       "155  여성   5   5     5     5     5   5   3    5      휴양, 자연경관, 문화유산   \n",
       "156  남성   5   2     2     2     4   4   4    1              맛집, 쇼핑   \n",
       "157  남성   4   4     5     4     4   3   4    4          자연경관, 문화유산   \n",
       "\n",
       "               희망  \n",
       "0            자연경관  \n",
       "1    맛집, 휴양, 자연경관  \n",
       "2      자연경관, 문화유산  \n",
       "3        휴양, 자연경관  \n",
       "4        맛집, 자연경관  \n",
       "..            ...  \n",
       "153            맛집  \n",
       "154    자연경관, 액티비티  \n",
       "155          자연경관  \n",
       "156          액티비티  \n",
       "157          액티비티  \n",
       "\n",
       "[158 rows x 11 columns]"
      ]
     },
     "execution_count": 2,
     "metadata": {},
     "output_type": "execute_result"
    }
   ],
   "source": [
    "df = pd.read_csv(\"./survey_data_after.csv\", encoding = \"euc-kr\")\n",
    "df"
   ]
  },
  {
   "cell_type": "code",
   "execution_count": 3,
   "id": "4339a90a",
   "metadata": {},
   "outputs": [
    {
     "data": {
      "text/html": [
       "<div>\n",
       "<style scoped>\n",
       "    .dataframe tbody tr th:only-of-type {\n",
       "        vertical-align: middle;\n",
       "    }\n",
       "\n",
       "    .dataframe tbody tr th {\n",
       "        vertical-align: top;\n",
       "    }\n",
       "\n",
       "    .dataframe thead th {\n",
       "        text-align: right;\n",
       "    }\n",
       "</style>\n",
       "<table border=\"1\" class=\"dataframe\">\n",
       "  <thead>\n",
       "    <tr style=\"text-align: right;\">\n",
       "      <th></th>\n",
       "      <th>성별</th>\n",
       "      <th>맛집</th>\n",
       "      <th>휴양</th>\n",
       "      <th>자연경관</th>\n",
       "      <th>문화유산</th>\n",
       "      <th>액티비티</th>\n",
       "      <th>쇼핑</th>\n",
       "      <th>공연</th>\n",
       "      <th>전시물</th>\n",
       "      <th>경험</th>\n",
       "      <th>희망</th>\n",
       "    </tr>\n",
       "  </thead>\n",
       "  <tbody>\n",
       "    <tr>\n",
       "      <th>0</th>\n",
       "      <td>남성</td>\n",
       "      <td>4</td>\n",
       "      <td>5</td>\n",
       "      <td>4</td>\n",
       "      <td>1</td>\n",
       "      <td>3</td>\n",
       "      <td>1</td>\n",
       "      <td>3</td>\n",
       "      <td>3</td>\n",
       "      <td>맛집</td>\n",
       "      <td>자연경관</td>\n",
       "    </tr>\n",
       "    <tr>\n",
       "      <th>2</th>\n",
       "      <td>남성</td>\n",
       "      <td>4</td>\n",
       "      <td>2</td>\n",
       "      <td>5</td>\n",
       "      <td>5</td>\n",
       "      <td>3</td>\n",
       "      <td>3</td>\n",
       "      <td>3</td>\n",
       "      <td>5</td>\n",
       "      <td>자연경관, 문화유산, 전시물</td>\n",
       "      <td>자연경관, 문화유산</td>\n",
       "    </tr>\n",
       "    <tr>\n",
       "      <th>3</th>\n",
       "      <td>남성</td>\n",
       "      <td>5</td>\n",
       "      <td>5</td>\n",
       "      <td>5</td>\n",
       "      <td>5</td>\n",
       "      <td>4</td>\n",
       "      <td>1</td>\n",
       "      <td>4</td>\n",
       "      <td>4</td>\n",
       "      <td>맛집, 휴양, 문화유산, 액티비티</td>\n",
       "      <td>휴양, 자연경관</td>\n",
       "    </tr>\n",
       "    <tr>\n",
       "      <th>5</th>\n",
       "      <td>남성</td>\n",
       "      <td>5</td>\n",
       "      <td>5</td>\n",
       "      <td>5</td>\n",
       "      <td>3</td>\n",
       "      <td>4</td>\n",
       "      <td>4</td>\n",
       "      <td>3</td>\n",
       "      <td>2</td>\n",
       "      <td>맛집, 휴양</td>\n",
       "      <td>맛집, 휴양, 자연경관</td>\n",
       "    </tr>\n",
       "    <tr>\n",
       "      <th>7</th>\n",
       "      <td>남성</td>\n",
       "      <td>4</td>\n",
       "      <td>4</td>\n",
       "      <td>5</td>\n",
       "      <td>4</td>\n",
       "      <td>5</td>\n",
       "      <td>3</td>\n",
       "      <td>5</td>\n",
       "      <td>5</td>\n",
       "      <td>액티비티, 쇼핑, 전시물</td>\n",
       "      <td>맛집, 문화유산</td>\n",
       "    </tr>\n",
       "    <tr>\n",
       "      <th>...</th>\n",
       "      <td>...</td>\n",
       "      <td>...</td>\n",
       "      <td>...</td>\n",
       "      <td>...</td>\n",
       "      <td>...</td>\n",
       "      <td>...</td>\n",
       "      <td>...</td>\n",
       "      <td>...</td>\n",
       "      <td>...</td>\n",
       "      <td>...</td>\n",
       "      <td>...</td>\n",
       "    </tr>\n",
       "    <tr>\n",
       "      <th>152</th>\n",
       "      <td>남성</td>\n",
       "      <td>3</td>\n",
       "      <td>4</td>\n",
       "      <td>4</td>\n",
       "      <td>5</td>\n",
       "      <td>2</td>\n",
       "      <td>3</td>\n",
       "      <td>3</td>\n",
       "      <td>4</td>\n",
       "      <td>문화유산</td>\n",
       "      <td>휴양, 자연경관</td>\n",
       "    </tr>\n",
       "    <tr>\n",
       "      <th>153</th>\n",
       "      <td>남성</td>\n",
       "      <td>5</td>\n",
       "      <td>4</td>\n",
       "      <td>4</td>\n",
       "      <td>4</td>\n",
       "      <td>3</td>\n",
       "      <td>2</td>\n",
       "      <td>4</td>\n",
       "      <td>4</td>\n",
       "      <td>맛집, 휴양, 문화유산</td>\n",
       "      <td>맛집</td>\n",
       "    </tr>\n",
       "    <tr>\n",
       "      <th>154</th>\n",
       "      <td>남성</td>\n",
       "      <td>5</td>\n",
       "      <td>5</td>\n",
       "      <td>4</td>\n",
       "      <td>3</td>\n",
       "      <td>5</td>\n",
       "      <td>1</td>\n",
       "      <td>1</td>\n",
       "      <td>1</td>\n",
       "      <td>맛집, 휴양, 문화유산</td>\n",
       "      <td>자연경관, 액티비티</td>\n",
       "    </tr>\n",
       "    <tr>\n",
       "      <th>156</th>\n",
       "      <td>남성</td>\n",
       "      <td>5</td>\n",
       "      <td>2</td>\n",
       "      <td>2</td>\n",
       "      <td>2</td>\n",
       "      <td>4</td>\n",
       "      <td>4</td>\n",
       "      <td>4</td>\n",
       "      <td>1</td>\n",
       "      <td>맛집, 쇼핑</td>\n",
       "      <td>액티비티</td>\n",
       "    </tr>\n",
       "    <tr>\n",
       "      <th>157</th>\n",
       "      <td>남성</td>\n",
       "      <td>4</td>\n",
       "      <td>4</td>\n",
       "      <td>5</td>\n",
       "      <td>4</td>\n",
       "      <td>4</td>\n",
       "      <td>3</td>\n",
       "      <td>4</td>\n",
       "      <td>4</td>\n",
       "      <td>자연경관, 문화유산</td>\n",
       "      <td>액티비티</td>\n",
       "    </tr>\n",
       "  </tbody>\n",
       "</table>\n",
       "<p>94 rows × 11 columns</p>\n",
       "</div>"
      ],
      "text/plain": [
       "     성별  맛집  휴양  자연경관  문화유산  액티비티  쇼핑  공연  전시물                  경험  \\\n",
       "0    남성   4   5     4     1     3   1   3    3                  맛집   \n",
       "2    남성   4   2     5     5     3   3   3    5     자연경관, 문화유산, 전시물   \n",
       "3    남성   5   5     5     5     4   1   4    4  맛집, 휴양, 문화유산, 액티비티   \n",
       "5    남성   5   5     5     3     4   4   3    2              맛집, 휴양   \n",
       "7    남성   4   4     5     4     5   3   5    5       액티비티, 쇼핑, 전시물   \n",
       "..   ..  ..  ..   ...   ...   ...  ..  ..  ...                 ...   \n",
       "152  남성   3   4     4     5     2   3   3    4                문화유산   \n",
       "153  남성   5   4     4     4     3   2   4    4        맛집, 휴양, 문화유산   \n",
       "154  남성   5   5     4     3     5   1   1    1        맛집, 휴양, 문화유산   \n",
       "156  남성   5   2     2     2     4   4   4    1              맛집, 쇼핑   \n",
       "157  남성   4   4     5     4     4   3   4    4          자연경관, 문화유산   \n",
       "\n",
       "               희망  \n",
       "0            자연경관  \n",
       "2      자연경관, 문화유산  \n",
       "3        휴양, 자연경관  \n",
       "5    맛집, 휴양, 자연경관  \n",
       "7        맛집, 문화유산  \n",
       "..            ...  \n",
       "152      휴양, 자연경관  \n",
       "153            맛집  \n",
       "154    자연경관, 액티비티  \n",
       "156          액티비티  \n",
       "157          액티비티  \n",
       "\n",
       "[94 rows x 11 columns]"
      ]
     },
     "execution_count": 3,
     "metadata": {},
     "output_type": "execute_result"
    }
   ],
   "source": [
    "male_data = df.query(\"성별 == '남성'\")\n",
    "female_data = df.query(\"성별 == '여성'\")\n",
    "\n",
    "male_data"
   ]
  },
  {
   "cell_type": "code",
   "execution_count": 62,
   "id": "2470b58c",
   "metadata": {},
   "outputs": [
    {
     "data": {
      "text/plain": [
       "<matplotlib.legend.Legend at 0x2d2634b8e80>"
      ]
     },
     "execution_count": 62,
     "metadata": {},
     "output_type": "execute_result"
    },
    {
     "data": {
      "image/png": "[encoded data removed]",
      "text/plain": [
       "<Figure size 432x288 with 1 Axes>"
      ]
     },
     "metadata": {
      "needs_background": "light"
     },
     "output_type": "display_data"
    }
   ],
   "source": [
    "male_eat = male_data['맛집']\n",
    "female_eat = female_data['맛집']\n",
    "#female_eat = female_eat.append(pd.Series([0], index = [1]))\n",
    "\n",
    "male_eat_per = [0]*5\n",
    "female_eat_per = [0]*5\n",
    "\n",
    "for i in range(5):\n",
    "    male_eat_per[i] = male_eat.value_counts()[i+1] / male_eat.count() * 100\n",
    "    \n",
    "    if i == 0:\n",
    "        continue\n",
    "    #female_eat에 1일 경우가 없음.\n",
    "    female_eat_per[i] = female_eat.value_counts()[i+1] / female_eat.count() * 100\n",
    "    \n",
    "    \n",
    "x = np.arange(1, 6)\n",
    "#female_eat.value_counts().plot.bar()\n",
    "plt.rc('font', family = 'Malgun Gothic')\n",
    "plt.title(\"성별에 따른 맛집 선호 비율\")\n",
    "plt.bar(x - 0.2, male_eat_per, 0.4, color ='blue', label = \"male\")\n",
    "plt.bar(x + 0.2, female_eat_per,0.4, color ='red', label = \"female\")\n",
    "for index, per in enumerate(male_eat_per):\n",
    "    plt.text(x = index + 0.6, y = per + 1, s = \"%.3f\"%per)\n",
    "    \n",
    "for index, per in enumerate(female_eat_per):\n",
    "    plt.text(x = index + 1.0, y = per + 1, s = \"%.3f\"%per)\n",
    "plt.legend()"
   ]
  },
  {
   "cell_type": "code",
   "execution_count": 61,
   "id": "2b7f8b4b",
   "metadata": {
    "scrolled": true
   },
   "outputs": [
    {
     "data": {
      "text/plain": [
       "<matplotlib.legend.Legend at 0x2d2635fea30>"
      ]
     },
     "execution_count": 61,
     "metadata": {},
     "output_type": "execute_result"
    },
    {
     "data": {
      "image/png": "[encoded data removed]",
      "text/plain": [
       "<Figure size 432x288 with 1 Axes>"
      ]
     },
     "metadata": {
      "needs_background": "light"
     },
     "output_type": "display_data"
    }
   ],
   "source": [
    "male_rest = male_data['휴양']\n",
    "female_rest = female_data['휴양']\n",
    "\n",
    "male_rest_per = [0]*5\n",
    "female_rest_per = [0]*5\n",
    "\n",
    "for i in range(1, 5):\n",
    "    male_rest_per[i] = male_rest.value_counts()[i+1] / male_rest.count() * 100\n",
    "    female_rest_per[i] = female_rest.value_counts()[i+1] / female_rest.count() * 100\n",
    "    \n",
    "    \n",
    "x = np.arange(1, 6)\n",
    "#female_eat.value_counts().plot.bar()\n",
    "plt.rc('font', family = 'Malgun Gothic')\n",
    "plt.title(\"성별에 따른 휴양 선호 비율\")\n",
    "plt.bar(x - 0.2, male_rest_per, 0.4, color ='blue', label = \"male\")\n",
    "plt.bar(x + 0.2, female_rest_per,0.4, color ='red', label = \"female\")\n",
    "\n",
    "for index, per in enumerate(male_rest_per):\n",
    "    plt.text(x = index + 0.6, y = per + 1, s = \"%.3f\"%per)\n",
    "    \n",
    "for index, per in enumerate(female_rest_per):\n",
    "    plt.text(x = index + 1.0, y = per + 1, s = \"%.3f\"%per)\n",
    "plt.legend()"
   ]
  },
  {
   "cell_type": "code",
   "execution_count": 60,
   "id": "cd00003a",
   "metadata": {},
   "outputs": [
    {
     "data": {
      "text/plain": [
       "<matplotlib.legend.Legend at 0x2d263699f40>"
      ]
     },
     "execution_count": 60,
     "metadata": {},
     "output_type": "execute_result"
    },
    {
     "data": {
      "image/png": "[encoded data removed]",
      "text/plain": [
       "<Figure size 432x288 with 1 Axes>"
      ]
     },
     "metadata": {
      "needs_background": "light"
     },
     "output_type": "display_data"
    }
   ],
   "source": [
    "male_nature = male_data['자연경관']\n",
    "female_nature = female_data['자연경관']\n",
    "\n",
    "male_nature_per = [0]*5\n",
    "female_nature_per = [0]*5\n",
    "\n",
    "for i in range(1, 5):\n",
    "    male_nature_per[i] = male_nature.value_counts()[i+1] / male_nature.count() * 100\n",
    "    female_nature_per[i] = female_nature.value_counts()[i+1] / female_nature.count() * 100\n",
    "    \n",
    "    \n",
    "x = np.arange(1, 6)\n",
    "#female_eat.value_counts().plot.bar()\n",
    "plt.rc('font', family = 'Malgun Gothic')\n",
    "plt.title(\"성별에 따른 자연경관 선호 비율\")\n",
    "plt.bar(x - 0.2, male_nature_per, 0.4, color ='blue', label = \"male\")\n",
    "plt.bar(x + 0.2, female_nature_per,0.4, color ='red', label = \"female\")\n",
    "\n",
    "for index, per in enumerate(male_nature_per):\n",
    "    plt.text(x = index + 0.6, y = per + 1, s = \"%.3f\"%per)\n",
    "    \n",
    "for index, per in enumerate(female_nature_per):\n",
    "    plt.text(x = index + 1.0, y = per + 1, s = \"%.3f\"%per)\n",
    "plt.legend()"
   ]
  },
  {
   "cell_type": "code",
   "execution_count": 59,
   "id": "e0dd3e61",
   "metadata": {},
   "outputs": [
    {
     "data": {
      "text/plain": [
       "<matplotlib.legend.Legend at 0x2d2668b0be0>"
      ]
     },
     "execution_count": 59,
     "metadata": {},
     "output_type": "execute_result"
    },
    {
     "data": {
      "image/png": "[encoded data removed]",
      "text/plain": [
       "<Figure size 432x288 with 1 Axes>"
      ]
     },
     "metadata": {
      "needs_background": "light"
     },
     "output_type": "display_data"
    }
   ],
   "source": [
    "male_history = male_data['문화유산']\n",
    "female_history = female_data['문화유산']\n",
    "\n",
    "male_history_per = [0]*5\n",
    "female_history_per = [0]*5\n",
    "\n",
    "for i in range(0, 5):\n",
    "    male_history_per[i] = male_history.value_counts()[i+1] / male_history.count() * 100\n",
    "    female_history_per[i] = female_history.value_counts()[i+1] / female_history.count() * 100\n",
    "    \n",
    "    \n",
    "x = np.arange(1, 6)\n",
    "#female_eat.value_counts().plot.bar()\n",
    "plt.rc('font', family = 'Malgun Gothic')\n",
    "plt.title(\"성별에 따른 문화유산 선호 비율\")\n",
    "plt.bar(x - 0.2, male_history_per, 0.4, color ='blue', label = \"male\")\n",
    "plt.bar(x + 0.2, female_history_per,0.4, color ='red', label = \"female\")\n",
    "\n",
    "for index, per in enumerate(male_history_per):\n",
    "    plt.text(x = index + 0.6, y = per + 1, s = \"%.3f\"%per)\n",
    "    \n",
    "for index, per in enumerate(female_history_per):\n",
    "    plt.text(x = index + 1.0, y = per + 1, s = \"%.3f\"%per)\n",
    "plt.legend()"
   ]
  },
  {
   "cell_type": "code",
   "execution_count": 57,
   "id": "443abf25",
   "metadata": {},
   "outputs": [
    {
     "data": {
      "text/plain": [
       "<matplotlib.legend.Legend at 0x2d26677e850>"
      ]
     },
     "execution_count": 57,
     "metadata": {},
     "output_type": "execute_result"
    },
    {
     "data": {
      "image/png": "[encoded data removed]",
      "text/plain": [
       "<Figure size 432x288 with 1 Axes>"
      ]
     },
     "metadata": {
      "needs_background": "light"
     },
     "output_type": "display_data"
    }
   ],
   "source": [
    "male = male_data['액티비티']\n",
    "female = female_data['액티비티']\n",
    "\n",
    "male_per = [0]*5\n",
    "female_per = [0]*5\n",
    "\n",
    "for i in range(0, 5):\n",
    "    male_per[i] = male.value_counts()[i+1] / male.count() * 100.0\n",
    "    female_per[i] = female.value_counts()[i+1] / female.count() * 100.0\n",
    "    \n",
    "    \n",
    "x = np.arange(1, 6)\n",
    "#female_eat.value_counts().plot.bar()\n",
    "plt.rc('font', family = 'Malgun Gothic')\n",
    "plt.title(\"성별에 따른 액티비티 선호 비율\")\n",
    "plt.bar(x - 0.2, male_per, 0.4, color ='blue', label = \"male\")\n",
    "plt.bar(x + 0.2, female_per,0.4, color ='red', label = \"female\")\n",
    "\n",
    "for index, per in enumerate(male_per):\n",
    "    plt.text(x = index + 0.6, y = per + 1, s = \"%.3f\"%per)\n",
    "    \n",
    "for index, per in enumerate(female_per):\n",
    "    plt.text(x = index + 1.0, y = per + 1, s = \"%.3f\"%per)\n",
    "plt.legend()"
   ]
  },
  {
   "cell_type": "code",
   "execution_count": 56,
   "id": "dbc6cc71",
   "metadata": {},
   "outputs": [
    {
     "data": {
      "text/plain": [
       "<matplotlib.legend.Legend at 0x2d2666e39d0>"
      ]
     },
     "execution_count": 56,
     "metadata": {},
     "output_type": "execute_result"
    },
    {
     "data": {
      "image/png": "[encoded data removed]",
      "text/plain": [
       "<Figure size 432x288 with 1 Axes>"
      ]
     },
     "metadata": {
      "needs_background": "light"
     },
     "output_type": "display_data"
    }
   ],
   "source": [
    "male = male_data['쇼핑']\n",
    "female = female_data['쇼핑']\n",
    "\n",
    "male_per = [0]*5\n",
    "female_per = [0]*5\n",
    "\n",
    "for i in range(0, 5):\n",
    "    male_per[i] = male.value_counts()[i+1] / male.count() * 100\n",
    "    female_per[i] = female.value_counts()[i+1] / female.count() * 100\n",
    "    \n",
    "    \n",
    "x = np.arange(1, 6)\n",
    "#female_eat.value_counts().plot.bar()\n",
    "plt.rc('font', family = 'Malgun Gothic')\n",
    "plt.title(\"성별에 따른 쇼핑 선호 비율\")\n",
    "plt.bar(x - 0.2, male_per, 0.4, color ='blue', label = \"male\")\n",
    "plt.bar(x + 0.2, female_per,0.4, color ='red', label = \"female\")\n",
    "\n",
    "for index, per in enumerate(male_per):\n",
    "    plt.text(x = index + 0.6, y = per + 1, s = \"%.3f\"%per)\n",
    "    \n",
    "for index, per in enumerate(female_per):\n",
    "    plt.text(x = index + 1.0, y = per + 1, s = \"%.3f\"%per)\n",
    "plt.legend()"
   ]
  },
  {
   "cell_type": "code",
   "execution_count": 55,
   "id": "c7d1f38a",
   "metadata": {},
   "outputs": [
    {
     "data": {
      "text/plain": [
       "<matplotlib.legend.Legend at 0x2d26664ec40>"
      ]
     },
     "execution_count": 55,
     "metadata": {},
     "output_type": "execute_result"
    },
    {
     "data": {
      "image/png": "[encoded data removed]",
      "text/plain": [
       "<Figure size 432x288 with 1 Axes>"
      ]
     },
     "metadata": {
      "needs_background": "light"
     },
     "output_type": "display_data"
    }
   ],
   "source": [
    "male = male_data['공연']\n",
    "female = female_data['공연']\n",
    "\n",
    "male_per = [0]*5\n",
    "female_per = [0]*5\n",
    "\n",
    "for i in range(0, 5):\n",
    "    male_per[i] = male.value_counts()[i+1] / male.count() * 100\n",
    "    female_per[i] = female.value_counts()[i+1] / female.count() * 100\n",
    "    \n",
    "    \n",
    "x = np.arange(1, 6)\n",
    "#female_eat.value_counts().plot.bar()\n",
    "plt.rc('font', family = 'Malgun Gothic')\n",
    "plt.title(\"성별에 따른 공연 선호 비율\")\n",
    "plt.bar(x - 0.2, male_per, 0.4, color ='blue', label = \"male\")\n",
    "plt.bar(x + 0.2, female_per,0.4, color ='red', label = \"female\")\n",
    "for index, per in enumerate(male_per):\n",
    "    plt.text(x = index + 0.6, y = per + 1, s = \"%.3f\"%per)\n",
    "    \n",
    "for index, per in enumerate(female_per):\n",
    "    plt.text(x = index + 1.0, y = per + 1, s = \"%.3f\"%per)\n",
    "plt.legend()"
   ]
  },
  {
   "cell_type": "code",
   "execution_count": 53,
   "id": "0b6e4a33",
   "metadata": {},
   "outputs": [
    {
     "data": {
      "text/plain": [
       "<matplotlib.legend.Legend at 0x2d2665b7640>"
      ]
     },
     "execution_count": 53,
     "metadata": {},
     "output_type": "execute_result"
    },
    {
     "data": {
      "image/png": "[encoded data removed]",
      "text/plain": [
       "<Figure size 432x288 with 1 Axes>"
      ]
     },
     "metadata": {
      "needs_background": "light"
     },
     "output_type": "display_data"
    }
   ],
   "source": [
    "male = male_data['전시물']\n",
    "female = female_data['전시물']\n",
    "\n",
    "male_per = [0]*5\n",
    "female_per = [0]*5\n",
    "\n",
    "for i in range(0, 5):\n",
    "    male_per[i] = male.value_counts()[i+1] / male.count() * 100\n",
    "    female_per[i] = female.value_counts()[i+1] / female.count() * 100\n",
    "    \n",
    "    \n",
    "x = np.arange(1, 6)\n",
    "#female_eat.value_counts().plot.bar()\n",
    "plt.rc('font', family = 'Malgun Gothic')\n",
    "plt.title(\"성별에 따른 전시물 선호 비율\")\n",
    "plt.bar(x - 0.2, male_per, 0.4, color ='blue', label = \"male\")\n",
    "for index, per in enumerate(male_per):\n",
    "    plt.text(x = index + 0.6, y = per + 1, s = \"%.3f\"%per)\n",
    "    \n",
    "plt.bar(x + 0.2, female_per,0.4, color ='red', label = \"female\")\n",
    "for index, per in enumerate(female_per):\n",
    "    plt.text(x = index + 1.0, y = per + 1, s = \"%.3f\"%per)\n",
    "    \n",
    "plt.legend()"
   ]
  },
  {
   "cell_type": "code",
   "execution_count": 79,
   "id": "64cf9225",
   "metadata": {},
   "outputs": [
    {
     "data": {
      "text/plain": [
       "<matplotlib.legend.Legend at 0x2d2683289a0>"
      ]
     },
     "execution_count": 79,
     "metadata": {},
     "output_type": "execute_result"
    },
    {
     "data": {
      "image/png": "[encoded data removed]",
      "text/plain": [
       "<Figure size 432x288 with 1 Axes>"
      ]
     },
     "metadata": {
      "needs_background": "light"
     },
     "output_type": "display_data"
    }
   ],
   "source": [
    "male = male_data['경험']\n",
    "female = female_data['경험']\n",
    "\n",
    "male_exp_dic = { '맛집':0, '휴양':0,'자연경관':0, '문화유산':0, '액티비티':0, '쇼핑':0, '공연':0, '전시물':0}\n",
    "for male_col in male:\n",
    "    for cat in male_col.split(','):\n",
    "        male_exp_dic[cat.replace(\" \", '')]+=1\n",
    "\n",
    "female_exp_dic = { '맛집':0, '휴양':0,'자연경관':0, '문화유산':0, '액티비티':0, '쇼핑':0, '공연':0, '전시물':0}\n",
    "for female_col in female:\n",
    "    for cat in female_col.split(','):\n",
    "        female_exp_dic[cat.replace(\" \", '')]+=1\n",
    "\n",
    "male_lst = male_exp_dic.items()\n",
    "female_lst = female_exp_dic.items()\n",
    "\n",
    "m_x, m_y = zip(*male_lst)\n",
    "f_x, f_y = zip(*female_lst)\n",
    "x = np.arange(0, 8)\n",
    "plt.title(\"성별에 따른 분류별 경험 여행지 COUNT\")\n",
    "plt.bar(x-0.2, m_y, 0.4, color ='blue', label = \"male\")\n",
    "plt.bar(x+0.2, f_y, 0.4, color ='red', label = \"female\")\n",
    "\n",
    "for index, per in zip(x, m_y):\n",
    "    plt.text(x = index-0.4, y = per + 1, s = per)\n",
    "    \n",
    "for index, per in zip(x, f_y):\n",
    "    plt.text(x = index, y = per + 1, s = per)\n",
    "    \n",
    "plt.xticks(x, m_x)\n",
    "plt.legend()"
   ]
  },
  {
   "cell_type": "code",
   "execution_count": 78,
   "id": "4ba3f349",
   "metadata": {},
   "outputs": [
    {
     "data": {
      "text/plain": [
       "<matplotlib.legend.Legend at 0x2d268281280>"
      ]
     },
     "execution_count": 78,
     "metadata": {},
     "output_type": "execute_result"
    },
    {
     "data": {
      "image/png": "[encoded data removed]",
      "text/plain": [
       "<Figure size 432x288 with 1 Axes>"
      ]
     },
     "metadata": {
      "needs_background": "light"
     },
     "output_type": "display_data"
    }
   ],
   "source": [
    "male = male_data['희망']\n",
    "female = female_data['희망']\n",
    "\n",
    "male_want_dic = { '맛집':0, '휴양':0,'자연경관':0, '문화유산':0, '액티비티':0, '쇼핑':0, '공연':0, '전시물':0}\n",
    "for male_col in male:\n",
    "    for cat in male_col.split(','):\n",
    "        male_want_dic[cat.replace(\" \", '')]+=1\n",
    "\n",
    "female_want_dic = { '맛집':0, '휴양':0,'자연경관':0, '문화유산':0, '액티비티':0, '쇼핑':0, '공연':0, '전시물':0}\n",
    "for female_col in female:\n",
    "    for cat in female_col.split(','):\n",
    "        female_want_dic[cat.replace(\" \", '')]+=1\n",
    "\n",
    "male_lst = male_want_dic.items()\n",
    "female_lst = female_want_dic.items()\n",
    "\n",
    "m_x, m_y = zip(*male_lst)\n",
    "f_x, f_y = zip(*female_lst)\n",
    "x = np.arange(0, 8)\n",
    "plt.title(\"성별에 따른 분류별 희망 여행지 COUNT\")\n",
    "plt.bar(x-0.2, m_y, 0.4, color ='blue', label = \"male\")\n",
    "plt.bar(x+0.2, f_y, 0.4, color ='red', label = \"female\")\n",
    "\n",
    "for index, per in zip(x, m_y):\n",
    "    plt.text(x = index-0.4, y = per + 1, s = per)\n",
    "    \n",
    "for index, per in zip(x, f_y):\n",
    "    plt.text(x = index, y = per + 1, s = per)\n",
    "\n",
    "plt.xticks(x, m_x)\n",
    "plt.legend()"
   ]
  }
 ],
 "metadata": {
  "kernelspec": {
   "display_name": "Python 3 (ipykernel)",
   "language": "python",
   "name": "python3"
  },
  "language_info": {
   "codemirror_mode": {
    "name": "ipython",
    "version": 3
   },
   "file_extension": ".py",
   "mimetype": "text/x-python",
   "name": "python",
   "nbconvert_exporter": "python",
   "pygments_lexer": "ipython3",
   "version": "3.9.7"
  }
 },
 "nbformat": 4,
 "nbformat_minor": 5
}
